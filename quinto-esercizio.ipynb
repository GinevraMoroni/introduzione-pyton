{
 "cells": [
  {
   "cell_type": "markdown",
   "id": "812e7a4b",
   "metadata": {},
   "source": [
    "## Numeri in python\n",
    "\n",
    "Python utilizza oggetti complessi per la gestione dei numeri, a differenza quindi di altri linguaggi di programmazione la memoria è gestita \"dinamicamente\" (per molti tipi di dato numerici non ci sono limiti di memoria.\n",
    "\n",
    "I numeri con parte decimale sono trattati in maniera diversa dai num interi (cambia anche il tipo)"
   ]
  },
  {
   "cell_type": "code",
   "execution_count": 2,
   "id": "9568fddf",
   "metadata": {},
   "outputs": [
    {
     "data": {
      "text/plain": [
       "float"
      ]
     },
     "execution_count": 2,
     "metadata": {},
     "output_type": "execute_result"
    }
   ],
   "source": [
    "type(1.5)"
   ]
  },
  {
   "cell_type": "markdown",
   "id": "e1b45fdd",
   "metadata": {},
   "source": [
    "Possibili codifiche per numeri in python.\n",
    "\n",
    "Aggiungendo 0x davanti ad una sequenza indico una codifica esadecimale (base10)"
   ]
  },
  {
   "cell_type": "code",
   "execution_count": 3,
   "id": "9caa97f0",
   "metadata": {},
   "outputs": [
    {
     "data": {
      "text/plain": [
       "16"
      ]
     },
     "execution_count": 3,
     "metadata": {},
     "output_type": "execute_result"
    }
   ],
   "source": [
    "0x10"
   ]
  },
  {
   "cell_type": "code",
   "execution_count": 6,
   "id": "948bb451",
   "metadata": {},
   "outputs": [
    {
     "data": {
      "text/plain": [
       "10"
      ]
     },
     "execution_count": 6,
     "metadata": {},
     "output_type": "execute_result"
    }
   ],
   "source": [
    "0xa"
   ]
  },
  {
   "cell_type": "code",
   "execution_count": 7,
   "id": "f3df634e",
   "metadata": {},
   "outputs": [
    {
     "data": {
      "text/plain": [
       "11"
      ]
     },
     "execution_count": 7,
     "metadata": {},
     "output_type": "execute_result"
    }
   ],
   "source": [
    "0xb"
   ]
  },
  {
   "cell_type": "code",
   "execution_count": 8,
   "id": "e23694d9",
   "metadata": {},
   "outputs": [
    {
     "data": {
      "text/plain": [
       "15"
      ]
     },
     "execution_count": 8,
     "metadata": {},
     "output_type": "execute_result"
    }
   ],
   "source": [
    "0xf"
   ]
  },
  {
   "cell_type": "code",
   "execution_count": 9,
   "id": "ebc41ccb",
   "metadata": {},
   "outputs": [
    {
     "data": {
      "text/plain": [
       "1108925418175680210621004354477953079144"
      ]
     },
     "execution_count": 9,
     "metadata": {},
     "output_type": "execute_result"
    }
   ],
   "source": [
    "0x342434453464586980752143254675768"
   ]
  },
  {
   "cell_type": "markdown",
   "id": "c0e589f9",
   "metadata": {},
   "source": [
    "Aggiungendo 0b indico una cifra binaria (una potenza di 2)"
   ]
  },
  {
   "cell_type": "code",
   "execution_count": 10,
   "id": "fbf1eaa8",
   "metadata": {},
   "outputs": [
    {
     "name": "stdout",
     "output_type": "stream",
     "text": [
      "16\n"
     ]
    }
   ],
   "source": [
    "print(0b10000)"
   ]
  },
  {
   "cell_type": "code",
   "execution_count": 11,
   "id": "f69b19cb",
   "metadata": {},
   "outputs": [
    {
     "name": "stdout",
     "output_type": "stream",
     "text": [
      "4194304\n"
     ]
    }
   ],
   "source": [
    "print(0b10000000000000000000000)"
   ]
  },
  {
   "cell_type": "markdown",
   "id": "c5c94ab9",
   "metadata": {},
   "source": [
    "Python supporta nativamente i numeri complessi.\n",
    "\n",
    "Le operazioni matematiche fondamentali sono supportate"
   ]
  },
  {
   "cell_type": "code",
   "execution_count": 26,
   "id": "0f9a3781",
   "metadata": {},
   "outputs": [
    {
     "name": "stdout",
     "output_type": "stream",
     "text": [
      "1j <class 'complex'>\n",
      "(2+1j) <class 'complex'>\n",
      "2.0 1.0\n",
      "(1+5j)\n",
      "(2+11j)\n",
      "<class 'int'>\n",
      "(6.123233995736766e-17+1j) <class 'complex'>\n"
     ]
    }
   ],
   "source": [
    "c=1j\n",
    "print(c, type(c))\n",
    "\n",
    "d=2+1j\n",
    "print(d, type(d))\n",
    "\n",
    "print(d.real, d.imag)\n",
    "\n",
    "c_2=-1+4j\n",
    "print(d+c_2)\n",
    "print(d**3)\n",
    "\n",
    "print(type(-1))\n",
    "print((-1)**.5, type((-1)**.5))"
   ]
  },
  {
   "cell_type": "markdown",
   "id": "ca0b5839",
   "metadata": {},
   "source": [
    "True, False e None.\n",
    "I primi rappresentano i valori di una booleana.\n"
   ]
  },
  {
   "cell_type": "code",
   "execution_count": 28,
   "id": "b9f08977",
   "metadata": {},
   "outputs": [
    {
     "data": {
      "text/plain": [
       "[24, 27, 30, 33, 36, 39, 42, 45, 48, 51]"
      ]
     },
     "execution_count": 28,
     "metadata": {},
     "output_type": "execute_result"
    }
   ],
   "source": [
    "[n for n in range(23,52) if n%3==0]"
   ]
  },
  {
   "cell_type": "code",
   "execution_count": 29,
   "id": "adf69ce5",
   "metadata": {},
   "outputs": [
    {
     "data": {
      "text/plain": [
       "[24, -27, 30, -33, 36, -39, 42, -45, 48, -51]"
      ]
     },
     "execution_count": 29,
     "metadata": {},
     "output_type": "execute_result"
    }
   ],
   "source": [
    "[(n if n%2==0 else -n) for n in range(23,52) if n%3==0]"
   ]
  },
  {
   "cell_type": "markdown",
   "id": "49351e78",
   "metadata": {},
   "source": [
    "è possibile salvare in una variabile i valori booleani direttam.\n",
    "In alcune occasioni la computazione porta ad avere dei valori mancanti, in alcuni casi è possibile usare il valore none per indicarne la mancanza."
   ]
  },
  {
   "cell_type": "code",
   "execution_count": 30,
   "id": "cf49f06c",
   "metadata": {},
   "outputs": [],
   "source": [
    "a = True\n",
    "b = False"
   ]
  },
  {
   "cell_type": "code",
   "execution_count": 32,
   "id": "b94e1968",
   "metadata": {},
   "outputs": [],
   "source": [
    "a=10\n",
    "b=0\n",
    "try:\n",
    "    c=a/b\n",
    "except:\n",
    "    c= None"
   ]
  },
  {
   "cell_type": "code",
   "execution_count": 33,
   "id": "b78b27b1",
   "metadata": {},
   "outputs": [
    {
     "name": "stdout",
     "output_type": "stream",
     "text": [
      "10 0 None\n"
     ]
    }
   ],
   "source": [
    "print(a,b,c)"
   ]
  },
  {
   "cell_type": "markdown",
   "id": "890d3e6f",
   "metadata": {},
   "source": [
    "## ESERCIZI"
   ]
  },
  {
   "cell_type": "markdown",
   "id": "66bb7057",
   "metadata": {},
   "source": [
    "1.\n",
    "\n",
    "Data una stringa “s” contare il numero di doppie presenti:\n",
    " ES.\n",
    "\n",
    "s = “aeiou” -> 0\n",
    "\n",
    "s = “tutto” -> 1\n",
    "\n",
    "s = “ttatt” -> 2"
   ]
  },
  {
   "cell_type": "code",
   "execution_count": 48,
   "id": "3ebf361b",
   "metadata": {},
   "outputs": [
    {
     "name": "stdout",
     "output_type": "stream",
     "text": [
      "0\n"
     ]
    }
   ],
   "source": [
    "s='tutto'\n",
    "count = 0\n",
    "for i in s:\n",
    "    if i=='ii':\n",
    "        count = count +1\n",
    "print(count)\n",
    "\n",
    "#print(s.count(n for n in s if n == nn])"
   ]
  },
  {
   "cell_type": "markdown",
   "id": "b2797622",
   "metadata": {},
   "source": [
    "2.\n",
    "\n",
    "Creare un dizionario con le seguenti entries:\n",
    "\n",
    "“cane”: “domestico”\n",
    "“gatto”: “domestico”\n",
    "“leopardo”: “selvatico”\n",
    "“zebra”:selvatico”\n",
    "\n",
    "creare una struttura che rovescia il dizionario e che risulti in un nuovo dizionario con i seguenti elementi:\n",
    "\n",
    "“domestico”: [“cane”, “gatto”]\n",
    "“selvatico”: [“leopardo”, “zebra”]\n"
   ]
  },
  {
   "cell_type": "code",
   "execution_count": 42,
   "id": "188c6ba5",
   "metadata": {},
   "outputs": [
    {
     "name": "stdout",
     "output_type": "stream",
     "text": [
      "{'cane': 'domestico', 'gatto': 'domestico', 'leopardo': 'selvatico', 'zebra': 'selvatico'}\n"
     ]
    },
    {
     "ename": "ValueError",
     "evalue": "too many values to unpack (expected 2)",
     "output_type": "error",
     "traceback": [
      "\u001b[1;31m---------------------------------------------------------------------------\u001b[0m",
      "\u001b[1;31mValueError\u001b[0m                                Traceback (most recent call last)",
      "Cell \u001b[1;32mIn [42], line 10\u001b[0m\n\u001b[0;32m      6\u001b[0m \u001b[38;5;28mprint\u001b[39m(animali)\n\u001b[0;32m      8\u001b[0m animali\u001b[38;5;241m.\u001b[39mkeys()\n\u001b[1;32m---> 10\u001b[0m animali_inv \u001b[38;5;241m=\u001b[39m {value: [key,key] \u001b[38;5;28;01mfor\u001b[39;00m [key,key] , value \u001b[38;5;129;01min\u001b[39;00m animali\u001b[38;5;241m.\u001b[39mitems()}\n\u001b[0;32m     11\u001b[0m \u001b[38;5;28mprint\u001b[39m(animali_inv)\n",
      "Cell \u001b[1;32mIn [42], line 10\u001b[0m, in \u001b[0;36m<dictcomp>\u001b[1;34m(.0)\u001b[0m\n\u001b[0;32m      6\u001b[0m \u001b[38;5;28mprint\u001b[39m(animali)\n\u001b[0;32m      8\u001b[0m animali\u001b[38;5;241m.\u001b[39mkeys()\n\u001b[1;32m---> 10\u001b[0m animali_inv \u001b[38;5;241m=\u001b[39m {value: [key,key] \u001b[38;5;28;01mfor\u001b[39;00m [key,key] , value \u001b[38;5;129;01min\u001b[39;00m animali\u001b[38;5;241m.\u001b[39mitems()}\n\u001b[0;32m     11\u001b[0m \u001b[38;5;28mprint\u001b[39m(animali_inv)\n",
      "\u001b[1;31mValueError\u001b[0m: too many values to unpack (expected 2)"
     ]
    }
   ],
   "source": [
    "animali = dict()\n",
    "animali['cane'] = 'domestico'\n",
    "animali['gatto'] = 'domestico'\n",
    "animali['leopardo'] = 'selvatico'\n",
    "animali['zebra'] = 'selvatico'\n",
    "print(animali)\n",
    "\n",
    "animali.keys()\n",
    "\n",
    "animali_inv = {value: [key,key] for key, value in animali.items()}\n",
    "print(animali_inv)\n",
    "#animali.items()"
   ]
  },
  {
   "cell_type": "markdown",
   "id": "1bd8237b",
   "metadata": {},
   "source": [
    "3.\n",
    "\n",
    "Dato l’elenco città sotto forma di dizionario uguale a quello che abbiamo visto nell’esercizio:\n",
    "elenco_citta = dict()\n",
    "\n",
    "#Utilizza come identifictivo la chiave per salvare il valore\n",
    "elenco_citta['Roma'] = 'Francia'\n",
    "\n",
    "#Sovrascrivendo il valore corrispondente ad una chiave esistente verrà effettuata la sostituzione\n",
    "elenco_citta['Roma'] = 'Italia'\n",
    "elenco_citta['Napoli'] = 'Italia'\n",
    "elenco_citta['Barcelona'] = 'Spagna'\n",
    "print(elenco_citta)\n",
    "\n",
    "creare una lista dei soli nomi dei PAESI corrispondenti alle città che contengono la lettera “R” sia minuscola che maiuscola in modo tale che le lettere dei paesi siano invertite e che la prima lettera del paese sia maiuscola (mentre tutte le altre minuscole).\n",
    "\n",
    "R è in Roma ed in Barcelona\n",
    "lista dei paesi [Italia, Spagna]\n",
    "invertiamo le stringhe\n",
    "[ailatI, angapS]\n",
    "mettiamo a posto i caratteri maiuscoli e minuscoli come richiesto\n",
    "[Ailati, Angaps]\n",
    "\n"
   ]
  }
 ],
 "metadata": {
  "kernelspec": {
   "display_name": "Python 3 (ipykernel)",
   "language": "python",
   "name": "python3"
  },
  "language_info": {
   "codemirror_mode": {
    "name": "ipython",
    "version": 3
   },
   "file_extension": ".py",
   "mimetype": "text/x-python",
   "name": "python",
   "nbconvert_exporter": "python",
   "pygments_lexer": "ipython3",
   "version": "3.10.7"
  }
 },
 "nbformat": 4,
 "nbformat_minor": 5
}
