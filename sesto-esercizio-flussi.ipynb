{
 "cells": [
  {
   "cell_type": "markdown",
   "id": "be41b5b4",
   "metadata": {},
   "source": [
    "## FLUSSI\n",
    "Ricorda: si possono importare librerie. Importeremo una libreria di sistema per la gestione di numeri casuali. Verranno anche introdotti i principali costrutti per la gestione dei flussi.\n",
    "\n",
    "Flussi -> blocchi di codice che ci permettono di istanziare cicli, istruzioni come if/else, che valutano statemant ed eseguono blocchi di codice."
   ]
  },
  {
   "cell_type": "markdown",
   "id": "0a715db4",
   "metadata": {},
   "source": [
    "### RANDOM\n",
    "\n",
    "Libreria che ha varie funzioni per lavorare con i numeri randomici.\n",
    "\n",
    "[funzione(n) for n in range(50)]\n",
    "\n",
    "In alcuni casi la lista deve essere popolata di elementi che non sono in funzione della variabile sulla quale si itera(n). Ad esempio se ho bisogno di chiamare una funzione che restituisce un valore random (e quindi ad ogni chiamata mi aspetto un valore randomico possibilmente diverso dagli altri). In qiuesto caso la sintassi della comprehension sarebbe simile alla seguente:\n",
    "\n",
    "[funzione_random(x,y,...) for n in range(50)]\n",
    "\n",
    "Molto spesso gli sviluppatori utilizzano in questo caso il simbolo (trattinobasso) per indicare la variabile su cui si itera.\n",
    "Il motivo è che non aveva senso dare un nome significativo a tale variabile.\n",
    "\n",
    "[funzione_random(x,y,...) for _ in range(50)]"
   ]
  },
  {
   "cell_type": "code",
   "execution_count": 1,
   "id": "309dc697",
   "metadata": {},
   "outputs": [],
   "source": [
    "import random"
   ]
  },
  {
   "cell_type": "code",
   "execution_count": 2,
   "id": "8391a3e3",
   "metadata": {},
   "outputs": [
    {
     "name": "stdout",
     "output_type": "stream",
     "text": [
      "Help on module random:\n",
      "\n",
      "NAME\n",
      "    random - Random variable generators.\n",
      "\n",
      "MODULE REFERENCE\n",
      "    https://docs.python.org/3.10/library/random.html\n",
      "    \n",
      "    The following documentation is automatically generated from the Python\n",
      "    source files.  It may be incomplete, incorrect or include features that\n",
      "    are considered implementation detail and may vary between Python\n",
      "    implementations.  When in doubt, consult the module reference at the\n",
      "    location listed above.\n",
      "\n",
      "DESCRIPTION\n",
      "        bytes\n",
      "        -----\n",
      "               uniform bytes (values between 0 and 255)\n",
      "    \n",
      "        integers\n",
      "        --------\n",
      "               uniform within range\n",
      "    \n",
      "        sequences\n",
      "        ---------\n",
      "               pick random element\n",
      "               pick random sample\n",
      "               pick weighted random sample\n",
      "               generate random permutation\n",
      "    \n",
      "        distributions on the real line:\n",
      "        ------------------------------\n",
      "               uniform\n",
      "               triangular\n",
      "               normal (Gaussian)\n",
      "               lognormal\n",
      "               negative exponential\n",
      "               gamma\n",
      "               beta\n",
      "               pareto\n",
      "               Weibull\n",
      "    \n",
      "        distributions on the circle (angles 0 to 2pi)\n",
      "        ---------------------------------------------\n",
      "               circular uniform\n",
      "               von Mises\n",
      "    \n",
      "    General notes on the underlying Mersenne Twister core generator:\n",
      "    \n",
      "    * The period is 2**19937-1.\n",
      "    * It is one of the most extensively tested generators in existence.\n",
      "    * The random() method is implemented in C, executes in a single Python step,\n",
      "      and is, therefore, threadsafe.\n",
      "\n",
      "CLASSES\n",
      "    _random.Random(builtins.object)\n",
      "        Random\n",
      "            SystemRandom\n",
      "    \n",
      "    class Random(_random.Random)\n",
      "     |  Random(x=None)\n",
      "     |  \n",
      "     |  Random number generator base class used by bound module functions.\n",
      "     |  \n",
      "     |  Used to instantiate instances of Random to get generators that don't\n",
      "     |  share state.\n",
      "     |  \n",
      "     |  Class Random can also be subclassed if you want to use a different basic\n",
      "     |  generator of your own devising: in that case, override the following\n",
      "     |  methods:  random(), seed(), getstate(), and setstate().\n",
      "     |  Optionally, implement a getrandbits() method so that randrange()\n",
      "     |  can cover arbitrarily large ranges.\n",
      "     |  \n",
      "     |  Method resolution order:\n",
      "     |      Random\n",
      "     |      _random.Random\n",
      "     |      builtins.object\n",
      "     |  \n",
      "     |  Methods defined here:\n",
      "     |  \n",
      "     |  __getstate__(self)\n",
      "     |      # Issue 17489: Since __reduce__ was defined to fix #759889 this is no\n",
      "     |      # longer called; we leave it here because it has been here since random was\n",
      "     |      # rewritten back in 2001 and why risk breaking something.\n",
      "     |  \n",
      "     |  __init__(self, x=None)\n",
      "     |      Initialize an instance.\n",
      "     |      \n",
      "     |      Optional argument x controls seeding, as for Random.seed().\n",
      "     |  \n",
      "     |  __reduce__(self)\n",
      "     |      Helper for pickle.\n",
      "     |  \n",
      "     |  __setstate__(self, state)\n",
      "     |  \n",
      "     |  betavariate(self, alpha, beta)\n",
      "     |      Beta distribution.\n",
      "     |      \n",
      "     |      Conditions on the parameters are alpha > 0 and beta > 0.\n",
      "     |      Returned values range between 0 and 1.\n",
      "     |  \n",
      "     |  choice(self, seq)\n",
      "     |      Choose a random element from a non-empty sequence.\n",
      "     |  \n",
      "     |  choices(self, population, weights=None, *, cum_weights=None, k=1)\n",
      "     |      Return a k sized list of population elements chosen with replacement.\n",
      "     |      \n",
      "     |      If the relative weights or cumulative weights are not specified,\n",
      "     |      the selections are made with equal probability.\n",
      "     |  \n",
      "     |  expovariate(self, lambd)\n",
      "     |      Exponential distribution.\n",
      "     |      \n",
      "     |      lambd is 1.0 divided by the desired mean.  It should be\n",
      "     |      nonzero.  (The parameter would be called \"lambda\", but that is\n",
      "     |      a reserved word in Python.)  Returned values range from 0 to\n",
      "     |      positive infinity if lambd is positive, and from negative\n",
      "     |      infinity to 0 if lambd is negative.\n",
      "     |  \n",
      "     |  gammavariate(self, alpha, beta)\n",
      "     |      Gamma distribution.  Not the gamma function!\n",
      "     |      \n",
      "     |      Conditions on the parameters are alpha > 0 and beta > 0.\n",
      "     |      \n",
      "     |      The probability distribution function is:\n",
      "     |      \n",
      "     |                  x ** (alpha - 1) * math.exp(-x / beta)\n",
      "     |        pdf(x) =  --------------------------------------\n",
      "     |                    math.gamma(alpha) * beta ** alpha\n",
      "     |  \n",
      "     |  gauss(self, mu, sigma)\n",
      "     |      Gaussian distribution.\n",
      "     |      \n",
      "     |      mu is the mean, and sigma is the standard deviation.  This is\n",
      "     |      slightly faster than the normalvariate() function.\n",
      "     |      \n",
      "     |      Not thread-safe without a lock around calls.\n",
      "     |  \n",
      "     |  getstate(self)\n",
      "     |      Return internal state; can be passed to setstate() later.\n",
      "     |  \n",
      "     |  lognormvariate(self, mu, sigma)\n",
      "     |      Log normal distribution.\n",
      "     |      \n",
      "     |      If you take the natural logarithm of this distribution, you'll get a\n",
      "     |      normal distribution with mean mu and standard deviation sigma.\n",
      "     |      mu can have any value, and sigma must be greater than zero.\n",
      "     |  \n",
      "     |  normalvariate(self, mu, sigma)\n",
      "     |      Normal distribution.\n",
      "     |      \n",
      "     |      mu is the mean, and sigma is the standard deviation.\n",
      "     |  \n",
      "     |  paretovariate(self, alpha)\n",
      "     |      Pareto distribution.  alpha is the shape parameter.\n",
      "     |  \n",
      "     |  randbytes(self, n)\n",
      "     |      Generate n random bytes.\n",
      "     |  \n",
      "     |  randint(self, a, b)\n",
      "     |      Return random integer in range [a, b], including both end points.\n",
      "     |  \n",
      "     |  randrange(self, start, stop=None, step=1)\n",
      "     |      Choose a random item from range(start, stop[, step]).\n",
      "     |      \n",
      "     |      This fixes the problem with randint() which includes the\n",
      "     |      endpoint; in Python this is usually not what you want.\n",
      "     |  \n",
      "     |  sample(self, population, k, *, counts=None)\n",
      "     |      Chooses k unique random elements from a population sequence or set.\n",
      "     |      \n",
      "     |      Returns a new list containing elements from the population while\n",
      "     |      leaving the original population unchanged.  The resulting list is\n",
      "     |      in selection order so that all sub-slices will also be valid random\n",
      "     |      samples.  This allows raffle winners (the sample) to be partitioned\n",
      "     |      into grand prize and second place winners (the subslices).\n",
      "     |      \n",
      "     |      Members of the population need not be hashable or unique.  If the\n",
      "     |      population contains repeats, then each occurrence is a possible\n",
      "     |      selection in the sample.\n",
      "     |      \n",
      "     |      Repeated elements can be specified one at a time or with the optional\n",
      "     |      counts parameter.  For example:\n",
      "     |      \n",
      "     |          sample(['red', 'blue'], counts=[4, 2], k=5)\n",
      "     |      \n",
      "     |      is equivalent to:\n",
      "     |      \n",
      "     |          sample(['red', 'red', 'red', 'red', 'blue', 'blue'], k=5)\n",
      "     |      \n",
      "     |      To choose a sample from a range of integers, use range() for the\n",
      "     |      population argument.  This is especially fast and space efficient\n",
      "     |      for sampling from a large population:\n",
      "     |      \n",
      "     |          sample(range(10000000), 60)\n",
      "     |  \n",
      "     |  seed(self, a=None, version=2)\n",
      "     |      Initialize internal state from a seed.\n",
      "     |      \n",
      "     |      The only supported seed types are None, int, float,\n",
      "     |      str, bytes, and bytearray.\n",
      "     |      \n",
      "     |      None or no argument seeds from current time or from an operating\n",
      "     |      system specific randomness source if available.\n",
      "     |      \n",
      "     |      If *a* is an int, all bits are used.\n",
      "     |      \n",
      "     |      For version 2 (the default), all of the bits are used if *a* is a str,\n",
      "     |      bytes, or bytearray.  For version 1 (provided for reproducing random\n",
      "     |      sequences from older versions of Python), the algorithm for str and\n",
      "     |      bytes generates a narrower range of seeds.\n",
      "     |  \n",
      "     |  setstate(self, state)\n",
      "     |      Restore internal state from object returned by getstate().\n",
      "     |  \n",
      "     |  shuffle(self, x, random=None)\n",
      "     |      Shuffle list x in place, and return None.\n",
      "     |      \n",
      "     |      Optional argument random is a 0-argument function returning a\n",
      "     |      random float in [0.0, 1.0); if it is the default None, the\n",
      "     |      standard random.random will be used.\n",
      "     |  \n",
      "     |  triangular(self, low=0.0, high=1.0, mode=None)\n",
      "     |      Triangular distribution.\n",
      "     |      \n",
      "     |      Continuous distribution bounded by given lower and upper limits,\n",
      "     |      and having a given mode value in-between.\n",
      "     |      \n",
      "     |      http://en.wikipedia.org/wiki/Triangular_distribution\n",
      "     |  \n",
      "     |  uniform(self, a, b)\n",
      "     |      Get a random number in the range [a, b) or [a, b] depending on rounding.\n",
      "     |  \n",
      "     |  vonmisesvariate(self, mu, kappa)\n",
      "     |      Circular data distribution.\n",
      "     |      \n",
      "     |      mu is the mean angle, expressed in radians between 0 and 2*pi, and\n",
      "     |      kappa is the concentration parameter, which must be greater than or\n",
      "     |      equal to zero.  If kappa is equal to zero, this distribution reduces\n",
      "     |      to a uniform random angle over the range 0 to 2*pi.\n",
      "     |  \n",
      "     |  weibullvariate(self, alpha, beta)\n",
      "     |      Weibull distribution.\n",
      "     |      \n",
      "     |      alpha is the scale parameter and beta is the shape parameter.\n",
      "     |  \n",
      "     |  ----------------------------------------------------------------------\n",
      "     |  Class methods defined here:\n",
      "     |  \n",
      "     |  __init_subclass__(**kwargs) from builtins.type\n",
      "     |      Control how subclasses generate random integers.\n",
      "     |      \n",
      "     |      The algorithm a subclass can use depends on the random() and/or\n",
      "     |      getrandbits() implementation available to it and determines\n",
      "     |      whether it can generate random integers from arbitrarily large\n",
      "     |      ranges.\n",
      "     |  \n",
      "     |  ----------------------------------------------------------------------\n",
      "     |  Data descriptors defined here:\n",
      "     |  \n",
      "     |  __dict__\n",
      "     |      dictionary for instance variables (if defined)\n",
      "     |  \n",
      "     |  __weakref__\n",
      "     |      list of weak references to the object (if defined)\n",
      "     |  \n",
      "     |  ----------------------------------------------------------------------\n",
      "     |  Data and other attributes defined here:\n",
      "     |  \n",
      "     |  VERSION = 3\n",
      "     |  \n",
      "     |  ----------------------------------------------------------------------\n",
      "     |  Methods inherited from _random.Random:\n",
      "     |  \n",
      "     |  getrandbits(self, k, /)\n",
      "     |      getrandbits(k) -> x.  Generates an int with k random bits.\n",
      "     |  \n",
      "     |  random(self, /)\n",
      "     |      random() -> x in the interval [0, 1).\n",
      "     |  \n",
      "     |  ----------------------------------------------------------------------\n",
      "     |  Static methods inherited from _random.Random:\n",
      "     |  \n",
      "     |  __new__(*args, **kwargs) from builtins.type\n",
      "     |      Create and return a new object.  See help(type) for accurate signature.\n",
      "    \n",
      "    class SystemRandom(Random)\n",
      "     |  SystemRandom(x=None)\n",
      "     |  \n",
      "     |  Alternate random number generator using sources provided\n",
      "     |  by the operating system (such as /dev/urandom on Unix or\n",
      "     |  CryptGenRandom on Windows).\n",
      "     |  \n",
      "     |   Not available on all systems (see os.urandom() for details).\n",
      "     |  \n",
      "     |  Method resolution order:\n",
      "     |      SystemRandom\n",
      "     |      Random\n",
      "     |      _random.Random\n",
      "     |      builtins.object\n",
      "     |  \n",
      "     |  Methods defined here:\n",
      "     |  \n",
      "     |  getrandbits(self, k)\n",
      "     |      getrandbits(k) -> x.  Generates an int with k random bits.\n",
      "     |  \n",
      "     |  getstate = _notimplemented(self, *args, **kwds)\n",
      "     |  \n",
      "     |  randbytes(self, n)\n",
      "     |      Generate n random bytes.\n",
      "     |  \n",
      "     |  random(self)\n",
      "     |      Get the next random number in the range [0.0, 1.0).\n",
      "     |  \n",
      "     |  seed(self, *args, **kwds)\n",
      "     |      Stub method.  Not used for a system random number generator.\n",
      "     |  \n",
      "     |  setstate = _notimplemented(self, *args, **kwds)\n",
      "     |  \n",
      "     |  ----------------------------------------------------------------------\n",
      "     |  Methods inherited from Random:\n",
      "     |  \n",
      "     |  __getstate__(self)\n",
      "     |      # Issue 17489: Since __reduce__ was defined to fix #759889 this is no\n",
      "     |      # longer called; we leave it here because it has been here since random was\n",
      "     |      # rewritten back in 2001 and why risk breaking something.\n",
      "     |  \n",
      "     |  __init__(self, x=None)\n",
      "     |      Initialize an instance.\n",
      "     |      \n",
      "     |      Optional argument x controls seeding, as for Random.seed().\n",
      "     |  \n",
      "     |  __reduce__(self)\n",
      "     |      Helper for pickle.\n",
      "     |  \n",
      "     |  __setstate__(self, state)\n",
      "     |  \n",
      "     |  betavariate(self, alpha, beta)\n",
      "     |      Beta distribution.\n",
      "     |      \n",
      "     |      Conditions on the parameters are alpha > 0 and beta > 0.\n",
      "     |      Returned values range between 0 and 1.\n",
      "     |  \n",
      "     |  choice(self, seq)\n",
      "     |      Choose a random element from a non-empty sequence.\n",
      "     |  \n",
      "     |  choices(self, population, weights=None, *, cum_weights=None, k=1)\n",
      "     |      Return a k sized list of population elements chosen with replacement.\n",
      "     |      \n",
      "     |      If the relative weights or cumulative weights are not specified,\n",
      "     |      the selections are made with equal probability.\n",
      "     |  \n",
      "     |  expovariate(self, lambd)\n",
      "     |      Exponential distribution.\n",
      "     |      \n",
      "     |      lambd is 1.0 divided by the desired mean.  It should be\n",
      "     |      nonzero.  (The parameter would be called \"lambda\", but that is\n",
      "     |      a reserved word in Python.)  Returned values range from 0 to\n",
      "     |      positive infinity if lambd is positive, and from negative\n",
      "     |      infinity to 0 if lambd is negative.\n",
      "     |  \n",
      "     |  gammavariate(self, alpha, beta)\n",
      "     |      Gamma distribution.  Not the gamma function!\n",
      "     |      \n",
      "     |      Conditions on the parameters are alpha > 0 and beta > 0.\n",
      "     |      \n",
      "     |      The probability distribution function is:\n",
      "     |      \n",
      "     |                  x ** (alpha - 1) * math.exp(-x / beta)\n",
      "     |        pdf(x) =  --------------------------------------\n",
      "     |                    math.gamma(alpha) * beta ** alpha\n",
      "     |  \n",
      "     |  gauss(self, mu, sigma)\n",
      "     |      Gaussian distribution.\n",
      "     |      \n",
      "     |      mu is the mean, and sigma is the standard deviation.  This is\n",
      "     |      slightly faster than the normalvariate() function.\n",
      "     |      \n",
      "     |      Not thread-safe without a lock around calls.\n",
      "     |  \n",
      "     |  lognormvariate(self, mu, sigma)\n",
      "     |      Log normal distribution.\n",
      "     |      \n",
      "     |      If you take the natural logarithm of this distribution, you'll get a\n",
      "     |      normal distribution with mean mu and standard deviation sigma.\n",
      "     |      mu can have any value, and sigma must be greater than zero.\n",
      "     |  \n",
      "     |  normalvariate(self, mu, sigma)\n",
      "     |      Normal distribution.\n",
      "     |      \n",
      "     |      mu is the mean, and sigma is the standard deviation.\n",
      "     |  \n",
      "     |  paretovariate(self, alpha)\n",
      "     |      Pareto distribution.  alpha is the shape parameter.\n",
      "     |  \n",
      "     |  randint(self, a, b)\n",
      "     |      Return random integer in range [a, b], including both end points.\n",
      "     |  \n",
      "     |  randrange(self, start, stop=None, step=1)\n",
      "     |      Choose a random item from range(start, stop[, step]).\n",
      "     |      \n",
      "     |      This fixes the problem with randint() which includes the\n",
      "     |      endpoint; in Python this is usually not what you want.\n",
      "     |  \n",
      "     |  sample(self, population, k, *, counts=None)\n",
      "     |      Chooses k unique random elements from a population sequence or set.\n",
      "     |      \n",
      "     |      Returns a new list containing elements from the population while\n",
      "     |      leaving the original population unchanged.  The resulting list is\n",
      "     |      in selection order so that all sub-slices will also be valid random\n",
      "     |      samples.  This allows raffle winners (the sample) to be partitioned\n",
      "     |      into grand prize and second place winners (the subslices).\n",
      "     |      \n",
      "     |      Members of the population need not be hashable or unique.  If the\n",
      "     |      population contains repeats, then each occurrence is a possible\n",
      "     |      selection in the sample.\n",
      "     |      \n",
      "     |      Repeated elements can be specified one at a time or with the optional\n",
      "     |      counts parameter.  For example:\n",
      "     |      \n",
      "     |          sample(['red', 'blue'], counts=[4, 2], k=5)\n",
      "     |      \n",
      "     |      is equivalent to:\n",
      "     |      \n",
      "     |          sample(['red', 'red', 'red', 'red', 'blue', 'blue'], k=5)\n",
      "     |      \n",
      "     |      To choose a sample from a range of integers, use range() for the\n",
      "     |      population argument.  This is especially fast and space efficient\n",
      "     |      for sampling from a large population:\n",
      "     |      \n",
      "     |          sample(range(10000000), 60)\n",
      "     |  \n",
      "     |  shuffle(self, x, random=None)\n",
      "     |      Shuffle list x in place, and return None.\n",
      "     |      \n",
      "     |      Optional argument random is a 0-argument function returning a\n",
      "     |      random float in [0.0, 1.0); if it is the default None, the\n",
      "     |      standard random.random will be used.\n",
      "     |  \n",
      "     |  triangular(self, low=0.0, high=1.0, mode=None)\n",
      "     |      Triangular distribution.\n",
      "     |      \n",
      "     |      Continuous distribution bounded by given lower and upper limits,\n",
      "     |      and having a given mode value in-between.\n",
      "     |      \n",
      "     |      http://en.wikipedia.org/wiki/Triangular_distribution\n",
      "     |  \n",
      "     |  uniform(self, a, b)\n",
      "     |      Get a random number in the range [a, b) or [a, b] depending on rounding.\n",
      "     |  \n",
      "     |  vonmisesvariate(self, mu, kappa)\n",
      "     |      Circular data distribution.\n",
      "     |      \n",
      "     |      mu is the mean angle, expressed in radians between 0 and 2*pi, and\n",
      "     |      kappa is the concentration parameter, which must be greater than or\n",
      "     |      equal to zero.  If kappa is equal to zero, this distribution reduces\n",
      "     |      to a uniform random angle over the range 0 to 2*pi.\n",
      "     |  \n",
      "     |  weibullvariate(self, alpha, beta)\n",
      "     |      Weibull distribution.\n",
      "     |      \n",
      "     |      alpha is the scale parameter and beta is the shape parameter.\n",
      "     |  \n",
      "     |  ----------------------------------------------------------------------\n",
      "     |  Class methods inherited from Random:\n",
      "     |  \n",
      "     |  __init_subclass__(**kwargs) from builtins.type\n",
      "     |      Control how subclasses generate random integers.\n",
      "     |      \n",
      "     |      The algorithm a subclass can use depends on the random() and/or\n",
      "     |      getrandbits() implementation available to it and determines\n",
      "     |      whether it can generate random integers from arbitrarily large\n",
      "     |      ranges.\n",
      "     |  \n",
      "     |  ----------------------------------------------------------------------\n",
      "     |  Data descriptors inherited from Random:\n",
      "     |  \n",
      "     |  __dict__\n",
      "     |      dictionary for instance variables (if defined)\n",
      "     |  \n",
      "     |  __weakref__\n",
      "     |      list of weak references to the object (if defined)\n",
      "     |  \n",
      "     |  ----------------------------------------------------------------------\n",
      "     |  Data and other attributes inherited from Random:\n",
      "     |  \n",
      "     |  VERSION = 3\n",
      "     |  \n",
      "     |  ----------------------------------------------------------------------\n",
      "     |  Static methods inherited from _random.Random:\n",
      "     |  \n",
      "     |  __new__(*args, **kwargs) from builtins.type\n",
      "     |      Create and return a new object.  See help(type) for accurate signature.\n",
      "\n",
      "FUNCTIONS\n",
      "    betavariate(alpha, beta) method of Random instance\n",
      "        Beta distribution.\n",
      "        \n",
      "        Conditions on the parameters are alpha > 0 and beta > 0.\n",
      "        Returned values range between 0 and 1.\n",
      "    \n",
      "    choice(seq) method of Random instance\n",
      "        Choose a random element from a non-empty sequence.\n",
      "    \n",
      "    choices(population, weights=None, *, cum_weights=None, k=1) method of Random instance\n",
      "        Return a k sized list of population elements chosen with replacement.\n",
      "        \n",
      "        If the relative weights or cumulative weights are not specified,\n",
      "        the selections are made with equal probability.\n",
      "    \n",
      "    expovariate(lambd) method of Random instance\n",
      "        Exponential distribution.\n",
      "        \n",
      "        lambd is 1.0 divided by the desired mean.  It should be\n",
      "        nonzero.  (The parameter would be called \"lambda\", but that is\n",
      "        a reserved word in Python.)  Returned values range from 0 to\n",
      "        positive infinity if lambd is positive, and from negative\n",
      "        infinity to 0 if lambd is negative.\n",
      "    \n",
      "    gammavariate(alpha, beta) method of Random instance\n",
      "        Gamma distribution.  Not the gamma function!\n",
      "        \n",
      "        Conditions on the parameters are alpha > 0 and beta > 0.\n",
      "        \n",
      "        The probability distribution function is:\n",
      "        \n",
      "                    x ** (alpha - 1) * math.exp(-x / beta)\n",
      "          pdf(x) =  --------------------------------------\n",
      "                      math.gamma(alpha) * beta ** alpha\n",
      "    \n",
      "    gauss(mu, sigma) method of Random instance\n",
      "        Gaussian distribution.\n",
      "        \n",
      "        mu is the mean, and sigma is the standard deviation.  This is\n",
      "        slightly faster than the normalvariate() function.\n",
      "        \n",
      "        Not thread-safe without a lock around calls.\n",
      "    \n",
      "    getrandbits(k, /) method of Random instance\n",
      "        getrandbits(k) -> x.  Generates an int with k random bits.\n",
      "    \n",
      "    getstate() method of Random instance\n",
      "        Return internal state; can be passed to setstate() later.\n",
      "    \n",
      "    lognormvariate(mu, sigma) method of Random instance\n",
      "        Log normal distribution.\n",
      "        \n",
      "        If you take the natural logarithm of this distribution, you'll get a\n",
      "        normal distribution with mean mu and standard deviation sigma.\n",
      "        mu can have any value, and sigma must be greater than zero.\n",
      "    \n",
      "    normalvariate(mu, sigma) method of Random instance\n",
      "        Normal distribution.\n",
      "        \n",
      "        mu is the mean, and sigma is the standard deviation.\n",
      "    \n",
      "    paretovariate(alpha) method of Random instance\n",
      "        Pareto distribution.  alpha is the shape parameter.\n",
      "    \n",
      "    randbytes(n) method of Random instance\n",
      "        Generate n random bytes.\n",
      "    \n",
      "    randint(a, b) method of Random instance\n",
      "        Return random integer in range [a, b], including both end points.\n",
      "    \n",
      "    random() method of Random instance\n",
      "        random() -> x in the interval [0, 1).\n",
      "    \n",
      "    randrange(start, stop=None, step=1) method of Random instance\n",
      "        Choose a random item from range(start, stop[, step]).\n",
      "        \n",
      "        This fixes the problem with randint() which includes the\n",
      "        endpoint; in Python this is usually not what you want.\n",
      "    \n",
      "    sample(population, k, *, counts=None) method of Random instance\n",
      "        Chooses k unique random elements from a population sequence or set.\n",
      "        \n",
      "        Returns a new list containing elements from the population while\n",
      "        leaving the original population unchanged.  The resulting list is\n",
      "        in selection order so that all sub-slices will also be valid random\n",
      "        samples.  This allows raffle winners (the sample) to be partitioned\n",
      "        into grand prize and second place winners (the subslices).\n",
      "        \n",
      "        Members of the population need not be hashable or unique.  If the\n",
      "        population contains repeats, then each occurrence is a possible\n",
      "        selection in the sample.\n",
      "        \n",
      "        Repeated elements can be specified one at a time or with the optional\n",
      "        counts parameter.  For example:\n",
      "        \n",
      "            sample(['red', 'blue'], counts=[4, 2], k=5)\n",
      "        \n",
      "        is equivalent to:\n",
      "        \n",
      "            sample(['red', 'red', 'red', 'red', 'blue', 'blue'], k=5)\n",
      "        \n",
      "        To choose a sample from a range of integers, use range() for the\n",
      "        population argument.  This is especially fast and space efficient\n",
      "        for sampling from a large population:\n",
      "        \n",
      "            sample(range(10000000), 60)\n",
      "    \n",
      "    seed(a=None, version=2) method of Random instance\n",
      "        Initialize internal state from a seed.\n",
      "        \n",
      "        The only supported seed types are None, int, float,\n",
      "        str, bytes, and bytearray.\n",
      "        \n",
      "        None or no argument seeds from current time or from an operating\n",
      "        system specific randomness source if available.\n",
      "        \n",
      "        If *a* is an int, all bits are used.\n",
      "        \n",
      "        For version 2 (the default), all of the bits are used if *a* is a str,\n",
      "        bytes, or bytearray.  For version 1 (provided for reproducing random\n",
      "        sequences from older versions of Python), the algorithm for str and\n",
      "        bytes generates a narrower range of seeds.\n",
      "    \n",
      "    setstate(state) method of Random instance\n",
      "        Restore internal state from object returned by getstate().\n",
      "    \n",
      "    shuffle(x, random=None) method of Random instance\n",
      "        Shuffle list x in place, and return None.\n",
      "        \n",
      "        Optional argument random is a 0-argument function returning a\n",
      "        random float in [0.0, 1.0); if it is the default None, the\n",
      "        standard random.random will be used.\n",
      "    \n",
      "    triangular(low=0.0, high=1.0, mode=None) method of Random instance\n",
      "        Triangular distribution.\n",
      "        \n",
      "        Continuous distribution bounded by given lower and upper limits,\n",
      "        and having a given mode value in-between.\n",
      "        \n",
      "        http://en.wikipedia.org/wiki/Triangular_distribution\n",
      "    \n",
      "    uniform(a, b) method of Random instance\n",
      "        Get a random number in the range [a, b) or [a, b] depending on rounding.\n",
      "    \n",
      "    vonmisesvariate(mu, kappa) method of Random instance\n",
      "        Circular data distribution.\n",
      "        \n",
      "        mu is the mean angle, expressed in radians between 0 and 2*pi, and\n",
      "        kappa is the concentration parameter, which must be greater than or\n",
      "        equal to zero.  If kappa is equal to zero, this distribution reduces\n",
      "        to a uniform random angle over the range 0 to 2*pi.\n",
      "    \n",
      "    weibullvariate(alpha, beta) method of Random instance\n",
      "        Weibull distribution.\n",
      "        \n",
      "        alpha is the scale parameter and beta is the shape parameter.\n",
      "\n",
      "DATA\n",
      "    __all__ = ['Random', 'SystemRandom', 'betavariate', 'choice', 'choices...\n",
      "\n",
      "FILE\n",
      "    c:\\program files\\windowsapps\\pythonsoftwarefoundation.python.3.10_3.10.2032.0_x64__qbz5n2kfra8p0\\lib\\random.py\n",
      "\n",
      "\n"
     ]
    }
   ],
   "source": [
    "help(random)"
   ]
  },
  {
   "cell_type": "code",
   "execution_count": 3,
   "id": "596bc60e",
   "metadata": {},
   "outputs": [
    {
     "data": {
      "text/plain": [
       "0.3347630436237511"
      ]
     },
     "execution_count": 3,
     "metadata": {},
     "output_type": "execute_result"
    }
   ],
   "source": [
    "random.random() #torna un numero random tra 0 e 1(non incluso)"
   ]
  },
  {
   "cell_type": "code",
   "execution_count": 4,
   "id": "28165db5",
   "metadata": {},
   "outputs": [
    {
     "data": {
      "text/plain": [
       "[0.4805683226185292,\n",
       " 0.47552670915582684,\n",
       " 0.2814282061143918,\n",
       " 1.432431524226217,\n",
       " 1.0082479457947529,\n",
       " 0.8519214263511904,\n",
       " 1.9062263030749993,\n",
       " 0.994215177658989,\n",
       " -0.775916494544562,\n",
       " 2.043275521446672]"
      ]
     },
     "execution_count": 4,
     "metadata": {},
     "output_type": "execute_result"
    }
   ],
   "source": [
    "g=[random.gauss(1,1) for _ in range(10)]\n",
    "g\n",
    "\n",
    "#analogo a [funzione(n) for n in range(10)]\n",
    "#con questo for sto dicendo che voglio ripetere quella funz gauss 10 volte (da 0 a 9)\n",
    "#per non usare un n a caso che tanto non viene mai visto, posso usare _"
   ]
  },
  {
   "cell_type": "code",
   "execution_count": 5,
   "id": "6925e4e4",
   "metadata": {},
   "outputs": [
    {
     "data": {
      "text/plain": [
       "[0, 0, 0, 0, 0, 0, 0, 0, 0, 0]"
      ]
     },
     "execution_count": 5,
     "metadata": {},
     "output_type": "execute_result"
    }
   ],
   "source": [
    "#es\n",
    "[0 for _ in range(10)]"
   ]
  },
  {
   "cell_type": "code",
   "execution_count": 6,
   "id": "d1bafa62",
   "metadata": {},
   "outputs": [
    {
     "data": {
      "text/plain": [
       "0.9900415722474482"
      ]
     },
     "execution_count": 6,
     "metadata": {},
     "output_type": "execute_result"
    }
   ],
   "source": [
    "random.gauss(1,1) \n",
    "#l'output che ci da è generato da una distr gaussiana che ha var1 e dvstd1"
   ]
  },
  {
   "cell_type": "markdown",
   "id": "f46c0661",
   "metadata": {},
   "source": [
    "Possiamo anche fare il plot di un arrey.\n",
    "Si può quindi binnare -> racchiudere valori simili in una barra (istogramma)\n",
    "\n",
    "In presenza di un istogramma, ogni rettangolo è chiamato \"bin\".\n",
    "Binnare significa creare i bins.\n",
    "Noi vogliamo binnare i valori di g"
   ]
  },
  {
   "cell_type": "code",
   "execution_count": 7,
   "id": "ad3705fc",
   "metadata": {},
   "outputs": [
    {
     "data": {
      "image/png": "[encoded data removed]",
      "text/plain": [
       "<Figure size 640x480 with 1 Axes>"
      ]
     },
     "metadata": {},
     "output_type": "display_data"
    }
   ],
   "source": [
    "from matplotlib import pyplot as plt\n",
    "plt.hist([random.gauss(1,0.5) for _ in range(1000)], bins=50)\n",
    "plt.show()"
   ]
  },
  {
   "cell_type": "markdown",
   "id": "568059d6",
   "metadata": {},
   "source": [
    "(ora la libreria è installata 4ever)"
   ]
  },
  {
   "cell_type": "code",
   "execution_count": 21,
   "id": "31870fef",
   "metadata": {},
   "outputs": [
    {
     "data": {
      "text/plain": [
       "<function matplotlib.pyplot.show(close=None, block=None)>"
      ]
     },
     "execution_count": 21,
     "metadata": {},
     "output_type": "execute_result"
    },
    {
     "data": {
      "image/png": "[encoded data removed]",
      "text/plain": [
       "<Figure size 640x480 with 1 Axes>"
      ]
     },
     "metadata": {},
     "output_type": "display_data"
    }
   ],
   "source": [
    "plt.plot([random.gauss(1,1) for _ in range(100)])\n",
    "plt.show"
   ]
  },
  {
   "cell_type": "code",
   "execution_count": 22,
   "id": "ce697820",
   "metadata": {},
   "outputs": [
    {
     "data": {
      "text/plain": [
       "<function matplotlib.pyplot.show(close=None, block=None)>"
      ]
     },
     "execution_count": 22,
     "metadata": {},
     "output_type": "execute_result"
    },
    {
     "data": {
      "image/png": "[encoded data removed]",
      "text/plain": [
       "<Figure size 640x480 with 1 Axes>"
      ]
     },
     "metadata": {},
     "output_type": "display_data"
    }
   ],
   "source": [
    "plt.scatter([random.gauss(1,1) for _ in range(100)], list(range(100)))\n",
    "plt.show"
   ]
  },
  {
   "cell_type": "code",
   "execution_count": 8,
   "id": "dd71b310",
   "metadata": {},
   "outputs": [
    {
     "data": {
      "text/plain": [
       "1.9062263030749993"
      ]
     },
     "execution_count": 8,
     "metadata": {},
     "output_type": "execute_result"
    }
   ],
   "source": [
    "random.choice(g)"
   ]
  },
  {
   "cell_type": "markdown",
   "id": "41de2c99",
   "metadata": {},
   "source": [
    "### IF ELSE\n",
    "\n",
    "Uso della keyword \"if\":\n",
    "\n",
    "(keyword) if (espressione condizionale) x > 10 (due punti) :\n",
    "\n",
    "il contenuto del blocco sottostante viene eseguito solo nel caso i cui l'espressione condizionale viene valutata \"true\".\n",
    "\n",
    "Uso della keyword \"elif\":\n",
    "\n",
    "segue un blocco \"if\" o \"elif\" e permette di dichiarare una nuova diramazione del flusso.\n",
    "\n",
    "(keyword) elif (espressione condizionale) x > 10 (due punti) :\n",
    "\n",
    "viene eseguita nel caso in cui il blocco \"if\" precedente NON venga eseguito e l'espressione condizionale sia \"true\"\n",
    "\n",
    "Uso della keyword \"else\":\n",
    "\n",
    "segue un blocco \"if\" o \"elif\" e permette di dichiarare una diramazione del flusso da eseguire se il blocco che lo precede NON sono stati eseguiti.\n",
    "\n",
    "(keyword) else (due punti):"
   ]
  },
  {
   "cell_type": "code",
   "execution_count": 9,
   "id": "26a2f4d1",
   "metadata": {},
   "outputs": [
    {
     "name": "stdout",
     "output_type": "stream",
     "text": [
      "numero random alto\n"
     ]
    }
   ],
   "source": [
    "n = random.randrange(3,8)\n",
    "if n<5:\n",
    "    print(\"numero random basso\")\n",
    "elif n>6:\n",
    "    print(\"numero random alto\")\n",
    "else:\n",
    "    print(\"numero random medio\")"
   ]
  },
  {
   "cell_type": "markdown",
   "id": "d48ed8b0",
   "metadata": {},
   "source": [
    "Esiste un comando ELIF che contrare l'else if quando abbiamo più statements da fare.\n",
    "Un blocco è delimitato dall'indentazione (quindi i tab). Per esempio riga 3 (il print) è un blocco, un blocco può tenere più istruzioni."
   ]
  },
  {
   "cell_type": "markdown",
   "id": "36008001",
   "metadata": {},
   "source": [
    "Operatori di comparazione"
   ]
  },
  {
   "cell_type": "code",
   "execution_count": 10,
   "id": "95b3b499",
   "metadata": {},
   "outputs": [
    {
     "data": {
      "text/plain": [
       "True"
      ]
     },
     "execution_count": 10,
     "metadata": {},
     "output_type": "execute_result"
    }
   ],
   "source": [
    "10 < 2\n",
    "10 <= 2\n",
    "2 > 1\n",
    "3 >= 1\n",
    "1 == 1\n",
    "1 != 2"
   ]
  },
  {
   "cell_type": "markdown",
   "id": "852669bb",
   "metadata": {},
   "source": [
    "### I CICLI\n",
    "### Istruzione for\n",
    "\n",
    "Il \"for\" permette di eseguire più volte lo stesso blocco di istruzioni consecutivamente.\n",
    "\n",
    "(keyword) for (espressione iterativa) n in range(10) (due punti) :"
   ]
  },
  {
   "cell_type": "markdown",
   "id": "a6fe0bb0",
   "metadata": {},
   "source": [
    "Iterazione su stringhe"
   ]
  },
  {
   "cell_type": "code",
   "execution_count": 11,
   "id": "2331dc20",
   "metadata": {},
   "outputs": [
    {
     "name": "stdout",
     "output_type": "stream",
     "text": [
      "c\n",
      "i\n",
      "a\n",
      "o\n"
     ]
    }
   ],
   "source": [
    "for lettera in 'ciao' :\n",
    "    print(lettera)"
   ]
  },
  {
   "cell_type": "markdown",
   "id": "c483abc0",
   "metadata": {},
   "source": [
    "Iterazione su range"
   ]
  },
  {
   "cell_type": "code",
   "execution_count": 12,
   "id": "3f611b28",
   "metadata": {},
   "outputs": [
    {
     "name": "stdout",
     "output_type": "stream",
     "text": [
      "3\n",
      "8\n",
      "13\n",
      "18\n"
     ]
    }
   ],
   "source": [
    "for numero in range(3,20,5) :\n",
    "    print(numero)"
   ]
  },
  {
   "cell_type": "markdown",
   "id": "a2a87821",
   "metadata": {},
   "source": [
    "Iteraizione su liste"
   ]
  },
  {
   "cell_type": "code",
   "execution_count": 13,
   "id": "6c8e93aa",
   "metadata": {},
   "outputs": [
    {
     "name": "stdout",
     "output_type": "stream",
     "text": [
      "0\n",
      "1\n",
      "4\n",
      "9\n",
      "16\n",
      "25\n",
      "36\n",
      "49\n",
      "64\n",
      "81\n"
     ]
    }
   ],
   "source": [
    "for elem in [n**2 for n in range(10)]:\n",
    "    print(elem)"
   ]
  },
  {
   "cell_type": "markdown",
   "id": "ccefd549",
   "metadata": {},
   "source": [
    "Nel caso in cui la variabile su cui siitera non è importante nel ciclo -> si usa _"
   ]
  },
  {
   "cell_type": "code",
   "execution_count": 14,
   "id": "4a7d0a12",
   "metadata": {},
   "outputs": [
    {
     "name": "stdout",
     "output_type": "stream",
     "text": [
      "ciao\n",
      "ciao\n",
      "ciao\n",
      "ciao\n",
      "ciao\n"
     ]
    }
   ],
   "source": [
    "for _ in range(5):\n",
    "    print('ciao')"
   ]
  },
  {
   "cell_type": "markdown",
   "id": "737efa1a",
   "metadata": {},
   "source": [
    "I cicli si possono combinare con le espressioni condizionali (tenendo sempre conto dell'indentazione)"
   ]
  },
  {
   "cell_type": "code",
   "execution_count": 15,
   "id": "2828757b",
   "metadata": {},
   "outputs": [
    {
     "name": "stdout",
     "output_type": "stream",
     "text": [
      "ciao\n",
      "arrivederci\n",
      "ciao\n",
      "arrivederci\n",
      "ciao\n",
      "arrivederci\n",
      "ciao\n",
      "arrivederci\n",
      "ciao\n",
      "arrivederci\n"
     ]
    }
   ],
   "source": [
    "for n in range(10):\n",
    "    if n%2 == 0:\n",
    "        print('ciao')\n",
    "    else:\n",
    "        print('arrivederci')"
   ]
  },
  {
   "cell_type": "code",
   "execution_count": 16,
   "id": "1a421df4",
   "metadata": {},
   "outputs": [
    {
     "name": "stdout",
     "output_type": "stream",
     "text": [
      "0\n",
      "3\n"
     ]
    }
   ],
   "source": [
    "for el_set in (n*3 for n in range(2)):\n",
    "    print(el_set)"
   ]
  },
  {
   "cell_type": "markdown",
   "id": "77c248c4",
   "metadata": {},
   "source": [
    "Iterazione su dizionari\n",
    "\n",
    "I dizionari non sono direttamente iterabili (a differenza di liste, stringhe, range, ecc) quindi bisogna utilizzae d.items(), perchè ritorna un oggetto iterabile che rappresenta il dizionario."
   ]
  },
  {
   "cell_type": "code",
   "execution_count": 17,
   "id": "429dec56",
   "metadata": {},
   "outputs": [
    {
     "name": "stdout",
     "output_type": "stream",
     "text": [
      "{'Roma': 'IT', 'Barcelona': 'ES', 'Dublin': 'IE'}\n",
      "chiave:  Roma   valore:  IT\n",
      "chiave:  Barcelona   valore:  ES\n",
      "chiave:  Dublin   valore:  IE\n"
     ]
    }
   ],
   "source": [
    "d={\n",
    "    \"Roma\": \"IT\",\n",
    "    \"Barcelona\": \"ES\",\n",
    "    \"Dublin\": \"IE\"\n",
    "}\n",
    "\n",
    "#iteriamo su dizionario\n",
    "print(d)\n",
    "\n",
    "for k,v in d.items():\n",
    "    print('chiave: ', k, '  valore: ', v)\n",
    "\n",
    "\n",
    "#uso k,v come lettere a caso ma servono per identificare che il dizionario\n",
    "#(o qualsiasi altro seti, liste ecc) è composto da una coppia (in questo caso\n",
    "#chiave valore)"
   ]
  },
  {
   "cell_type": "markdown",
   "id": "03f6fa92",
   "metadata": {},
   "source": [
    "### Unpacking\n",
    "\n",
    "In un ciclo for (o comprehension) è possibile gestire collezioni di collezioni. Se tutti gli elementi della collezione principale hanno medesima dimensionalità _d_ è possibile riferirsi ad essi con _d_ nomi di variabile"
   ]
  },
  {
   "cell_type": "code",
   "execution_count": 18,
   "id": "bdbdec01",
   "metadata": {},
   "outputs": [
    {
     "name": "stdout",
     "output_type": "stream",
     "text": [
      "1 -1 0\n",
      "2 -2 0\n",
      "3 -3 0\n"
     ]
    }
   ],
   "source": [
    "for x,y,z in [(1,-1,0), (2,-2,0), (3,-3,0)]:\n",
    "    print(x,y,z)"
   ]
  },
  {
   "cell_type": "code",
   "execution_count": 19,
   "id": "dfaee75d",
   "metadata": {},
   "outputs": [
    {
     "name": "stdout",
     "output_type": "stream",
     "text": [
      "1 -1 0\n",
      "2 -2 0\n",
      "3 -3 0\n"
     ]
    }
   ],
   "source": [
    "for x,y,z in [[1,-1,0], [2,-2,0], [3,-3,0]]:\n",
    "    print(x,y,z)"
   ]
  },
  {
   "cell_type": "code",
   "execution_count": 20,
   "id": "b5ef3336",
   "metadata": {},
   "outputs": [
    {
     "name": "stdout",
     "output_type": "stream",
     "text": [
      "0 1 -1\n",
      "0 2 -2\n",
      "0 3 -3\n"
     ]
    },
    {
     "ename": "ValueError",
     "evalue": "not enough values to unpack (expected 3, got 2)",
     "output_type": "error",
     "traceback": [
      "\u001b[1;31m---------------------------------------------------------------------------\u001b[0m",
      "\u001b[1;31mValueError\u001b[0m                                Traceback (most recent call last)",
      "Cell \u001b[1;32mIn [20], line 8\u001b[0m\n\u001b[0;32m      2\u001b[0m     \u001b[38;5;28mprint\u001b[39m(x,y,z)\n\u001b[0;32m      4\u001b[0m \u001b[38;5;66;03m#diventa diverso da quelli prima perchè non le parentesi graffe stiamo\u001b[39;00m\n\u001b[0;32m      5\u001b[0m \u001b[38;5;66;03m#inserendo degli insiemi, quindi l'output ha l'ordinamento secondo il suo\u001b[39;00m\n\u001b[0;32m      6\u001b[0m \u001b[38;5;66;03m#criterio. Inoltre se ho più elementi uguali, non funziona\u001b[39;00m\n\u001b[1;32m----> 8\u001b[0m \u001b[38;5;28;01mfor\u001b[39;00m a,b,c \u001b[38;5;129;01min\u001b[39;00m [{\u001b[38;5;241m1\u001b[39m,\u001b[38;5;241m-\u001b[39m\u001b[38;5;241m1\u001b[39m,\u001b[38;5;241m1\u001b[39m}, {\u001b[38;5;241m2\u001b[39m,\u001b[38;5;241m-\u001b[39m\u001b[38;5;241m2\u001b[39m,\u001b[38;5;241m0\u001b[39m}, {\u001b[38;5;241m3\u001b[39m,\u001b[38;5;241m-\u001b[39m\u001b[38;5;241m3\u001b[39m,\u001b[38;5;241m0\u001b[39m}]:\n\u001b[0;32m      9\u001b[0m     \u001b[38;5;28mprint\u001b[39m(a,b,c)\n",
      "\u001b[1;31mValueError\u001b[0m: not enough values to unpack (expected 3, got 2)"
     ]
    }
   ],
   "source": [
    "for x,y,z in [{1,-1,0}, {2,-2,0}, {3,-3,0}]:\n",
    "    print(x,y,z)\n",
    "    \n",
    "#diventa diverso da quelli prima perchè non le parentesi graffe stiamo\n",
    "#inserendo degli insiemi, quindi l'output ha l'ordinamento secondo il suo\n",
    "#criterio. Inoltre se ho più elementi uguali, non funziona\n",
    "\n",
    "for a,b,c in [{1,-1,1}, {2,-2,0}, {3,-3,0}]:\n",
    "    print(a,b,c)"
   ]
  },
  {
   "cell_type": "markdown",
   "id": "d93e80e6",
   "metadata": {},
   "source": [
    "Limitazioni: itero sugli elementi della lista ma non posso iterare sull'indice di quella lista"
   ]
  },
  {
   "cell_type": "markdown",
   "id": "62b520f0",
   "metadata": {},
   "source": [
    "Esercizio:\n",
    "data una lista di oggetti (libri, matite,..) sotto forma di stringhe, stampare tutti gli oggetti tranne quello di indice 2."
   ]
  },
  {
   "cell_type": "code",
   "execution_count": 24,
   "id": "4122be69",
   "metadata": {},
   "outputs": [
    {
     "name": "stdout",
     "output_type": "stream",
     "text": [
      "libro\n",
      "matita\n",
      "gomma\n"
     ]
    }
   ],
   "source": [
    "l = ['libro','matita','penna','gomma']\n",
    "for el in l:\n",
    "    if el != l[2]:\n",
    "        print(el)"
   ]
  },
  {
   "cell_type": "markdown",
   "id": "2e2521a9",
   "metadata": {},
   "source": [
    "Se vogliamo fare in modo che se un elemento è == a 'penna', non stampiamo l'elemento di indice successivo a quello di 'penna'"
   ]
  },
  {
   "cell_type": "code",
   "execution_count": 25,
   "id": "f40a9af8",
   "metadata": {},
   "outputs": [
    {
     "name": "stdout",
     "output_type": "stream",
     "text": [
      "libro\n",
      "matita\n",
      "penna\n"
     ]
    }
   ],
   "source": [
    "idx_esc = None\n",
    "for i in range(len(l)):\n",
    "    if l[i] == 'penna':\n",
    "        idx_esc = i+1\n",
    "    if i == idx_esc:\n",
    "        pass\n",
    "    else:\n",
    "        print(l[i])"
   ]
  },
  {
   "cell_type": "code",
   "execution_count": 27,
   "id": "286d647e",
   "metadata": {},
   "outputs": [
    {
     "data": {
      "text/plain": [
       "[(0, 'libro'), (1, 'matita'), (2, 'penna'), (3, 'gomma')]"
      ]
     },
     "execution_count": 27,
     "metadata": {},
     "output_type": "execute_result"
    }
   ],
   "source": [
    "list(zip([i for i in range(len(l))], l))"
   ]
  },
  {
   "cell_type": "code",
   "execution_count": 31,
   "id": "cde5c642",
   "metadata": {},
   "outputs": [
    {
     "data": {
      "text/plain": [
       "[(0, 'ciao'), (1, 'come'), (2, 'va'), (3, '?')]"
      ]
     },
     "execution_count": 31,
     "metadata": {},
     "output_type": "execute_result"
    }
   ],
   "source": [
    "indici = [0,1,2,3]\n",
    "lista=['ciao','come','va','?']\n",
    "\n",
    "list(zip(indici,lista)) #faccio list perchè zip non si stampa automaticam\n",
    "#associa il primo elemento del primo insieme ch eho messo al primo\n",
    "#elemento del secondo, e fa così finche non finiscono gli elementi \n",
    "#negli insiemi"
   ]
  },
  {
   "cell_type": "markdown",
   "id": "03b9d473",
   "metadata": {},
   "source": [
    "Per una generica lista \"lista\" possiamo calcolare una lista dei suoi indici:"
   ]
  },
  {
   "cell_type": "code",
   "execution_count": 32,
   "id": "b91afafd",
   "metadata": {},
   "outputs": [
    {
     "data": {
      "text/plain": [
       "[0, 1, 2, 3]"
      ]
     },
     "execution_count": 32,
     "metadata": {},
     "output_type": "execute_result"
    }
   ],
   "source": [
    "list(range(len(lista)))"
   ]
  },
  {
   "cell_type": "markdown",
   "id": "3263e137",
   "metadata": {},
   "source": [
    "Posso quindi zippare il tutto con lista"
   ]
  },
  {
   "cell_type": "code",
   "execution_count": 34,
   "id": "f78bdfa1",
   "metadata": {},
   "outputs": [
    {
     "name": "stdout",
     "output_type": "stream",
     "text": [
      "[0, 1, 2, 3] ['ciao', 'come', 'va', '?']\n",
      "[(0, 'ciao'), (1, 'come'), (2, 'va'), (3, '?')]\n"
     ]
    }
   ],
   "source": [
    "print(list(range(len(lista))), lista)\n",
    "print(list(zip(list(range(len(lista))), lista)))"
   ]
  },
  {
   "cell_type": "code",
   "execution_count": 28,
   "id": "7d89a24b",
   "metadata": {},
   "outputs": [
    {
     "name": "stdout",
     "output_type": "stream",
     "text": [
      "libro\n",
      "matita\n",
      "penna\n"
     ]
    }
   ],
   "source": [
    "idx_esc = None\n",
    "for i,el in zip(range(len(l)), l):\n",
    "    if el == 'penna':\n",
    "        idx_esc = i+1\n",
    "    if i != idx_esc:\n",
    "        print(el)"
   ]
  },
  {
   "cell_type": "markdown",
   "id": "7dca1194",
   "metadata": {},
   "source": [
    "### Funzione ENUMERATE()\n",
    "\n",
    "é una funzione di imprint.\n",
    "La funzione enumerate equivale a fare zip(list(range(len(lista))), lista)\n",
    "\n",
    "è usata per creare un oggetto iterabile composto da coppie formate da indice-valore\n",
    "\n",
    "enumerate(x) equivale a zip(range(len(x)), x)"
   ]
  },
  {
   "cell_type": "code",
   "execution_count": 39,
   "id": "c338b8a1",
   "metadata": {},
   "outputs": [
    {
     "data": {
      "text/plain": [
       "<enumerate at 0x211f75a3a80>"
      ]
     },
     "execution_count": 39,
     "metadata": {},
     "output_type": "execute_result"
    }
   ],
   "source": [
    "enumerate(lista)"
   ]
  },
  {
   "cell_type": "code",
   "execution_count": 38,
   "id": "6fd2e5c1",
   "metadata": {},
   "outputs": [
    {
     "data": {
      "text/plain": [
       "<zip at 0x211f7567040>"
      ]
     },
     "execution_count": 38,
     "metadata": {},
     "output_type": "execute_result"
    }
   ],
   "source": [
    "zip(range(len(lista)), lista)"
   ]
  },
  {
   "cell_type": "code",
   "execution_count": 40,
   "id": "9f20efeb",
   "metadata": {},
   "outputs": [
    {
     "data": {
      "text/plain": [
       "[(0, 'ciao'), (1, 'come'), (2, 'va'), (3, '?')]"
      ]
     },
     "execution_count": 40,
     "metadata": {},
     "output_type": "execute_result"
    }
   ],
   "source": [
    "list(enumerate(lista))"
   ]
  },
  {
   "cell_type": "code",
   "execution_count": 37,
   "id": "9929d42e",
   "metadata": {},
   "outputs": [
    {
     "data": {
      "text/plain": [
       "[(0, 'ciao'), (1, 'come'), (2, 'va'), (3, '?')]"
      ]
     },
     "execution_count": 37,
     "metadata": {},
     "output_type": "execute_result"
    }
   ],
   "source": [
    "list(zip(list(range(len(lista))), lista))"
   ]
  },
  {
   "cell_type": "code",
   "execution_count": 41,
   "id": "be8688eb",
   "metadata": {},
   "outputs": [
    {
     "name": "stdout",
     "output_type": "stream",
     "text": [
      "{\"a\": 'b', \"c\": 'd', }\n",
      "{'a': 'b', 'c': 'd'}\n"
     ]
    }
   ],
   "source": [
    "dir({'a':'b'})\n",
    "d={'a':'b', 'c':'d'}\n",
    "\n",
    "#scrivo una routine per creare una stringa che rappresenti un generico dizionario\n",
    "\n",
    "s='{'\n",
    "for k,v in d.items():\n",
    "    s += '\"'+k+'\"'+\": \"+\"'\"+v+\"', \"\n",
    "s+= '}'\n",
    "\n",
    "print(s)\n",
    "print(d)"
   ]
  },
  {
   "cell_type": "markdown",
   "id": "b69310cb",
   "metadata": {},
   "source": [
    "Eseguire il comando print(qualcosa) significa stampare la rappresentazione in stringa di quel qualcosa. La rappresentazione in stringa è contenuta inun metodo chiamato `__str__`"
   ]
  },
  {
   "cell_type": "code",
   "execution_count": 42,
   "id": "bebe11aa",
   "metadata": {},
   "outputs": [
    {
     "data": {
      "text/plain": [
       "\"{'a': 'b', 'c': 'd'}\""
      ]
     },
     "execution_count": 42,
     "metadata": {},
     "output_type": "execute_result"
    }
   ],
   "source": [
    "d.__str__() #rappresentazione in stringa di un dizionario"
   ]
  },
  {
   "cell_type": "code",
   "execution_count": 43,
   "id": "eedf5146",
   "metadata": {},
   "outputs": [
    {
     "data": {
      "text/plain": [
       "'<zip object at 0x00000211F75D0500>'"
      ]
     },
     "execution_count": 43,
     "metadata": {},
     "output_type": "execute_result"
    }
   ],
   "source": [
    "z=zip(range(4),list(range(4)))\n",
    "z.__str__()"
   ]
  },
  {
   "cell_type": "code",
   "execution_count": 48,
   "id": "feea6942",
   "metadata": {},
   "outputs": [
    {
     "name": "stdout",
     "output_type": "stream",
     "text": [
      "nome utente:  ['Anna', 'Mario', 'Elena', 'Francesco']\n",
      "nome utente:  ['Anna', 'Mario', 'Elena', 'Francesco']\n",
      "nome utente:  ['Anna', 'Mario', 'Elena', 'Francesco']\n",
      "nome utente:  ['Anna', 'Mario', 'Elena', 'Francesco']\n"
     ]
    }
   ],
   "source": [
    "nome=['Anna','Mario','Elena','Francesco']\n",
    "cognomi=['Rossi','Bianchi','Verdi','Gialli']\n",
    "mail=['a@gft.com','b@gft.com','c@gft.com','d@gft.com']\n",
    "\n",
    "#voglio stampare con una buona formattazione le colonne del mio DB\n",
    "\n",
    "for n,c,m in zip(nome, cognomi, mail):\n",
    "    print('nome utente: ',nome)"
   ]
  },
  {
   "cell_type": "markdown",
   "id": "16685bb9",
   "metadata": {},
   "source": [
    "## Istruzione WHILE\n",
    "\n",
    "(keyword) while (espressione condizionale) n<10 (due punti) :\n",
    "\n",
    "fintanto che l'espressione condiizonale è \"true\" viene eseguito il blocco"
   ]
  },
  {
   "cell_type": "code",
   "execution_count": 50,
   "id": "735afda0",
   "metadata": {},
   "outputs": [
    {
     "name": "stdout",
     "output_type": "stream",
     "text": [
      "1\n",
      "2\n",
      "3\n",
      "4\n",
      "5\n",
      "6\n",
      "7\n",
      "8\n",
      "9\n",
      "10\n"
     ]
    }
   ],
   "source": [
    "n=1\n",
    "while n<11:\n",
    "    print(n)\n",
    "    n += 1"
   ]
  },
  {
   "cell_type": "markdown",
   "id": "202a41f0",
   "metadata": {},
   "source": [
    "esercizio\n",
    "1. Dato un intero > 2, ritornare una lista contenente i soli numeri pari di una serie di Fibonacci con condizione di stop \"ultimo elementi <= $n$\""
   ]
  },
  {
   "cell_type": "code",
   "execution_count": 51,
   "id": "11d4c4f2",
   "metadata": {},
   "outputs": [
    {
     "name": "stdout",
     "output_type": "stream",
     "text": [
      "[0, 1, 1, 2, 3, 5, 8, 13]\n",
      "[0, 2, 8]\n"
     ]
    },
    {
     "data": {
      "text/plain": [
       "[0, 2, 8]"
      ]
     },
     "execution_count": 51,
     "metadata": {},
     "output_type": "execute_result"
    }
   ],
   "source": [
    "n = 9\n",
    "temp = 2\n",
    "lista = [0,1]\n",
    "\n",
    "\n",
    "\n",
    "# genera la serie di fibonacci\n",
    "while lista[-1] < n:\n",
    "    lista.append(lista[temp-1] + lista[temp-2])\n",
    "    temp +=1\n",
    "\n",
    "\n",
    "\n",
    "lista_pari = []\n",
    "\n",
    "\n",
    "\n",
    "# filtra\n",
    "for el in lista:\n",
    "    if el % 2 == 0:\n",
    "        lista_pari.append(el)\n",
    "        \n",
    "        \n",
    "print(lista)\n",
    "print(lista_pari)\n",
    "\n",
    "\n",
    "\n",
    "\n",
    "[n for n in lista if n % 2 == 0]"
   ]
  },
  {
   "cell_type": "markdown",
   "id": "85317f9e",
   "metadata": {},
   "source": [
    "### Controllo di un flusso\n"
   ]
  },
  {
   "cell_type": "code",
   "execution_count": 52,
   "id": "d97107b2",
   "metadata": {},
   "outputs": [
    {
     "name": "stdout",
     "output_type": "stream",
     "text": [
      "1\n",
      "2\n",
      "3\n",
      "4\n",
      "5\n",
      "6\n",
      "uscita forzata\n"
     ]
    }
   ],
   "source": [
    "n=1\n",
    "while n<10:\n",
    "    if n%7==0:\n",
    "        print('uscita forzata')\n",
    "        break\n",
    "    print(n)\n",
    "    n += 1"
   ]
  },
  {
   "cell_type": "code",
   "execution_count": 53,
   "id": "775ae1d5",
   "metadata": {},
   "outputs": [
    {
     "name": "stdout",
     "output_type": "stream",
     "text": [
      "1\n",
      "2\n",
      "3\n",
      "4\n",
      "5\n",
      "6\n",
      "skip forzato\n",
      "8\n",
      "9\n"
     ]
    }
   ],
   "source": [
    "n=1\n",
    "while n<10:\n",
    "    if n%7==0:\n",
    "        print('skip forzato')\n",
    "        n+=1\n",
    "        continue\n",
    "    print(n)\n",
    "    n += 1"
   ]
  },
  {
   "cell_type": "markdown",
   "id": "7f1fe7a2",
   "metadata": {},
   "source": [
    "### Le funzioni\n",
    "\n",
    "Le funzioni definiscono blocchi di istruzioni che possono essere riusati.\n",
    "\n",
    "Le funz possono prendere in ingresso più valori e restituire più valori"
   ]
  },
  {
   "cell_type": "code",
   "execution_count": 63,
   "id": "94df5b85",
   "metadata": {},
   "outputs": [],
   "source": [
    "def quadrato(n):\n",
    "    return n**2\n",
    "\n",
    "#dato un numero, ritorna il quadrato del numero\n",
    "\n",
    "def indice_doppia(s):\n",
    "    for i,v in enumerate(s):\n",
    "        try:\n",
    "            if v==s[i+1]:\n",
    "                return i,v\n",
    "        except:\n",
    "            print('Non sono presenti doppie')\n",
    "\n",
    "#ritorna l'indice e il valore della prima doppia presete nella stringa s"
   ]
  },
  {
   "cell_type": "code",
   "execution_count": 65,
   "id": "3a4b7673",
   "metadata": {},
   "outputs": [
    {
     "name": "stdout",
     "output_type": "stream",
     "text": [
      "Non sono presenti doppie\n"
     ]
    }
   ],
   "source": [
    "indice_doppia('tuto')"
   ]
  },
  {
   "cell_type": "markdown",
   "id": "1e3442a8",
   "metadata": {},
   "source": [
    "### Challenge\n",
    "\n",
    "2. Scivere una funzione che, data una stringa $s$, ritorni una lista che contiene tutti gli indici e valori delle doppie in $s$. Se la stringa non contiene doppie ritorna una lista vuota."
   ]
  },
  {
   "cell_type": "code",
   "execution_count": 77,
   "id": "e43e8c9d",
   "metadata": {},
   "outputs": [],
   "source": [
    "def trova_doppie(s):\n",
    "    doppie=[]\n",
    "    for i,v in enumerate(s): #ciclo su tutte le lettere\n",
    "        try:\n",
    "            if v == s[i+1]: #contorllo lettera successiva\n",
    "                doppie.append((v,i))\n",
    "        except:\n",
    "            print('Stringa conclusa')\n",
    "    return doppie"
   ]
  },
  {
   "cell_type": "code",
   "execution_count": 78,
   "id": "0879fa2a",
   "metadata": {},
   "outputs": [
    {
     "name": "stdout",
     "output_type": "stream",
     "text": [
      "Stringa conclusa\n",
      "[('p', 2), ('c', 5), ('t', 8)]\n"
     ]
    }
   ],
   "source": [
    "s='cappuccetto'\n",
    "ris = trova_doppie(s)\n",
    "print(ris)"
   ]
  },
  {
   "cell_type": "markdown",
   "id": "19f33fbd",
   "metadata": {},
   "source": [
    "3. a) Scrivere una funzione is_primo(n) che prende in ingresso n e ritorna true o false dioendentemente dal fatto che sia primo o meno.\n",
    "\n",
    "    b) Scrivere una funzione twin_prime(n1,n2) che ritorna true o false se n1,n2 sono primi gemelli."
   ]
  },
  {
   "cell_type": "code",
   "execution_count": 79,
   "id": "a402af7a",
   "metadata": {},
   "outputs": [],
   "source": [
    "def is_primo(n):\n",
    "    i=2\n",
    "    if n == 1 or n==2:\n",
    "        return True\n",
    "    while i < n :\n",
    "        if n % i == 0:\n",
    "            return False\n",
    "            i+=1\n",
    "        else:\n",
    "            return True"
   ]
  },
  {
   "cell_type": "code",
   "execution_count": 81,
   "id": "0ee45540",
   "metadata": {},
   "outputs": [
    {
     "data": {
      "text/plain": [
       "True"
      ]
     },
     "execution_count": 81,
     "metadata": {},
     "output_type": "execute_result"
    }
   ],
   "source": [
    "is_primo(7)"
   ]
  },
  {
   "cell_type": "markdown",
   "id": "36ede3a9",
   "metadata": {},
   "source": [
    "modo alternativo più compatto"
   ]
  },
  {
   "cell_type": "code",
   "execution_count": null,
   "id": "e03a40c5",
   "metadata": {},
   "outputs": [],
   "source": [
    "def is_primo(n):  \n",
    "    return [x for x in range(2,n) if n%x==0]==[]"
   ]
  },
  {
   "cell_type": "code",
   "execution_count": 89,
   "id": "d2bea544",
   "metadata": {},
   "outputs": [],
   "source": [
    "def twin_prime(n,m):\n",
    "    if is_primo(n) == False or is_primo(m) == False:\n",
    "        return False\n",
    "    else: return abs(n-m)==2"
   ]
  },
  {
   "cell_type": "code",
   "execution_count": 93,
   "id": "28a851ae",
   "metadata": {},
   "outputs": [
    {
     "data": {
      "text/plain": [
       "True"
      ]
     },
     "execution_count": 93,
     "metadata": {},
     "output_type": "execute_result"
    }
   ],
   "source": [
    "twin_prime(13,11)"
   ]
  },
  {
   "cell_type": "markdown",
   "id": "05221228",
   "metadata": {},
   "source": [
    "4. Dato un intero $n$ ritornare una lista di tuple che contengono la fattorizzazione di $n$"
   ]
  },
  {
   "cell_type": "code",
   "execution_count": 94,
   "id": "793b20ac",
   "metadata": {},
   "outputs": [],
   "source": [
    "def genera_primi(n):  \n",
    "    return [x for x in range(2,n) if is_primo(x)]"
   ]
  },
  {
   "cell_type": "code",
   "execution_count": 95,
   "id": "afbe0f14",
   "metadata": {},
   "outputs": [],
   "source": [
    "def fattori(n):\n",
    "    fattori=genera_primi(n)  \n",
    "    if is_primo(n):\n",
    "        return (n,1)\n",
    "    res=[]  \n",
    "    resto=n\n",
    "    for f in fattori:  \n",
    "        temp=[f,0]\n",
    "        while resto%f==0:\n",
    "            resto=resto/f\n",
    "            temp=[f,temp[1]+1]\n",
    "        if temp[1]!=0:\n",
    "            res.append(temp)   \n",
    "    return res"
   ]
  },
  {
   "cell_type": "code",
   "execution_count": 99,
   "id": "01d39e30",
   "metadata": {},
   "outputs": [
    {
     "data": {
      "text/plain": [
       "[[2, 1], [5, 2]]"
      ]
     },
     "execution_count": 99,
     "metadata": {},
     "output_type": "execute_result"
    }
   ],
   "source": [
    "fattori(50)"
   ]
  },
  {
   "cell_type": "code",
   "execution_count": 103,
   "id": "75553936",
   "metadata": {},
   "outputs": [],
   "source": [
    "def calc_primes(n):\n",
    "    return [(x, is_primo(x)) for x in range (2,n)]"
   ]
  },
  {
   "cell_type": "code",
   "execution_count": 104,
   "id": "d06f00df",
   "metadata": {},
   "outputs": [
    {
     "data": {
      "text/plain": [
       "[(2, True),\n",
       " (3, True),\n",
       " (4, False),\n",
       " (5, True),\n",
       " (6, False),\n",
       " (7, True),\n",
       " (8, False),\n",
       " (9, True)]"
      ]
     },
     "execution_count": 104,
     "metadata": {},
     "output_type": "execute_result"
    }
   ],
   "source": [
    "calc_primes(10)"
   ]
  },
  {
   "cell_type": "code",
   "execution_count": 117,
   "id": "c017fab6",
   "metadata": {},
   "outputs": [],
   "source": [
    "def scatter_primes(n):\n",
    "    #i numeri primi sono rossi, partendo da 2\n",
    "    for x, el in enumerate(calc_primes(n)):\n",
    "        if el[1]:\n",
    "            plt.scatter(x,el[0], color='red')\n",
    "        else:\n",
    "            plt.scatter(x,el[0],color='blue')\n",
    "    plt.show()"
   ]
  },
  {
   "cell_type": "code",
   "execution_count": 119,
   "id": "31829022",
   "metadata": {},
   "outputs": [
    {
     "data": {
      "image/png": "[encoded data removed]",
      "text/plain": [
       "<Figure size 640x480 with 1 Axes>"
      ]
     },
     "metadata": {},
     "output_type": "display_data"
    }
   ],
   "source": [
    "scatter_primes(20)"
   ]
  },
  {
   "cell_type": "code",
   "execution_count": null,
   "id": "5ac5dc21",
   "metadata": {},
   "outputs": [],
   "source": []
  }
 ],
 "metadata": {
  "kernelspec": {
   "display_name": "Python 3 (ipykernel)",
   "language": "python",
   "name": "python3"
  },
  "language_info": {
   "codemirror_mode": {
    "name": "ipython",
    "version": 3
   },
   "file_extension": ".py",
   "mimetype": "text/x-python",
   "name": "python",
   "nbconvert_exporter": "python",
   "pygments_lexer": "ipython3",
   "version": "3.10.7"
  }
 },
 "nbformat": 4,
 "nbformat_minor": 5
}
