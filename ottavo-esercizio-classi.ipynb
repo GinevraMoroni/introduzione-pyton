{
 "cells": [
  {
   "cell_type": "markdown",
   "id": "ea029910",
   "metadata": {},
   "source": [
    "### all() and any()\n",
    "\n",
    "Funz di built in che hanno un ritorno booleano.\n",
    "\n",
    "1. All prende in ingresso una collezione di booleani e ritorna True se TUTTI sono True\n",
    "2. Any prende in ingresso una collezione di booleani e ritorna True se ALMENO UNO è True"
   ]
  },
  {
   "cell_type": "code",
   "execution_count": 1,
   "id": "3240ed79",
   "metadata": {},
   "outputs": [],
   "source": [
    "def is_primo(n):\n",
    "    i=2\n",
    "    if n == 1 or n==2:\n",
    "        return True\n",
    "    while i < n :\n",
    "        if n % i == 0:\n",
    "            return False\n",
    "            i+=1\n",
    "        else:\n",
    "            return True"
   ]
  },
  {
   "cell_type": "code",
   "execution_count": 2,
   "id": "c5c872cb",
   "metadata": {},
   "outputs": [],
   "source": [
    "assert all([is_primo(n) for n in [2,3,5,7,19,23]])\n",
    "assert not all ([is_primo(n) for n in [2,3,5,7,19,23,4]])\n",
    "\n",
    "assert any([is_primo(n) for n in [4,6,8,9,11]])"
   ]
  },
  {
   "cell_type": "markdown",
   "id": "5cae3340",
   "metadata": {},
   "source": [
    "### Le classi in python \n",
    "\n",
    "Ci permettono di definire ed usare strutture di dati che contengpono variabili e funz.\n",
    "(keyword) class (nome classe) Persona (due punti) :\n",
    "\n",
    "NB i nomi delle classi per convenzione sono con la lettera maiuscola"
   ]
  },
  {
   "cell_type": "code",
   "execution_count": 3,
   "id": "70153660",
   "metadata": {},
   "outputs": [],
   "source": [
    "class Persona:\n",
    "    pass"
   ]
  },
  {
   "cell_type": "code",
   "execution_count": 4,
   "id": "d1f97f8f",
   "metadata": {},
   "outputs": [
    {
     "data": {
      "text/plain": [
       "['__class__',\n",
       " '__delattr__',\n",
       " '__dict__',\n",
       " '__dir__',\n",
       " '__doc__',\n",
       " '__eq__',\n",
       " '__format__',\n",
       " '__ge__',\n",
       " '__getattribute__',\n",
       " '__gt__',\n",
       " '__hash__',\n",
       " '__init__',\n",
       " '__init_subclass__',\n",
       " '__le__',\n",
       " '__lt__',\n",
       " '__module__',\n",
       " '__ne__',\n",
       " '__new__',\n",
       " '__reduce__',\n",
       " '__reduce_ex__',\n",
       " '__repr__',\n",
       " '__setattr__',\n",
       " '__sizeof__',\n",
       " '__str__',\n",
       " '__subclasshook__',\n",
       " '__weakref__']"
      ]
     },
     "execution_count": 4,
     "metadata": {},
     "output_type": "execute_result"
    }
   ],
   "source": [
    "dir(Persona)"
   ]
  },
  {
   "cell_type": "markdown",
   "id": "bc1b2f29",
   "metadata": {},
   "source": [
    "### Istanziare una classe\n",
    "\n",
    "Per creare una nuova istanza di una nuova persona:"
   ]
  },
  {
   "cell_type": "code",
   "execution_count": 5,
   "id": "dba91eaf",
   "metadata": {},
   "outputs": [
    {
     "data": {
      "text/plain": [
       "__main__.Persona"
      ]
     },
     "execution_count": 5,
     "metadata": {},
     "output_type": "execute_result"
    }
   ],
   "source": [
    "mario=Persona()\n",
    "type(mario) "
   ]
  },
  {
   "cell_type": "markdown",
   "id": "1dc24de4",
   "metadata": {},
   "source": [
    "Le classi costituiscono tipi.\n",
    "\n",
    "Se provo a printare mario c'è una mancanza di rappresentazione stringa: viene usata solo quella di default. Esce quindi l'ogg e il suo spazio in memoria"
   ]
  },
  {
   "cell_type": "code",
   "execution_count": 6,
   "id": "49c5ed36",
   "metadata": {},
   "outputs": [
    {
     "name": "stdout",
     "output_type": "stream",
     "text": [
      "<__main__.Persona object at 0x000001D12D0E14B0>\n"
     ]
    }
   ],
   "source": [
    "print(mario)"
   ]
  },
  {
   "cell_type": "markdown",
   "id": "60239f36",
   "metadata": {},
   "source": [
    "è possibile assegnare degli attributi (variabili) ad una classe. Le classi rappresenrtano \"ogg\" della vita reale. ex una oersona è caratterizzata da Nome, Cognome, Email...\n",
    "\n",
    "La quantità di attributi che dichiariamo in una classe è proporzionale a quanto dettagliatamente vogliamo descrivere l'oggetto.\n",
    "\n",
    "Ogni funz all'interno di una classe deve avere come primo argomento una parola chiave di python che si chiama self (e indica se stessa)"
   ]
  },
  {
   "cell_type": "code",
   "execution_count": 7,
   "id": "6a9e20bd",
   "metadata": {},
   "outputs": [],
   "source": [
    "class Persona:\n",
    "    \"\"\"\n",
    "    quando dichiariamo una classe è convenzione def un metodo speciale che \n",
    "    descrive gli attributi. Questo metodo speciale si chiama __init__\n",
    "    Di default la funz __init__ di una nuova classe è vuota, noi quindi\n",
    "    la ridefiniamo per metterci gli attributi che vogliamo sovrascrivendola\n",
    "    \"\"\"\n",
    "    def __init__(self, nome, cognome, email, anno_nascita=1900):\n",
    "        self.nome = nome\n",
    "        self.cognome = cognome\n",
    "        self.email = email\n",
    "        self.anno_nascita = anno_nascita\n",
    "    \n",
    "    \"\"\"\n",
    "    La funz __str__ viene implicitamente chiamata da print.\n",
    "    Print stampa il valore stringa ritornato da __str__\n",
    "    \"\"\"\n",
    "    def __str__(self):\n",
    "        return 'Nome: ' + self.nome + ', Cognome: ' + self.cognome + ', mail: ' + self.email + ', Anno: ' + str(self.anno_nascita)"
   ]
  },
  {
   "cell_type": "code",
   "execution_count": 8,
   "id": "e8b06972",
   "metadata": {},
   "outputs": [
    {
     "data": {
      "text/plain": [
       "{'nome': 'Valentina', 'cognome': 'Verdi'}"
      ]
     },
     "execution_count": 8,
     "metadata": {},
     "output_type": "execute_result"
    }
   ],
   "source": [
    "#per capire meglio la quesione del self\n",
    "#sembra uguale al this in java \n",
    "\n",
    "persona={}\n",
    "persona['nome']='Valentina'\n",
    "persona['cognome']='Verdi'\n",
    "persona"
   ]
  },
  {
   "cell_type": "markdown",
   "id": "a59a896d",
   "metadata": {},
   "source": [
    "Devo mettere le stringe dentro persona perchè in questo moedo sto chiamando in modo corretto la funzione di init (saltando self perchè è implicito). Per sapere cosa c'è dentro pesona e quindi quali attributi servono basta help(Persona)"
   ]
  },
  {
   "cell_type": "code",
   "execution_count": 9,
   "id": "26d66c44",
   "metadata": {},
   "outputs": [
    {
     "name": "stdout",
     "output_type": "stream",
     "text": [
      "Mario Rossi fie@fewfg\n"
     ]
    }
   ],
   "source": [
    "mario = Persona('Mario','Rossi','fie@fewfg', 1900)\n",
    "print(mario.nome, mario.cognome, mario.email)"
   ]
  },
  {
   "cell_type": "code",
   "execution_count": 10,
   "id": "7a7baa5d",
   "metadata": {},
   "outputs": [
    {
     "name": "stdout",
     "output_type": "stream",
     "text": [
      "Nome: Mario, Cognome: Rossi, mail: fie@fewfg, Anno: 1900\n"
     ]
    }
   ],
   "source": [
    "mario.__str__()\n",
    "mario.anno_nascita = 1900\n",
    "print(mario)"
   ]
  },
  {
   "cell_type": "markdown",
   "id": "e0930766",
   "metadata": {},
   "source": [
    "Dato vs Informazione\n",
    "\n",
    "Il dato è slegato da un valore semantico, l'informazione porta con se un valore semantico.\n",
    "\n",
    "Il dato è un atomo di informazione: il dato concorre alla creazione di una info. ex l'età è una info in quanto è elaborata a partire dalla data odierna (DATO) e la data di nascita (DATO).\n",
    "Nelle basi di dati non ci vanno info.\n",
    "\n",
    "Le info sono soggette al cambiamento rispetto ai dati.\n",
    "\n",
    "Come avviene nei DB, anche le classi dovrebbero contenere (all'interno dei loro attributi) solo dati. Con la differenza che le classi possono esporre delle funz per produrre delle info a partire dai  loro stessi dati."
   ]
  },
  {
   "cell_type": "code",
   "execution_count": 11,
   "id": "99b9f9b1",
   "metadata": {},
   "outputs": [],
   "source": [
    "import datetime"
   ]
  },
  {
   "cell_type": "code",
   "execution_count": 12,
   "id": "331275ad",
   "metadata": {},
   "outputs": [],
   "source": [
    "class Utente:\n",
    "    \"\"\"\n",
    "    Classe che rappres l'utente di una piattaforma social.\n",
    "    La policy della compagnia prevede che all'iscrizione l'utente \n",
    "    abbia almeno 16 anni.\n",
    "    \"\"\"\n",
    "    def __init__(self, nome, cognome, data_nascita):\n",
    "        self.nome=nome\n",
    "        self.cognome=cognome\n",
    "        self.data_nascita=data_nascita  \n",
    "    \"\"\"\n",
    "    è corretto salvare la data di nascita in quanto immutabile.\n",
    "    I dati si leggono.\n",
    "    Non sarebbe corretto salvare gli anni in un attributo in quanto\n",
    "    rappresentano un'info. Le info si calcolano.\n",
    "    \"\"\"\n",
    "    def get_eta(self):\n",
    "        t=datetime.date.today()\n",
    "        anni=int((t-self.data_nascita).days/365)\n",
    "        return anni\n",
    "        \n",
    "    def __str__(self):\n",
    "        return self.nome + ' ' + self.cognome + ', età: ' + str(self.get_eta()) + ' anni'"
   ]
  },
  {
   "cell_type": "code",
   "execution_count": 13,
   "id": "cf9963a7",
   "metadata": {},
   "outputs": [
    {
     "data": {
      "text/plain": [
       "26"
      ]
     },
     "execution_count": 13,
     "metadata": {},
     "output_type": "execute_result"
    }
   ],
   "source": [
    "dir(datetime.date)\n",
    "t=datetime.date.today()\n",
    "g=datetime.date(1995,10,19)\n",
    "anni=int((t-g).days/365)\n",
    "anni"
   ]
  },
  {
   "cell_type": "code",
   "execution_count": 14,
   "id": "dd1e5bff",
   "metadata": {},
   "outputs": [
    {
     "name": "stdout",
     "output_type": "stream",
     "text": [
      "Ste Marzo, età: 26 anni\n"
     ]
    }
   ],
   "source": [
    "io = Utente('Ste','Marzo', datetime.date(1995,10,19))\n",
    "io.get_eta()\n",
    "\n",
    "print(io)"
   ]
  },
  {
   "cell_type": "markdown",
   "id": "99dcc083",
   "metadata": {},
   "source": [
    "Altro es di dato e info. Dato: temperatura min e max del giorno, info: la media delle temperature"
   ]
  },
  {
   "cell_type": "markdown",
   "id": "39b59dc1",
   "metadata": {},
   "source": [
    "### Ex\n",
    "\n",
    "1. Creare una funz che restituisca una data random dati in ingresso gli anni. 26 -> data a caso tra 01/01/1995 al 27/09/1995\n",
    "\n",
    "2. Data una lista di 10 nomi e 10 cognomi, creare 10 istanze di Utente inizializzate con date di nascita random in modo tale che gli utenti abbiano un'età compresa tra 15 e 20 anni.\n",
    "\n",
    "3. Calcolare la media dell'età"
   ]
  },
  {
   "cell_type": "code",
   "execution_count": 15,
   "id": "ddbc12c6",
   "metadata": {},
   "outputs": [],
   "source": [
    "import calendar\n",
    "import random\n",
    "import datetime\n",
    "\n",
    "\n",
    "def random_data(anni):\n",
    "    \n",
    "    rnd_giorno = random.randint(1, 365)\n",
    "    rnd_mese = random.randint(1, 12)\n",
    "    \n",
    "    if rnd_mese < datetime.date.today().month:\n",
    "\n",
    "        anno = datetime.date.today().year - anni\n",
    "        mese = random.randint(1, datetime.date.today().month)\n",
    "        giorno = random.randint(1, datetime.date.today().day-1)\n",
    "            \n",
    "    elif rnd_mese == datetime.date.today().month:\n",
    "        \n",
    "        if rnd_giorno > datetime.date.today().day:\n",
    "            anno = datetime.date.today().year - anni -1\n",
    "            mese = random.randint(datetime.date.today().month, 12)\n",
    "            ultimo_giorno = calendar.monthrange(anno, mese)[1]\n",
    "            giorno = random.randint(datetime.date.today().day, ultimo_giorno)\n",
    "    else:\n",
    "        anno = datetime.date.today().year - anni -1\n",
    "        mese = random.randint(rnd_mese, 12)\n",
    "        ultimo_giorno = calendar.monthrange(anno, mese)[1]\n",
    "        giorno = random.randint(1, ultimo_giorno)\n",
    "            \n",
    "    return datetime.date(anno, mese, giorno)"
   ]
  },
  {
   "cell_type": "code",
   "execution_count": 16,
   "id": "3bb2a783",
   "metadata": {},
   "outputs": [
    {
     "data": {
      "text/plain": [
       "datetime.date(1993, 2, 12)"
      ]
     },
     "execution_count": 16,
     "metadata": {},
     "output_type": "execute_result"
    }
   ],
   "source": [
    "random_data(29)"
   ]
  },
  {
   "cell_type": "code",
   "execution_count": 17,
   "id": "4e08b7a4",
   "metadata": {},
   "outputs": [],
   "source": [
    "nomi=['Ginevra','Martina','Aldo','Silvia','Giacomo','Enrico','Eugenia','Francesco','Nicola','Mark']\n",
    "cognomi=['Verdi','Rossi','Bianchi','Blui','Gialli','Neri','Azzurri','Arancioni','Marroni','Grigi']\n",
    "anni=random.randint(15,20)"
   ]
  },
  {
   "cell_type": "code",
   "execution_count": 18,
   "id": "c664a9cd",
   "metadata": {},
   "outputs": [
    {
     "name": "stdout",
     "output_type": "stream",
     "text": [
      "Ginevra Verdi, età: 18 anni\n",
      "Martina Rossi, età: 18 anni\n",
      "Aldo Bianchi, età: 18 anni\n",
      "Silvia Blui, età: 15 anni\n",
      "Giacomo Gialli, età: 17 anni\n",
      "Enrico Neri, età: 20 anni\n",
      "Eugenia Azzurri, età: 20 anni\n",
      "Francesco Arancioni, età: 18 anni\n",
      "Nicola Marroni, età: 20 anni\n",
      "Mark Grigi, età: 16 anni\n"
     ]
    }
   ],
   "source": [
    "utenti=[]\n",
    "\n",
    "for nome, cognome in zip(nomi,cognomi):\n",
    "    anni=random.randint(15,20)\n",
    "    data= random_data(anni)\n",
    "    utenti.append(Utente(nome, cognome, data))\n",
    "\n",
    "for u in utenti:\n",
    "    print(u)"
   ]
  },
  {
   "cell_type": "code",
   "execution_count": 20,
   "id": "bf21a118",
   "metadata": {},
   "outputs": [
    {
     "name": "stdout",
     "output_type": "stream",
     "text": [
      "Ginevra Verdi, età: 17 anni\n",
      "Martina Rossi, età: 15 anni\n",
      "Aldo Bianchi, età: 20 anni\n",
      "Silvia Blui, età: 20 anni\n",
      "Giacomo Gialli, età: 20 anni\n",
      "Enrico Neri, età: 18 anni\n",
      "Eugenia Azzurri, età: 17 anni\n",
      "Francesco Arancioni, età: 15 anni\n",
      "Nicola Marroni, età: 16 anni\n",
      "Mark Grigi, età: 20 anni\n"
     ]
    }
   ],
   "source": [
    "utenti2 = [Utente(nome, cognome, random_data(random.randint(15,20))) for nome, cognome in zip(nomi,cognomi)]\n",
    "for u in utenti2:\n",
    "    print(u)"
   ]
  },
  {
   "cell_type": "code",
   "execution_count": null,
   "id": "029440df",
   "metadata": {},
   "outputs": [],
   "source": []
  }
 ],
 "metadata": {
  "kernelspec": {
   "display_name": "Python 3 (ipykernel)",
   "language": "python",
   "name": "python3"
  },
  "language_info": {
   "codemirror_mode": {
    "name": "ipython",
    "version": 3
   },
   "file_extension": ".py",
   "mimetype": "text/x-python",
   "name": "python",
   "nbconvert_exporter": "python",
   "pygments_lexer": "ipython3",
   "version": "3.10.7"
  }
 },
 "nbformat": 4,
 "nbformat_minor": 5
}
