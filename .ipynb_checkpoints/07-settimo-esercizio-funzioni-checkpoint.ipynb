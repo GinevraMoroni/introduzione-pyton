{
 "cells": [
  {
   "cell_type": "markdown",
   "id": "66e6a0bd",
   "metadata": {},
   "source": [
    "## Funzioni\n",
    "### Ricorsione\n",
    "\n",
    "Tecnica che prevede che una funzione chiami se stessa.\n",
    "\n",
    "ES scrivere una funzione che dato un intero > 0 ritorni il fattoriale per $n -> 1*2*3*...*n -> n*...*2*1$"
   ]
  },
  {
   "cell_type": "code",
   "execution_count": 1,
   "id": "37e197de",
   "metadata": {},
   "outputs": [],
   "source": [
    "def fattoriale(n):\n",
    "    if n<2:\n",
    "        return 1\n",
    "    return n*fattoriale(n-1)"
   ]
  },
  {
   "cell_type": "code",
   "execution_count": 5,
   "id": "29aa110e",
   "metadata": {},
   "outputs": [
    {
     "data": {
      "text/plain": [
       "3628800"
      ]
     },
     "execution_count": 5,
     "metadata": {},
     "output_type": "execute_result"
    }
   ],
   "source": [
    "fattoriale(10)"
   ]
  },
  {
   "cell_type": "code",
   "execution_count": 10,
   "id": "db2f5f43",
   "metadata": {},
   "outputs": [],
   "source": [
    "def conta_c(n):\n",
    "    while n>0:\n",
    "        print(n)\n",
    "        n-=1"
   ]
  },
  {
   "cell_type": "code",
   "execution_count": 12,
   "id": "370ae4d8",
   "metadata": {},
   "outputs": [
    {
     "name": "stdout",
     "output_type": "stream",
     "text": [
      "7\n",
      "6\n",
      "5\n",
      "4\n",
      "3\n",
      "2\n",
      "1\n"
     ]
    }
   ],
   "source": [
    "conta_c(7)"
   ]
  },
  {
   "cell_type": "code",
   "execution_count": 7,
   "id": "b9eb5a97",
   "metadata": {},
   "outputs": [],
   "source": [
    "def conta_r(n):\n",
    "    if n>0:\n",
    "        print(n)\n",
    "        conta_r(n-1)"
   ]
  },
  {
   "cell_type": "code",
   "execution_count": 9,
   "id": "a4471c67",
   "metadata": {},
   "outputs": [
    {
     "name": "stdout",
     "output_type": "stream",
     "text": [
      "7\n",
      "6\n",
      "5\n",
      "4\n",
      "3\n",
      "2\n",
      "1\n"
     ]
    }
   ],
   "source": [
    "conta_r(7)"
   ]
  },
  {
   "cell_type": "markdown",
   "id": "a4c67262",
   "metadata": {},
   "source": [
    "### Eccezioni Runtime\n",
    "\n",
    "Non possono essere previste prima dell'esecuzione del programma(perchè avvengono secondo lo stato raggiunto dal programma a runtime/in esecuzione). ex divisione per zero, accesso ad una variabile che è stata dichiarata ma non inizializzata.\n",
    "\n",
    "### Eccezioni Programmatiche\n",
    "\n",
    "Sono eccezioni che possono essere previste (e quindi si tende a includere in blocchi try-except). ex il nostro programma python legge da un file sul desktop -> il file non è presente.\n",
    "\n",
    "### Eccezioni Sistemiche\n",
    "\n",
    "La natura di queste eccezioni non è dovuta al codice. Mancata compatibilità con i sistemi (hardware). ex installo un programma che ha bisogno di 100mb di ram su una macchina che ha 32mb di ram."
   ]
  },
  {
   "cell_type": "code",
   "execution_count": null,
   "id": "5396d1a7",
   "metadata": {},
   "outputs": [],
   "source": [
    "2/0"
   ]
  },
  {
   "cell_type": "code",
   "execution_count": 13,
   "id": "1982324c",
   "metadata": {},
   "outputs": [
    {
     "data": {
      "text/plain": [
       "function"
      ]
     },
     "execution_count": 13,
     "metadata": {},
     "output_type": "execute_result"
    }
   ],
   "source": [
    "type(conta_r)"
   ]
  },
  {
   "cell_type": "markdown",
   "id": "2145dc29",
   "metadata": {},
   "source": [
    "Le funzioni possono ritornare più di un valore, in questo caso possiamo fare un assegnamento \"multiplo\" a variabili."
   ]
  },
  {
   "cell_type": "code",
   "execution_count": 14,
   "id": "14567409",
   "metadata": {},
   "outputs": [
    {
     "name": "stdout",
     "output_type": "stream",
     "text": [
      "(['ciao', 'a', 'tutti'], 3)\n"
     ]
    }
   ],
   "source": [
    "def ritorno_doppio():\n",
    "    return['ciao','a','tutti'],3\n",
    "print(ritorno_doppio())\n",
    "#stampa un valore di tupla"
   ]
  },
  {
   "cell_type": "code",
   "execution_count": 15,
   "id": "a465416e",
   "metadata": {},
   "outputs": [
    {
     "name": "stdout",
     "output_type": "stream",
     "text": [
      "['ciao', 'a', 'tutti'] 3\n"
     ]
    }
   ],
   "source": [
    "#unpacking\n",
    "l,n=ritorno_doppio()\n",
    "\n",
    "#stampa i due valori dei corrispettivi tipi\n",
    "print(l,n)"
   ]
  },
  {
   "cell_type": "markdown",
   "id": "9159e0b9",
   "metadata": {},
   "source": [
    "Una funzione ammette multipli parametri in ingresso (argomenti).\n",
    "Alcuni argomenti possono essere \"facoltativi\""
   ]
  },
  {
   "cell_type": "code",
   "execution_count": 17,
   "id": "84226fca",
   "metadata": {},
   "outputs": [],
   "source": [
    "#assegno a parametri facoltativi in valore di default\n",
    "#NB gli argomenti facoltativi devono essere messi dopo gli argomenti obbligatori\n",
    "#altrimenti c'è syntaxError\n",
    "\n",
    "def somma(n1,n2,n3=0):\n",
    "    return n1+n2+n3"
   ]
  },
  {
   "cell_type": "code",
   "execution_count": 18,
   "id": "5ca33b62",
   "metadata": {},
   "outputs": [
    {
     "data": {
      "text/plain": [
       "3"
      ]
     },
     "execution_count": 18,
     "metadata": {},
     "output_type": "execute_result"
    }
   ],
   "source": [
    "somma(1,2)"
   ]
  },
  {
   "cell_type": "code",
   "execution_count": 19,
   "id": "a6898c62",
   "metadata": {},
   "outputs": [
    {
     "data": {
      "text/plain": [
       "\"\\nnon si può mettere eccezione alla sintax error\\ntry:\\n    def somma_2(n1=0,n2,n3):\\n        return n1+n2+n3\\nexcept:\\n    print('errore')\\n\""
      ]
     },
     "execution_count": 19,
     "metadata": {},
     "output_type": "execute_result"
    }
   ],
   "source": [
    "\"\"\"\n",
    "non si può mettere eccezione alla sintax error\n",
    "try:\n",
    "    def somma_2(n1=0,n2,n3):\n",
    "        return n1+n2+n3\n",
    "except:\n",
    "    print('errore')\n",
    "\"\"\""
   ]
  },
  {
   "cell_type": "markdown",
   "id": "885a2390",
   "metadata": {},
   "source": [
    "Conoscendo la def della funz che stiamo chiamando è possibile usare esplicitamente i nomi degli argomenti come mostrato nell'es"
   ]
  },
  {
   "cell_type": "code",
   "execution_count": 20,
   "id": "5c55c1c1",
   "metadata": {},
   "outputs": [
    {
     "name": "stdout",
     "output_type": "stream",
     "text": [
      "6\n"
     ]
    }
   ],
   "source": [
    "print(somma(n3=3,n2=2,n1=1))"
   ]
  },
  {
   "cell_type": "markdown",
   "id": "78392e3e",
   "metadata": {},
   "source": [
    "### Passaggio di parametri avanzato\n",
    "\n",
    "A volte potremmo avere necessità di def una funz che prenda in ingresso un elenco di parametri non noti a priori. Come possiamo programmare tale situazione? Utilizzando il simbolo `*` si trasforma un elenco argomenti in una tupla (identificata da un solo nome di variabile) che può essere iterata."
   ]
  },
  {
   "cell_type": "code",
   "execution_count": 21,
   "id": "4bf78337",
   "metadata": {},
   "outputs": [],
   "source": [
    "def somma_indefiniti_termini(*termini):\n",
    "    print(type(termini))\n",
    "    s=0\n",
    "    for n in termini:\n",
    "        s+=n\n",
    "    return s"
   ]
  },
  {
   "cell_type": "code",
   "execution_count": 22,
   "id": "577fe47e",
   "metadata": {},
   "outputs": [
    {
     "name": "stdout",
     "output_type": "stream",
     "text": [
      "<class 'tuple'>\n"
     ]
    },
    {
     "data": {
      "text/plain": [
       "36"
      ]
     },
     "execution_count": 22,
     "metadata": {},
     "output_type": "execute_result"
    }
   ],
   "source": [
    "somma_indefiniti_termini(2,3,4,5,6,2,4,4,2,4)"
   ]
  },
  {
   "cell_type": "markdown",
   "id": "08072ab8",
   "metadata": {},
   "source": [
    "Il simbolo `**` trasforma un elenco di argomenti in un dizionario.\n",
    "NB per usare `**` in un argomento, i valori passati alla funz sono: a sx dell'= c'è la chiave, a dx dell'= c'è il valore"
   ]
  },
  {
   "cell_type": "code",
   "execution_count": 26,
   "id": "78afbaae",
   "metadata": {},
   "outputs": [],
   "source": [
    "def crea_dict(**termini):\n",
    "    print(type(termini))\n",
    "    for i in termini.items():\n",
    "        print(i)"
   ]
  },
  {
   "cell_type": "code",
   "execution_count": 28,
   "id": "8201ca86",
   "metadata": {},
   "outputs": [
    {
     "name": "stdout",
     "output_type": "stream",
     "text": [
      "<class 'dict'>\n",
      "('key1', 'val1')\n",
      "('key2', 'val2')\n",
      "('key3', 'val3')\n",
      "('key4', 'val4')\n"
     ]
    }
   ],
   "source": [
    "crea_dict(key1='val1', key2='val2', key3='val3', key4='val4')"
   ]
  },
  {
   "cell_type": "markdown",
   "id": "541e7329",
   "metadata": {},
   "source": [
    "### Perchè usare l'operatore *?\n",
    "\n",
    "In alcuni casi non possiamo prevedere quanti parametri verranno passati ad una certa funz. In questo  caso non possiamo def i parametri della suddetta funz in maniera esplicita (es se voglio sommare un num x di interi -> non posso fare def somma(n1,n2,...,nx)).\n",
    "\n",
    "Il numero di argomenti è indefinito, quindi posso usare lo strumento `*` per poter superare questa limitazione.\n",
    "Lo strumento `*` può essere messo davanti al nome di una variabile e verrà tradotto in una tupla che può essere iterata nel body della funzione:\n",
    "def somma(*termini)\n",
    "somma(2,5,9) -> termini = (2,5,9)\n",
    "somma(4,7,10,52) -> termini=(4,7,10,52)"
   ]
  },
  {
   "cell_type": "code",
   "execution_count": 32,
   "id": "1c92021e",
   "metadata": {},
   "outputs": [],
   "source": [
    "def stampa(*termini):\n",
    "    for a in termini:\n",
    "        print(a, end=' ')"
   ]
  },
  {
   "cell_type": "code",
   "execution_count": 35,
   "id": "ac851719",
   "metadata": {},
   "outputs": [
    {
     "name": "stdout",
     "output_type": "stream",
     "text": [
      "1 3 5 7 a [2, 4, 1] 3 "
     ]
    }
   ],
   "source": [
    "stampa(1,3,5,7)\n",
    "stampa('a',[2,4,1],3)"
   ]
  },
  {
   "cell_type": "code",
   "execution_count": 36,
   "id": "0edcbba3",
   "metadata": {},
   "outputs": [
    {
     "name": "stdout",
     "output_type": "stream",
     "text": [
      "1 3 5 7\n",
      "1-3-5-7\n"
     ]
    }
   ],
   "source": [
    "print(1,3,5,7)\n",
    "print(1,3,5,7, sep='-')"
   ]
  },
  {
   "cell_type": "markdown",
   "id": "868d0e3d",
   "metadata": {},
   "source": [
    "Con il simbolo star otteniamo: somma(*n) -> n=(n1,n2,...,nx). Che succede se io passo una tupla?"
   ]
  },
  {
   "cell_type": "code",
   "execution_count": 37,
   "id": "762a1c6f",
   "metadata": {},
   "outputs": [
    {
     "name": "stdout",
     "output_type": "stream",
     "text": [
      "(1, 2, 3) "
     ]
    }
   ],
   "source": [
    "stampa((1,2,3))"
   ]
  },
  {
   "cell_type": "markdown",
   "id": "7f99fa02",
   "metadata": {},
   "source": [
    "Le funzioni in python possono essere trattate come ogg. Ad es una funz può essere passata come argomento di un'altra funzione.\n",
    "\n",
    "ex. ho una losta di interi, voglio creare una lista in cui applico una trasformazione agli interi. lista dei quadrati. lista dei doppi. lista dei tripli..."
   ]
  },
  {
   "cell_type": "code",
   "execution_count": 38,
   "id": "d4c1883f",
   "metadata": {},
   "outputs": [],
   "source": [
    "def quadrato(n):\n",
    "    return n**2\n",
    "\n",
    "def doppio(n):\n",
    "    return n*2\n",
    "\n",
    "def triplo(n):\n",
    "    return n*3\n",
    "\n",
    "lista = [1,2,3,4,5,6,7,8,9]\n",
    "\n",
    "def applica_trasformazione(lista, trasformazione):\n",
    "    return [trasformazione(el) for el in lista]"
   ]
  },
  {
   "cell_type": "code",
   "execution_count": 39,
   "id": "1a5d3252",
   "metadata": {},
   "outputs": [
    {
     "data": {
      "text/plain": [
       "[3, 6, 9, 12, 15, 18, 21, 24, 27]"
      ]
     },
     "execution_count": 39,
     "metadata": {},
     "output_type": "execute_result"
    }
   ],
   "source": [
    "applica_trasformazione(lista, triplo)"
   ]
  },
  {
   "cell_type": "code",
   "execution_count": 40,
   "id": "9f3535cd",
   "metadata": {},
   "outputs": [
    {
     "data": {
      "text/plain": [
       "[[1, 4, 9, 16, 25, 36, 49, 64, 81],\n",
       " [2, 4, 6, 8, 10, 12, 14, 16, 18],\n",
       " [3, 6, 9, 12, 15, 18, 21, 24, 27]]"
      ]
     },
     "execution_count": 40,
     "metadata": {},
     "output_type": "execute_result"
    }
   ],
   "source": [
    "def applica_trasformazioni(lista, trasf_1,trasf_2,trasf_3):\n",
    "    return [\n",
    "        applica_trasformazione(lista, trasf_1),\n",
    "        applica_trasformazione(lista, trasf_2),\n",
    "        applica_trasformazione(lista, trasf_3)\n",
    "    ]\n",
    "\n",
    "applica_trasformazioni(lista, quadrato, doppio, triplo)"
   ]
  },
  {
   "cell_type": "markdown",
   "id": "82641254",
   "metadata": {},
   "source": [
    "Posso scrivere una versione generalizzata di applica trasformazioni. Verrà chiamata app_trasf."
   ]
  },
  {
   "cell_type": "code",
   "execution_count": 43,
   "id": "a67d25e0",
   "metadata": {},
   "outputs": [
    {
     "name": "stdout",
     "output_type": "stream",
     "text": [
      "[[1, 4, 9, 16, 25, 36, 49, 64, 81], [3, 6, 9, 12, 15, 18, 21, 24, 27]]\n",
      "[[3, 6, 9, 12, 15, 18, 21, 24, 27]]\n",
      "[[1, 4, 9, 16, 25, 36, 49, 64, 81], [3, 6, 9, 12, 15, 18, 21, 24, 27], [2, 4, 6, 8, 10, 12, 14, 16, 18]]\n",
      "[[4, 8, 12, 16, 20, 24, 28, 32, 36]]\n"
     ]
    },
    {
     "data": {
      "text/plain": [
       "function"
      ]
     },
     "execution_count": 43,
     "metadata": {},
     "output_type": "execute_result"
    }
   ],
   "source": [
    "def app_trasf(lista, *trasf):\n",
    "    return [\n",
    "        applica_trasformazione(lista, t)\n",
    "        for t in trasf\n",
    "    ]\n",
    "\n",
    "print(app_trasf(lista, quadrato, triplo))\n",
    "print(app_trasf(lista, triplo))\n",
    "print(app_trasf(lista, quadrato, triplo, doppio))\n",
    "print(app_trasf(lista, lambda n: n*4))\n",
    "\n",
    "type(lambda a: a)"
   ]
  },
  {
   "cell_type": "markdown",
   "id": "91692d90",
   "metadata": {},
   "source": [
    "### La funzione MAP\n",
    "\n",
    "Funz di build in che permette di mappare una funz su una collezione: fa la stessa cosa che fa la nostra funz applica_trasformazione "
   ]
  },
  {
   "cell_type": "code",
   "execution_count": 44,
   "id": "956386df",
   "metadata": {},
   "outputs": [
    {
     "data": {
      "text/plain": [
       "[1, 4, 9]"
      ]
     },
     "execution_count": 44,
     "metadata": {},
     "output_type": "execute_result"
    }
   ],
   "source": [
    "list(map(lambda x: x**2, [1,2,3]))"
   ]
  },
  {
   "cell_type": "code",
   "execution_count": 45,
   "id": "396fe8a3",
   "metadata": {},
   "outputs": [
    {
     "data": {
      "text/plain": [
       "[1, 4, 9, 16, 25]"
      ]
     },
     "execution_count": 45,
     "metadata": {},
     "output_type": "execute_result"
    }
   ],
   "source": [
    "list(map(quadrato,[1,2,3,4,5]))"
   ]
  },
  {
   "cell_type": "markdown",
   "id": "4de94e4b",
   "metadata": {},
   "source": [
    "Come vengono gestiti gli errori di runtime sulla funz map"
   ]
  },
  {
   "cell_type": "code",
   "execution_count": 47,
   "id": "0fda6582",
   "metadata": {},
   "outputs": [
    {
     "name": "stdout",
     "output_type": "stream",
     "text": [
      "map fallisce se si verifica eccezione runtime\n"
     ]
    }
   ],
   "source": [
    "def divisione(n):\n",
    "    return 10/n\n",
    "\n",
    "try:\n",
    "    list(map(divisione, [2,5,0,3]))\n",
    "except:\n",
    "    print('map fallisce se si verifica eccezione runtime')"
   ]
  },
  {
   "cell_type": "markdown",
   "id": "87bdb348",
   "metadata": {},
   "source": [
    "### Lambda function\n",
    "\n",
    "Le funzioni possono essere trattate come \"oggetti\" e quindi passate anche come argomento ad altre funzioni. Questa feature di python risulata utile ad es nell'uso di funz di mapping.\n",
    "\n",
    "Alle volte, durante queste operazioni, potremmo aver bisogno di utilizzare una funz \"una tantum\". In quetso caso non servirebbe definirle attraverso la parola chiave \"def\" e non avrebbe senso darlo alcun nome.\n",
    "\n",
    "Eliminiamo \"def\", eliminiamo il \"nome della funz\" quindi rimane:\n",
    "1. argomenti \n",
    "2. body \n",
    "3. eventuale ritorno\n",
    "\n",
    "Ricordarsi che le lambda function sono argomento complesso.\n",
    "\n",
    "Python offre una keyword \"lambda\". Essa permette di def una funz anonima che verrà utilizzata al bisogno.\n",
    "\n",
    "Un almbda function dovrebbe essere molto breve (one line) e di facile lettura: concisa.\n",
    "\n",
    "sintassi: \n",
    "(keyword) lambda (argomenti) x (due punti) : (il ritorno one-line) x**2\n",
    "\n",
    "NB non si scrive il return esplicitamente"
   ]
  },
  {
   "cell_type": "code",
   "execution_count": 48,
   "id": "1f513c19",
   "metadata": {},
   "outputs": [
    {
     "data": {
      "text/plain": [
       "[0.1, 0.2, 0.3, 0.4]"
      ]
     },
     "execution_count": 48,
     "metadata": {},
     "output_type": "execute_result"
    }
   ],
   "source": [
    "list(map(lambda n: n/10, [1,2,3,4]))"
   ]
  },
  {
   "cell_type": "code",
   "execution_count": 50,
   "id": "faf24794",
   "metadata": {},
   "outputs": [
    {
     "name": "stdout",
     "output_type": "stream",
     "text": [
      "4\n"
     ]
    }
   ],
   "source": [
    "a = lambda x : x**2\n",
    "print(a(2))"
   ]
  },
  {
   "cell_type": "markdown",
   "id": "18c55f3b",
   "metadata": {},
   "source": [
    "Funzione Sum di sistema che somma gli elementi (prende solo tuple), ma ocn la lambda riusciamo a inserire num a caso senza bisogno di passar eper le tuple"
   ]
  },
  {
   "cell_type": "code",
   "execution_count": 54,
   "id": "a7bc7238",
   "metadata": {},
   "outputs": [
    {
     "data": {
      "text/plain": [
       "6"
      ]
     },
     "execution_count": 54,
     "metadata": {},
     "output_type": "execute_result"
    }
   ],
   "source": [
    "sum([1,2,3])"
   ]
  },
  {
   "cell_type": "code",
   "execution_count": 55,
   "id": "a723862b",
   "metadata": {},
   "outputs": [
    {
     "name": "stdout",
     "output_type": "stream",
     "text": [
      "6\n"
     ]
    }
   ],
   "source": [
    "somma = lambda *n: sum(n)\n",
    "\n",
    "print(somma(1,2,3))"
   ]
  },
  {
   "cell_type": "code",
   "execution_count": 57,
   "id": "e2526fd6",
   "metadata": {},
   "outputs": [
    {
     "name": "stdout",
     "output_type": "stream",
     "text": [
      "1024\n",
      "1024\n"
     ]
    }
   ],
   "source": [
    "def eleva(base, exp):\n",
    "    return base**exp\n",
    "\n",
    "eleva_2=lambda b,e : b**e\n",
    "\n",
    "print(eleva(2,10))\n",
    "print(eleva_2(2,10))"
   ]
  },
  {
   "cell_type": "markdown",
   "id": "a47bb5d5",
   "metadata": {},
   "source": [
    "### Assertion\n",
    "\n",
    "A volte è necessario testare il comportamento di alcune routine, nel caso in cui gli sviluppi siano inaspettati potremmo "
   ]
  },
  {
   "cell_type": "markdown",
   "id": "14d4be32",
   "metadata": {},
   "source": [
    "### Built-in\n",
    "\n",
    "Ci sono molte funzioni di built-in"
   ]
  },
  {
   "cell_type": "code",
   "execution_count": 59,
   "id": "fceb6f5a",
   "metadata": {},
   "outputs": [
    {
     "name": "stdout",
     "output_type": "stream",
     "text": [
      "print(\"ciao\")\n",
      "ciao\n"
     ]
    }
   ],
   "source": [
    "programma= 'print(\"ciao\")'\n",
    "\n",
    "print(programma)\n",
    "eval(programma)"
   ]
  },
  {
   "cell_type": "code",
   "execution_count": 60,
   "id": "a4f5573d",
   "metadata": {},
   "outputs": [
    {
     "data": {
      "text/plain": [
       "['ArithmeticError',\n",
       " 'AssertionError',\n",
       " 'AttributeError',\n",
       " 'BaseException',\n",
       " 'BlockingIOError',\n",
       " 'BrokenPipeError',\n",
       " 'BufferError',\n",
       " 'BytesWarning',\n",
       " 'ChildProcessError',\n",
       " 'ConnectionAbortedError',\n",
       " 'ConnectionError',\n",
       " 'ConnectionRefusedError',\n",
       " 'ConnectionResetError',\n",
       " 'DeprecationWarning',\n",
       " 'EOFError',\n",
       " 'Ellipsis',\n",
       " 'EncodingWarning',\n",
       " 'EnvironmentError',\n",
       " 'Exception',\n",
       " 'False',\n",
       " 'FileExistsError',\n",
       " 'FileNotFoundError',\n",
       " 'FloatingPointError',\n",
       " 'FutureWarning',\n",
       " 'GeneratorExit',\n",
       " 'IOError',\n",
       " 'ImportError',\n",
       " 'ImportWarning',\n",
       " 'IndentationError',\n",
       " 'IndexError',\n",
       " 'InterruptedError',\n",
       " 'IsADirectoryError',\n",
       " 'KeyError',\n",
       " 'KeyboardInterrupt',\n",
       " 'LookupError',\n",
       " 'MemoryError',\n",
       " 'ModuleNotFoundError',\n",
       " 'NameError',\n",
       " 'None',\n",
       " 'NotADirectoryError',\n",
       " 'NotImplemented',\n",
       " 'NotImplementedError',\n",
       " 'OSError',\n",
       " 'OverflowError',\n",
       " 'PendingDeprecationWarning',\n",
       " 'PermissionError',\n",
       " 'ProcessLookupError',\n",
       " 'RecursionError',\n",
       " 'ReferenceError',\n",
       " 'ResourceWarning',\n",
       " 'RuntimeError',\n",
       " 'RuntimeWarning',\n",
       " 'StopAsyncIteration',\n",
       " 'StopIteration',\n",
       " 'SyntaxError',\n",
       " 'SyntaxWarning',\n",
       " 'SystemError',\n",
       " 'SystemExit',\n",
       " 'TabError',\n",
       " 'TimeoutError',\n",
       " 'True',\n",
       " 'TypeError',\n",
       " 'UnboundLocalError',\n",
       " 'UnicodeDecodeError',\n",
       " 'UnicodeEncodeError',\n",
       " 'UnicodeError',\n",
       " 'UnicodeTranslateError',\n",
       " 'UnicodeWarning',\n",
       " 'UserWarning',\n",
       " 'ValueError',\n",
       " 'Warning',\n",
       " 'WindowsError',\n",
       " 'ZeroDivisionError',\n",
       " '__IPYTHON__',\n",
       " '__build_class__',\n",
       " '__debug__',\n",
       " '__doc__',\n",
       " '__import__',\n",
       " '__loader__',\n",
       " '__name__',\n",
       " '__package__',\n",
       " '__spec__',\n",
       " 'abs',\n",
       " 'aiter',\n",
       " 'all',\n",
       " 'anext',\n",
       " 'any',\n",
       " 'ascii',\n",
       " 'bin',\n",
       " 'bool',\n",
       " 'breakpoint',\n",
       " 'bytearray',\n",
       " 'bytes',\n",
       " 'callable',\n",
       " 'chr',\n",
       " 'classmethod',\n",
       " 'compile',\n",
       " 'complex',\n",
       " 'copyright',\n",
       " 'credits',\n",
       " 'delattr',\n",
       " 'dict',\n",
       " 'dir',\n",
       " 'display',\n",
       " 'divmod',\n",
       " 'enumerate',\n",
       " 'eval',\n",
       " 'exec',\n",
       " 'execfile',\n",
       " 'filter',\n",
       " 'float',\n",
       " 'format',\n",
       " 'frozenset',\n",
       " 'get_ipython',\n",
       " 'getattr',\n",
       " 'globals',\n",
       " 'hasattr',\n",
       " 'hash',\n",
       " 'help',\n",
       " 'hex',\n",
       " 'id',\n",
       " 'input',\n",
       " 'int',\n",
       " 'isinstance',\n",
       " 'issubclass',\n",
       " 'iter',\n",
       " 'len',\n",
       " 'license',\n",
       " 'list',\n",
       " 'locals',\n",
       " 'map',\n",
       " 'max',\n",
       " 'memoryview',\n",
       " 'min',\n",
       " 'next',\n",
       " 'object',\n",
       " 'oct',\n",
       " 'open',\n",
       " 'ord',\n",
       " 'pow',\n",
       " 'print',\n",
       " 'property',\n",
       " 'range',\n",
       " 'repr',\n",
       " 'reversed',\n",
       " 'round',\n",
       " 'runfile',\n",
       " 'set',\n",
       " 'setattr',\n",
       " 'slice',\n",
       " 'sorted',\n",
       " 'staticmethod',\n",
       " 'str',\n",
       " 'sum',\n",
       " 'super',\n",
       " 'tuple',\n",
       " 'type',\n",
       " 'vars',\n",
       " 'zip']"
      ]
     },
     "execution_count": 60,
     "metadata": {},
     "output_type": "execute_result"
    }
   ],
   "source": [
    "dir(__builtins__)"
   ]
  },
  {
   "cell_type": "markdown",
   "id": "be53e9a7",
   "metadata": {},
   "source": [
    "### ESERCIZI \n",
    "\n",
    "1. Data una stringa, ritornare una lista delle sole NON vocali (consonanti, simboli) più frequenti \"aaabbbcccdd\" -> [b, c]"
   ]
  },
  {
   "cell_type": "code",
   "execution_count": 86,
   "id": "4368303d",
   "metadata": {},
   "outputs": [
    {
     "name": "stdout",
     "output_type": "stream",
     "text": [
      "['b', 'c']\n"
     ]
    }
   ],
   "source": [
    "import collections\n",
    "\n",
    "s = 'aaabbbcccdd'\n",
    "consonanti = []\n",
    "vocali = {'a','e','i','o','u'}\n",
    "\n",
    "for i in s:\n",
    "    if i not in vocali:\n",
    "        consonanti.append(i)\n",
    "        \n",
    "cons_str = ''.join(consonanti)\n",
    "results = collections.Counter(cons_str)\n",
    "\n",
    "max_seq=0\n",
    "for lettera, ripetizioni in results.most_common():\n",
    "    if ripetizioni > max_seq:\n",
    "        max_seq = ripetizioni\n",
    "      \n",
    "lista_risultato = []\n",
    "\n",
    "[\n",
    "    lista_risultato.append(x)\n",
    "    for x, num in results.most_common()\n",
    "    if num == max_seq\n",
    "]\n",
    "\n",
    "print(lista_risultato)"
   ]
  },
  {
   "cell_type": "code",
   "execution_count": 106,
   "id": "32a069d8",
   "metadata": {},
   "outputs": [
    {
     "name": "stdout",
     "output_type": "stream",
     "text": [
      "['b', 'c']\n"
     ]
    }
   ],
   "source": [
    "#alternativa decisamente più comprensibile\n",
    "\n",
    "s = 'aaabbbcccdd'\n",
    "\n",
    "\n",
    "\n",
    "def lettere_ricorrenti(s):\n",
    "    d = {l : 0 for l in s}\n",
    "    for l in s:\n",
    "        d[l] = d[l] +1\n",
    "    return d\n",
    "\n",
    "\"\"\"\n",
    "def lett_ricorr(s):\n",
    "    \n",
    "\"\"\"\n",
    "\n",
    "def elimina_lettera(s, *lettera):\n",
    "    lista = list(lettera)\n",
    "    for l in lista:\n",
    "        if l in s:\n",
    "            s = s.replace(l, '')\n",
    "    return s\n",
    "\n",
    "def elim_let(s,*lettera):\n",
    "    return ''.join([c for c in s if c not in lettera])\n",
    "\n",
    "\n",
    "def maggior_frequenza(d):\n",
    "    max_v = max(d.values())\n",
    "    lista_frequente = [k for k,v in d.items() if v == max_v]\n",
    "    return lista_frequente\n",
    "    \n",
    "        \n",
    "\n",
    "\n",
    "\n",
    "s = elimina_lettera(s,'a','e','i','o','u')\n",
    "d = lettere_ricorrenti(s)\n",
    "l = maggior_frequenza(d)\n",
    "print(l)"
   ]
  },
  {
   "cell_type": "markdown",
   "id": "651b863b",
   "metadata": {},
   "source": [
    "2. Data una lista di stringhe, creare (con dict comprehension) un dizionario che abbia come key la stringa e come value le vocali più frequenti nella stringa."
   ]
  },
  {
   "cell_type": "code",
   "execution_count": 133,
   "id": "30988b94",
   "metadata": {
    "scrolled": true
   },
   "outputs": [
    {
     "name": "stdout",
     "output_type": "stream",
     "text": [
      "{'aaabbbcccddeee': ['a', 'e'], 'hhhiiiiiiilloo': ['i'], 'aaaajaaaw': ['a'], 'uuuuyyggggtttt': ['u']}\n"
     ]
    }
   ],
   "source": [
    "l = ['aaabbbcccddeee', 'hhhiiiiiiilloo', 'aaaajaaaw', 'uuuuyyggggtttt']\n",
    "\n",
    "def elim_let(s,*lettera):\n",
    "    return ''.join([c for c in s if c in lettera])\n",
    "\n",
    "def lettere(s):\n",
    "    s = elim_let(s,'a','e','i','o','u')\n",
    "    d = lettere_ricorrenti(s)\n",
    "    l = maggior_frequenza(d)\n",
    "    return l\n",
    "\n",
    "lettere(l[3])\n",
    "\n",
    "def freq_in_str(l, lettere):\n",
    "    diz = dict()\n",
    "    diz = {}\n",
    "    for k in l:\n",
    "        a = lettere(k)\n",
    "        diz[k] = a\n",
    "    print(diz)\n",
    "    \n",
    "freq_in_str(l,lettere)"
   ]
  },
  {
   "cell_type": "markdown",
   "id": "f78c427a",
   "metadata": {},
   "source": [
    "Versione bella:\n"
   ]
  },
  {
   "cell_type": "code",
   "execution_count": 134,
   "id": "62c1d7a6",
   "metadata": {},
   "outputs": [
    {
     "data": {
      "text/plain": [
       "{'aaabbbcccddeee': ['a', 'e'],\n",
       " 'hhhiiiiiiilloo': ['i'],\n",
       " 'aaaajaaaw': ['a'],\n",
       " 'uuuuyyggggtttt': ['u']}"
      ]
     },
     "execution_count": 134,
     "metadata": {},
     "output_type": "execute_result"
    }
   ],
   "source": [
    "{k:lettere(k) for k in l}"
   ]
  },
  {
   "cell_type": "markdown",
   "id": "79d5e1ff",
   "metadata": {},
   "source": [
    "3. dati due interi, trovare minimo comune multiplo, massimo comun divisore (back to skuola media)"
   ]
  },
  {
   "cell_type": "code",
   "execution_count": 91,
   "id": "024fe6ce",
   "metadata": {},
   "outputs": [],
   "source": [
    "def is_primo(n):  \n",
    "    return [x for x in range(2,n) if n%x==0]==[]\n",
    "\n",
    "def genera_primi(n):  \n",
    "    return [x for x in range(2,n) if is_primo(x)]\n",
    "\n",
    "def fattori(n):\n",
    "    fattori=genera_primi(n)  \n",
    "    if is_primo(n):\n",
    "        return (n,1)\n",
    "    res=[]  \n",
    "    resto=n\n",
    "    for f in fattori:  \n",
    "        temp=[f,0]\n",
    "        while resto%f==0:\n",
    "            resto=resto/f\n",
    "            temp=[f,temp[1]+1]\n",
    "        if temp[1]!=0:\n",
    "            res.append(temp)   \n",
    "    return res"
   ]
  },
  {
   "cell_type": "code",
   "execution_count": 90,
   "id": "13d54ef8",
   "metadata": {},
   "outputs": [
    {
     "name": "stdout",
     "output_type": "stream",
     "text": [
      "None\n"
     ]
    }
   ],
   "source": [
    "def mcm(n,m):\n",
    "    a = lambda *x,y : x*y in fattori(n)\n",
    "    lambda a : max(a)\n",
    "\n",
    "print(mcm(2,3))"
   ]
  },
  {
   "cell_type": "code",
   "execution_count": null,
   "id": "adbbb2b3",
   "metadata": {},
   "outputs": [],
   "source": [
    "def mcd(n,m):\n",
    "    "
   ]
  }
 ],
 "metadata": {
  "kernelspec": {
   "display_name": "Python 3 (ipykernel)",
   "language": "python",
   "name": "python3"
  },
  "language_info": {
   "codemirror_mode": {
    "name": "ipython",
    "version": 3
   },
   "file_extension": ".py",
   "mimetype": "text/x-python",
   "name": "python",
   "nbconvert_exporter": "python",
   "pygments_lexer": "ipython3",
   "version": "3.10.7"
  }
 },
 "nbformat": 4,
 "nbformat_minor": 5
}
