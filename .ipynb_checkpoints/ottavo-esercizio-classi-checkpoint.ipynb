{
 "cells": [
  {
   "cell_type": "markdown",
   "id": "aac37785",
   "metadata": {},
   "source": [
    "### all() and any()\n",
    "\n",
    "Funz di built in che hanno un ritorno booleano.\n",
    "\n",
    "1. All prende in ingresso una collezione di booleani e ritorna True se TUTTI sono True\n",
    "2. Any prende in ingresso una collezione di booleani e ritorna True se ALMENO UNO è True"
   ]
  },
  {
   "cell_type": "code",
   "execution_count": 1,
   "id": "71bc82d2",
   "metadata": {},
   "outputs": [],
   "source": [
    "def is_primo(n):\n",
    "    i=2\n",
    "    if n == 1 or n==2:\n",
    "        return True\n",
    "    while i < n :\n",
    "        if n % i == 0:\n",
    "            return False\n",
    "            i+=1\n",
    "        else:\n",
    "            return True"
   ]
  },
  {
   "cell_type": "code",
   "execution_count": 3,
   "id": "b3b92d41",
   "metadata": {},
   "outputs": [],
   "source": [
    "assert all([is_primo(n) for n in [2,3,5,7,19,23]])\n",
    "assert not all ([is_primo(n) for n in [2,3,5,7,19,23,4]])\n",
    "\n",
    "assert any([is_primo(n) for n in [4,6,8,9,11]])"
   ]
  },
  {
   "cell_type": "markdown",
   "id": "cf677b57",
   "metadata": {},
   "source": [
    "### Le classi in python \n",
    "\n",
    "Ci permettono di definire ed usare strutture di dati che contengpono variabili e funz.\n",
    "(keyword) class (nome classe) Persona (due punti) :\n",
    "\n",
    "NB i nomi delle classi per convenzione sono con la lettera maiuscola"
   ]
  },
  {
   "cell_type": "code",
   "execution_count": 4,
   "id": "95b5849d",
   "metadata": {},
   "outputs": [],
   "source": [
    "class Persona:\n",
    "    pass"
   ]
  },
  {
   "cell_type": "code",
   "execution_count": 5,
   "id": "3e7b2be0",
   "metadata": {},
   "outputs": [
    {
     "data": {
      "text/plain": [
       "['__class__',\n",
       " '__delattr__',\n",
       " '__dict__',\n",
       " '__dir__',\n",
       " '__doc__',\n",
       " '__eq__',\n",
       " '__format__',\n",
       " '__ge__',\n",
       " '__getattribute__',\n",
       " '__gt__',\n",
       " '__hash__',\n",
       " '__init__',\n",
       " '__init_subclass__',\n",
       " '__le__',\n",
       " '__lt__',\n",
       " '__module__',\n",
       " '__ne__',\n",
       " '__new__',\n",
       " '__reduce__',\n",
       " '__reduce_ex__',\n",
       " '__repr__',\n",
       " '__setattr__',\n",
       " '__sizeof__',\n",
       " '__str__',\n",
       " '__subclasshook__',\n",
       " '__weakref__']"
      ]
     },
     "execution_count": 5,
     "metadata": {},
     "output_type": "execute_result"
    }
   ],
   "source": [
    "dir(Persona)"
   ]
  },
  {
   "cell_type": "markdown",
   "id": "eee38448",
   "metadata": {},
   "source": [
    "### Istanziare una classe\n",
    "\n",
    "Per creare una nuova istanza di una nuova persona:"
   ]
  },
  {
   "cell_type": "code",
   "execution_count": 7,
   "id": "dd580f88",
   "metadata": {},
   "outputs": [
    {
     "data": {
      "text/plain": [
       "__main__.Persona"
      ]
     },
     "execution_count": 7,
     "metadata": {},
     "output_type": "execute_result"
    }
   ],
   "source": [
    "mario=Persona()\n",
    "type(mario) "
   ]
  },
  {
   "cell_type": "markdown",
   "id": "b6591fa7",
   "metadata": {},
   "source": [
    "Le classi costituiscono tipi.\n",
    "\n",
    "Se provo a printare mario c'è una mancanza di rappresentazione stringa: viene usata solo quella di default. Esce quindi l'ogg e il suo spazio in memoria"
   ]
  },
  {
   "cell_type": "code",
   "execution_count": 8,
   "id": "6daab747",
   "metadata": {},
   "outputs": [
    {
     "name": "stdout",
     "output_type": "stream",
     "text": [
      "<__main__.Persona object at 0x00000208180E4FD0>\n"
     ]
    }
   ],
   "source": [
    "print(mario)"
   ]
  },
  {
   "cell_type": "markdown",
   "id": "97fdaac7",
   "metadata": {},
   "source": [
    "è possibile assegnare degli attributi (variabili) ad una classe. Le classi rappresenrtano \"ogg\" della vita reale. ex una oersona è caratterizzata da Nome, Cognome, Email...\n",
    "\n",
    "La quantità di attributi che dichiariamo in una classe è proporzionale a quanto dettagliatamente vogliamo descrivere l'oggetto.\n",
    "\n",
    "Ogni funz all'interno di una classe deve avere come primo argomento una parola chiave di python che si chiama self (e indica se stessa)"
   ]
  },
  {
   "cell_type": "code",
   "execution_count": 30,
   "id": "a1032a53",
   "metadata": {},
   "outputs": [
    {
     "ename": "IndentationError",
     "evalue": "unexpected indent (2970361948.py, line 20)",
     "output_type": "error",
     "traceback": [
      "\u001b[1;36m  Cell \u001b[1;32mIn [30], line 20\u001b[1;36m\u001b[0m\n\u001b[1;33m    + ', mail: ' + self.email + self.anno\u001b[0m\n\u001b[1;37m    ^\u001b[0m\n\u001b[1;31mIndentationError\u001b[0m\u001b[1;31m:\u001b[0m unexpected indent\n"
     ]
    }
   ],
   "source": [
    "class Persona:\n",
    "    \"\"\"\n",
    "    quando dichiariamo una classe è convenzione def un metodo speciale che \n",
    "    descrive gli attributi. Questo metodo speciale si chiama __init__\n",
    "    Di default la funz __init__ di una nuova classe è vuota, noi quindi\n",
    "    la ridefiniamo per metterci gli attributi che vogliamo sovrascrivendola\n",
    "    \"\"\"\n",
    "    def __init__(self, nome, cognome, email, anno_nascita=1900):\n",
    "        self.nome = nome\n",
    "        self.cognome = cognome\n",
    "        self.email = email\n",
    "        self.anno_nascita = anno_nascita\n",
    "    \n",
    "    \"\"\"\n",
    "    La funz __str__ viene implicitamente chiamata da print.\n",
    "    Print stampa il valore stringa ritornato da __str__\n",
    "    \"\"\"\n",
    "    def __str__(self):\n",
    "        return 'Nome: ' + self.nome + ', Cognome: ' + self.cognome \n",
    "                + ', mail: ' + self.email + self.anno"
   ]
  },
  {
   "cell_type": "code",
   "execution_count": null,
   "id": "e3d73d0b",
   "metadata": {},
   "outputs": [],
   "source": []
  },
  {
   "cell_type": "code",
   "execution_count": 13,
   "id": "fb234151",
   "metadata": {},
   "outputs": [
    {
     "data": {
      "text/plain": [
       "{'nome': 'Valentina', 'cognome': 'Verdi'}"
      ]
     },
     "execution_count": 13,
     "metadata": {},
     "output_type": "execute_result"
    }
   ],
   "source": [
    "#per capire meglio la quesione del self\n",
    "#sembra uguale al this in java \n",
    "\n",
    "persona={}\n",
    "persona['nome']='Valentina'\n",
    "persona['cognome']='Verdi'\n",
    "persona"
   ]
  },
  {
   "cell_type": "markdown",
   "id": "b24ed981",
   "metadata": {},
   "source": [
    "Devo mettere le stringe dentro persona perchè in questo moedo sto chiamando in modo corretto la funzione di init (saltando self perchè è implicito). Per sapere cosa c'è dentro pesona e quindi quali attributi servono basta help(Persona)"
   ]
  },
  {
   "cell_type": "code",
   "execution_count": 28,
   "id": "f96f0ef8",
   "metadata": {},
   "outputs": [
    {
     "name": "stdout",
     "output_type": "stream",
     "text": [
      "Mario Rossi fie@fewfg\n"
     ]
    }
   ],
   "source": [
    "mario = Persona('Mario','Rossi','fie@fewfg')\n",
    "print(mario.nome, mario.cognome, mario.email)"
   ]
  },
  {
   "cell_type": "code",
   "execution_count": 29,
   "id": "195c9df2",
   "metadata": {},
   "outputs": [
    {
     "name": "stdout",
     "output_type": "stream",
     "text": [
      "Nome: Mario, Cognome: Rossi, mail: fie@fewfg\n"
     ]
    }
   ],
   "source": [
    "mario.__str__()\n",
    "print(mario)"
   ]
  },
  {
   "cell_type": "code",
   "execution_count": null,
   "id": "07882fd6",
   "metadata": {},
   "outputs": [],
   "source": []
  }
 ],
 "metadata": {
  "kernelspec": {
   "display_name": "Python 3 (ipykernel)",
   "language": "python",
   "name": "python3"
  },
  "language_info": {
   "codemirror_mode": {
    "name": "ipython",
    "version": 3
   },
   "file_extension": ".py",
   "mimetype": "text/x-python",
   "name": "python",
   "nbconvert_exporter": "python",
   "pygments_lexer": "ipython3",
   "version": "3.10.7"
  }
 },
 "nbformat": 4,
 "nbformat_minor": 5
}
