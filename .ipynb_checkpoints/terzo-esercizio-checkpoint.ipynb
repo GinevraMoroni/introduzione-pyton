{
 "cells": [
  {
   "cell_type": "markdown",
   "id": "5e0d2ef1",
   "metadata": {},
   "source": [
    "# LE STRINGHE\n",
    "\n",
    "In pyhton le stringhe sono viste come \"sequenze di caratteri\". La stringa è un tipo di dato Python che contiene funzioni "
   ]
  },
  {
   "cell_type": "code",
   "execution_count": 1,
   "id": "360420ec",
   "metadata": {},
   "outputs": [
    {
     "name": "stdout",
     "output_type": "stream",
     "text": [
      "[1, 2, 3, 4, 5, 6, 7, 8, 9]\n"
     ]
    }
   ],
   "source": [
    "s = '0123456789'\n",
    "print(s)"
   ]
  },
  {
   "cell_type": "code",
   "execution_count": 2,
   "id": "74c26143",
   "metadata": {},
   "outputs": [
    {
     "name": "stdout",
     "output_type": "stream",
     "text": [
      "[0, 1, 2, 3, 4, 5, 6, 7, 8, 9]\n",
      "[0, 1, 'ciao', 3, 4, 5, 6, 7, 8, 9]\n"
     ]
    }
   ],
   "source": [
    "l = [0,1,2,3,4,5,6,7,8,9]\n",
    "print(l)\n",
    "l[2] = 'ciao'\n",
    "print(l)"
   ]
  },
  {
   "cell_type": "markdown",
   "id": "975f6e72",
   "metadata": {},
   "source": [
    "NB Le stringhe sono mutabili"
   ]
  },
  {
   "cell_type": "code",
   "execution_count": 6,
   "id": "e94ea87a",
   "metadata": {},
   "outputs": [
    {
     "name": "stdout",
     "output_type": "stream",
     "text": [
      "operazione fallita\n"
     ]
    }
   ],
   "source": [
    "try:\n",
    "    s[2] = 'x'\n",
    "except:\n",
    "    print('operazione fallita')"
   ]
  },
  {
   "cell_type": "code",
   "execution_count": 9,
   "id": "01b883e3",
   "metadata": {},
   "outputs": [
    {
     "ename": "NameError",
     "evalue": "name 's' is not defined",
     "output_type": "error",
     "traceback": [
      "\u001b[1;31m---------------------------------------------------------------------------\u001b[0m",
      "\u001b[1;31mNameError\u001b[0m                                 Traceback (most recent call last)",
      "Cell \u001b[1;32mIn [9], line 1\u001b[0m\n\u001b[1;32m----> 1\u001b[0m s \u001b[38;5;241m=\u001b[39m \u001b[43ms\u001b[49m[:\u001b[38;5;241m2\u001b[39m] \u001b[38;5;241m+\u001b[39m \u001b[38;5;124m'\u001b[39m\u001b[38;5;124mx\u001b[39m\u001b[38;5;124m'\u001b[39m \u001b[38;5;241m+\u001b[39m s[\u001b[38;5;241m3\u001b[39m:]\n\u001b[0;32m      2\u001b[0m \u001b[38;5;28mprint\u001b[39m(s)\n",
      "\u001b[1;31mNameError\u001b[0m: name 's' is not defined"
     ]
    }
   ],
   "source": [
    "s = s[:2] + 'x' + s[3:]\n",
    "print(s)"
   ]
  },
  {
   "cell_type": "code",
   "execution_count": 5,
   "id": "0cb25c0d",
   "metadata": {},
   "outputs": [
    {
     "name": "stdout",
     "output_type": "stream",
     "text": [
      "ciao ciao questo è un \"esempio\" di utilizzo di apici combinati\n"
     ]
    }
   ],
   "source": [
    "s2 = \"ciao\"\n",
    "s3 = 'ciao'\n",
    "s4 = 'questo è un \"esempio\" di utilizzo di apici combinati'\n",
    "print(s2,s3,s4)"
   ]
  },
  {
   "cell_type": "markdown",
   "id": "6057e6ac",
   "metadata": {},
   "source": [
    "con \\n ho una nuova riga mentre con \\t il tab"
   ]
  },
  {
   "cell_type": "code",
   "execution_count": 6,
   "id": "77aa0572",
   "metadata": {},
   "outputs": [
    {
     "name": "stdout",
     "output_type": "stream",
     "text": [
      "1\n",
      "2\n",
      "3\n",
      "auguri\n"
     ]
    }
   ],
   "source": [
    "s = '1\\n2\\n3\\nauguri'\n",
    "print(s)"
   ]
  },
  {
   "cell_type": "code",
   "execution_count": 9,
   "id": "1b557933",
   "metadata": {},
   "outputs": [
    {
     "name": "stdout",
     "output_type": "stream",
     "text": [
      "nome\tcognome\n",
      "maria\tverdi\n",
      "mario\trossi\n"
     ]
    }
   ],
   "source": [
    "s='nome\\tcognome\\nmaria\\tverdi\\nmario\\trossi'\n",
    "print(s)"
   ]
  },
  {
   "cell_type": "code",
   "execution_count": 12,
   "id": "f47a9cbf",
   "metadata": {},
   "outputs": [
    {
     "name": "stdout",
     "output_type": "stream",
     "text": [
      " questa stringa\n",
      "è molto\n",
      "lunga\n",
      "'qui posso anche usare apici sigoli'\n",
      "\n",
      "\n"
     ]
    }
   ],
   "source": [
    "s = \"\"\" questa stringa\n",
    "è molto\n",
    "lunga\n",
    "'qui posso anche usare apici sigoli'\n",
    "\n",
    "\"\"\"\n",
    "print(s)"
   ]
  },
  {
   "cell_type": "markdown",
   "id": "304f2a3f",
   "metadata": {},
   "source": [
    "Si possono concatenare le stringhe tramite il +. A differenza dell'effetto che il + ha sui dati numerici, il risultato cambia. Python capisce come usre l'operatore in base al tipo di dato. Si dice che fa \"inferenza\" con il tipo di dato. Si può anche usare l'operatore * per operre sulle stringe"
   ]
  },
  {
   "cell_type": "code",
   "execution_count": 13,
   "id": "8ecd4672",
   "metadata": {},
   "outputs": [
    {
     "name": "stdout",
     "output_type": "stream",
     "text": [
      "ciaociaociaociaociao\n"
     ]
    }
   ],
   "source": [
    "s = 'ciao'\n",
    "print(s*5)"
   ]
  },
  {
   "cell_type": "code",
   "execution_count": 14,
   "id": "39a0164b",
   "metadata": {},
   "outputs": [
    {
     "name": "stdout",
     "output_type": "stream",
     "text": [
      "[0, 1, 'ciao', 3, 4, 5, 6, 7, 8, 9, 0, 1, 'ciao', 3, 4, 5, 6, 7, 8, 9]\n"
     ]
    }
   ],
   "source": [
    "print(l*2)"
   ]
  },
  {
   "cell_type": "markdown",
   "id": "ed8b1b8f",
   "metadata": {},
   "source": [
    "Si può scovrascrivere il comportamento degli operatori fondamentli.\n",
    "str() funzione build in per cambiare il tipo in stringa"
   ]
  },
  {
   "cell_type": "code",
   "execution_count": 16,
   "id": "227a715e",
   "metadata": {},
   "outputs": [
    {
     "name": "stdout",
     "output_type": "stream",
     "text": [
      "0-1-ciao-3-4-5-6-7-8-9\n"
     ]
    }
   ],
   "source": [
    "st = '-'.join([str(v) for v in l])\n",
    "print(st)"
   ]
  },
  {
   "cell_type": "markdown",
   "id": "777cd0ee",
   "metadata": {},
   "source": [
    "join() è un metodo  delle stringhe (stringa_separatore.join(lista_da_unire)) che prende in ingresso una lista di stringhe e dà in output una stringa composta da tutti gli elementi della lista separati dalla stringa usata per chiamare il metodo"
   ]
  },
  {
   "cell_type": "markdown",
   "id": "45509efc",
   "metadata": {},
   "source": [
    "La funzione index() trova l'indice di un elemento in una lista, pe rle stringhe invece è giusto usare find() -> indicca l'indice da cui parte la sottostringa"
   ]
  },
  {
   "cell_type": "code",
   "execution_count": 17,
   "id": "d0d67086",
   "metadata": {},
   "outputs": [
    {
     "name": "stdout",
     "output_type": "stream",
     "text": [
      "9\n"
     ]
    }
   ],
   "source": [
    "print(st.find('3-4'))"
   ]
  },
  {
   "cell_type": "markdown",
   "id": "80e0a557",
   "metadata": {},
   "source": [
    "per eliminare degli spazi alla fine e all'inizio uso strip()"
   ]
  },
  {
   "cell_type": "code",
   "execution_count": 19,
   "id": "b21f4f27",
   "metadata": {},
   "outputs": [
    {
     "name": "stdout",
     "output_type": "stream",
     "text": [
      "fgdfd\n"
     ]
    }
   ],
   "source": [
    "st = '       fgdfd      '\n",
    "print(st.strip())"
   ]
  },
  {
   "cell_type": "code",
   "execution_count": 21,
   "id": "d437cdc0",
   "metadata": {},
   "outputs": [
    {
     "name": "stdout",
     "output_type": "stream",
     "text": [
      "non mi piace python\n",
      "quanto mi piace python\n"
     ]
    }
   ],
   "source": [
    "st2 = 'non mi piace python'\n",
    "print(st2)\n",
    "st2 = st2.replace('non', 'quanto')\n",
    "print(st2)"
   ]
  },
  {
   "cell_type": "markdown",
   "id": "b5d0b4eb",
   "metadata": {},
   "source": [
    "join() unisce gli elementi di una lista. Per separare i caratteri di una stringa e metterli in una lista usare split()\n",
    "vediamo l'es sotto che con il join praticamente fa questo lavoro: a+''+b+''+c+''+d"
   ]
  },
  {
   "cell_type": "code",
   "execution_count": 41,
   "id": "e14a547c",
   "metadata": {},
   "outputs": [
    {
     "name": "stdout",
     "output_type": "stream",
     "text": [
      "abcd\n",
      "a-b-c-d\n"
     ]
    }
   ],
   "source": [
    "l = ['a', 'b', 'c', 'd']\n",
    "nuova_stringa = ''.join(l)\n",
    "print(nuova_stringa)\n",
    "i = ['a', 'b', 'c', 'd']\n",
    "nuova_stringa2 = '-'.join(i)\n",
    "print(nuova_stringa2)"
   ]
  },
  {
   "cell_type": "markdown",
   "id": "4fd6a73c",
   "metadata": {},
   "source": [
    "Quando non ci sono elementi che separano, si utilizza direttam il comando list.. altrimenti devo usare split perchè devo definire qual è l'elemento separatore"
   ]
  },
  {
   "cell_type": "code",
   "execution_count": 45,
   "id": "ad1eda93",
   "metadata": {},
   "outputs": [
    {
     "name": "stdout",
     "output_type": "stream",
     "text": [
      "['a', 'b', 'c', 'd']\n",
      "['a', 'b', 'c', 'd']\n"
     ]
    }
   ],
   "source": [
    "nuova_lista = nuova_stringa2.split('-')\n",
    "print(nuova_lista)\n",
    "l2=list(nuova_stringa)\n",
    "print(l2)"
   ]
  },
  {
   "cell_type": "markdown",
   "id": "edbb3b67",
   "metadata": {},
   "source": [
    "## Le Tuple\n",
    "\n",
    "Collezioni/insiemi di oggetti di diversa natura immutabili."
   ]
  },
  {
   "cell_type": "code",
   "execution_count": 46,
   "id": "cca61b4d",
   "metadata": {},
   "outputs": [
    {
     "name": "stdout",
     "output_type": "stream",
     "text": [
      "('ciao', 'a', 'tutti', 'i', 'presenti')\n"
     ]
    }
   ],
   "source": [
    "t = ('ciao', 'a', 'tutti', 'i', 'presenti' )\n",
    "print(t)"
   ]
  },
  {
   "cell_type": "markdown",
   "id": "50645f49",
   "metadata": {},
   "source": [
    "Per accedere ad un elemento della tupla è possibile usare l'indice, come per le liste e stringhe"
   ]
  },
  {
   "cell_type": "code",
   "execution_count": 47,
   "id": "0a69f49e",
   "metadata": {},
   "outputs": [
    {
     "data": {
      "text/plain": [
       "'tutti'"
      ]
     },
     "execution_count": 47,
     "metadata": {},
     "output_type": "execute_result"
    }
   ],
   "source": [
    "t[2]"
   ]
  },
  {
   "cell_type": "code",
   "execution_count": 48,
   "id": "0df291a1",
   "metadata": {},
   "outputs": [
    {
     "name": "stdout",
     "output_type": "stream",
     "text": [
      "tutti ('ciao', 'a', 'tutti') presenti\n"
     ]
    }
   ],
   "source": [
    "print(t[2], t[:3], t[-1])"
   ]
  },
  {
   "cell_type": "code",
   "execution_count": 49,
   "id": "c361b086",
   "metadata": {},
   "outputs": [
    {
     "name": "stdout",
     "output_type": "stream",
     "text": [
      "impossibile modificare il valore di una tupla perchè immutabile\n"
     ]
    }
   ],
   "source": [
    "try:\n",
    "    t[0] = 'Buongiorno'\n",
    "except:\n",
    "    print('impossibile modificare il valore di una tupla perchè immutabile')"
   ]
  },
  {
   "cell_type": "markdown",
   "id": "70135975",
   "metadata": {},
   "source": [
    "Puntatori vs memoria. In pyhton i puntatori possono esser eriutilizzati indefinite volte facendoli puntare a porzioni di memoria sempre diverse).\n",
    "Quando si parla di immutabilità dunque non ci si riferisce al puntatore, ma alla porzione di memoria allocata. "
   ]
  },
  {
   "cell_type": "code",
   "execution_count": null,
   "id": "40022143",
   "metadata": {},
   "outputs": [],
   "source": [
    "s = 'ciao'\n",
    "try:\n",
    "    s[0] = 'x'\n",
    "except:\n",
    "    print('stringhe immutabili')\n",
    "    s=[1]\n",
    "    s[0]=2\n",
    "    print('liste immutabili')\n",
    "    \n",
    "s=('a')\n",
    "try:\n",
    "    s[0] ="
   ]
  },
  {
   "cell_type": "markdown",
   "id": "537b3b40",
   "metadata": {},
   "source": [
    "#### Operatore interessante d ausare su insiemi"
   ]
  },
  {
   "cell_type": "markdown",
   "id": "1016bdaa",
   "metadata": {},
   "source": [
    "Il comando in mi definisce una operazione booleana, mi restituisce true o false se l'elemento richiesto appartiene all'insieme "
   ]
  },
  {
   "cell_type": "code",
   "execution_count": 55,
   "id": "d427e440",
   "metadata": {},
   "outputs": [
    {
     "name": "stdout",
     "output_type": "stream",
     "text": [
      "in usato per le tuple False True\n",
      "in usato per le liste False True\n",
      "1491625\n",
      "inusato per le stringhe True True False\n"
     ]
    }
   ],
   "source": [
    "t = (1,4,9,16,25)\n",
    "print('in usato per le tuple', 5 in t, 25 in t)\n",
    "\n",
    "l=[n for n in t]\n",
    "print('in usato per le liste', 5 in l, 25 in l)\n",
    "\n",
    "s=''.join([str(n) for n in t])\n",
    "print(s)\n",
    "print('inusato per le stringhe', '5' in s, '25' in s, '7' in s)"
   ]
  },
  {
   "cell_type": "markdown",
   "id": "1e67ad24",
   "metadata": {},
   "source": [
    "Per inizializzare una tupla contenente un solo elemento ad esempio il numero 1, è necessario includere nella dichiarazione una virgola. In caso contrario le parentesi verranno interpretate come una espressione e non come dichiarazione"
   ]
  },
  {
   "cell_type": "code",
   "execution_count": 58,
   "id": "f093d8c3",
   "metadata": {},
   "outputs": [
    {
     "name": "stdout",
     "output_type": "stream",
     "text": [
      "1 <class 'int'>\n",
      "(1,) <class 'tuple'>\n"
     ]
    }
   ],
   "source": [
    "non_tupla=(1)\n",
    "print(non_tupla, type(non_tupla))\n",
    "\n",
    "tupla_solitaria=(1, )\n",
    "print(tupla_solitaria, type(tupla_solitaria))\n"
   ]
  },
  {
   "cell_type": "markdown",
   "id": "d4d6a722",
   "metadata": {},
   "source": [
    "Trucco per modificare una tupla senza rompere le regole: è sempre possibile operare converisoni tra molti tipi di dato in python (es tupla->lista)"
   ]
  },
  {
   "cell_type": "code",
   "execution_count": 62,
   "id": "55d77339",
   "metadata": {},
   "outputs": [
    {
     "name": "stdout",
     "output_type": "stream",
     "text": [
      "[0, 1, 2, 'x', 4, 5]\n",
      "(0, 1, 2, 'x', 4, 5)\n"
     ]
    }
   ],
   "source": [
    "tupla=(0,1,2,3,4,5) #vogliamo sostituire il 3\n",
    "l=list(tupla)\n",
    "l[3]='x'\n",
    "print(l)\n",
    "print(tuple(l))"
   ]
  },
  {
   "cell_type": "markdown",
   "id": "d33e9c51",
   "metadata": {},
   "source": [
    "Una tupla può avere degli elementi ripetuti più volte (può conservare più occorrenze dello stesso elemento)"
   ]
  },
  {
   "cell_type": "code",
   "execution_count": 63,
   "id": "8c80ef7f",
   "metadata": {},
   "outputs": [
    {
     "data": {
      "text/plain": [
       "(0, 0, 1, 1)"
      ]
     },
     "execution_count": 63,
     "metadata": {},
     "output_type": "execute_result"
    }
   ],
   "source": [
    "tupla = (0,0,1,1)\n",
    "tupla"
   ]
  },
  {
   "cell_type": "markdown",
   "id": "f66f0777",
   "metadata": {},
   "source": [
    "## Gli insiemi (set)\n",
    "\n",
    "Come le tuple sono strutture che permettono di conservare una collezione di elementi, sono mutabili e hanno degli operatori speciali che permettono ai developers di operare.\n",
    "Provando ad inserire molteplici volte lo stesso elemento, il set conserverà solo una copia dell'elemento inserito (non tiene conto di occorrenze multiple).\n",
    "Ora vediamo i tipi di operazioni che si possono fare.\n",
    "Il set NON mantiene un ordine -> non si può accedere agli elementi tramite indice."
   ]
  },
  {
   "cell_type": "code",
   "execution_count": 65,
   "id": "682ff140",
   "metadata": {},
   "outputs": [
    {
     "name": "stdout",
     "output_type": "stream",
     "text": [
      "{0, 1}\n",
      "impossibile accedere ad un elemento dell'insieme tramite inidice\n"
     ]
    }
   ],
   "source": [
    "insieme = {0,0,1,1}\n",
    "print(insieme)\n",
    "#non posso fare insieme[0]\n",
    "try:\n",
    "    insieme[0]\n",
    "except:\n",
    "    print(\"impossibile accedere ad un elemento dell'insieme tramite inidice\")"
   ]
  },
  {
   "cell_type": "code",
   "execution_count": 66,
   "id": "0bff6e95",
   "metadata": {},
   "outputs": [
    {
     "data": {
      "text/plain": [
       "52"
      ]
     },
     "execution_count": 66,
     "metadata": {},
     "output_type": "execute_result"
    }
   ],
   "source": [
    "len('djifcudghuixowjqeriuiuiuio5487892374982hhhhhhhhhhcds')"
   ]
  },
  {
   "cell_type": "code",
   "execution_count": 70,
   "id": "377bca5d",
   "metadata": {},
   "outputs": [],
   "source": [
    "l_grande=list(range(10**5))\n",
    "s_grande=set(range(10**5))"
   ]
  },
  {
   "cell_type": "code",
   "execution_count": 72,
   "id": "202c608e",
   "metadata": {},
   "outputs": [
    {
     "name": "stdout",
     "output_type": "stream",
     "text": [
      "ricerca in lista con operatire \"in\" eseguita in  0.002001047134399414 s\n",
      "ricerca in set con operatire \"in\" eseguita in  0.0 s\n"
     ]
    }
   ],
   "source": [
    "import time\n",
    "start=time.time()\n",
    "99999 in l_grande\n",
    "end=time.time()\n",
    "print('ricerca in lista con operatire \"in\" eseguita in ', (end - start), 's')\n",
    "\n",
    "start=time.time()\n",
    "99999 in s_grande\n",
    "end=time.time()\n",
    "print('ricerca in set con operatire \"in\" eseguita in ', (end - start), 's')"
   ]
  },
  {
   "cell_type": "markdown",
   "id": "38dc7a2c",
   "metadata": {},
   "source": [
    "In python è possibile converire velocemente diversi tipi di collezioni"
   ]
  },
  {
   "cell_type": "code",
   "execution_count": 73,
   "id": "5d74cc10",
   "metadata": {},
   "outputs": [
    {
     "name": "stdout",
     "output_type": "stream",
     "text": [
      "{'t', 'u', 'o'}\n"
     ]
    }
   ],
   "source": [
    "insieme_da_str=set(\"tutto\")\n",
    "print(insieme_da_str)"
   ]
  },
  {
   "cell_type": "code",
   "execution_count": 5,
   "id": "03f7d6d9",
   "metadata": {},
   "outputs": [
    {
     "name": "stdout",
     "output_type": "stream",
     "text": [
      "{'c', 'a', 'B', 'b', 'A', 'C'}\n",
      "set()\n",
      "{'a'}\n",
      "{'c', 'b'}\n",
      "{'c', 'u', 'e', 'b', 'i', 'o'}\n"
     ]
    }
   ],
   "source": [
    "maiuscole={'A','B','C'}\n",
    "minuscole={'a','b','c'}\n",
    "\n",
    "print(maiuscole | minuscole) #-->unione\n",
    "\n",
    "vocali_minuscole={'a','e','i','o','u'}\n",
    "\n",
    "print(maiuscole & minuscole) #-->intersezione\n",
    "print(minuscole & vocali_minuscole)\n",
    "\n",
    "print(minuscole - vocali_minuscole) #--> differenza\n",
    "\n",
    "print(minuscole ^ vocali_minuscole) #--> xor unione dei due meno intersezione dei due"
   ]
  },
  {
   "cell_type": "markdown",
   "id": "a3f08ad7",
   "metadata": {},
   "source": [
    "set comprehension (a livello di logica è analogo al list comprehension"
   ]
  },
  {
   "cell_type": "code",
   "execution_count": 4,
   "id": "3ff152a6",
   "metadata": {},
   "outputs": [
    {
     "name": "stdout",
     "output_type": "stream",
     "text": [
      "{0, 1, 64, 4, 36, 9, 16, 49, 81, 25}\n"
     ]
    }
   ],
   "source": [
    "set_quadrati = {n**2 for n in range(10)}\n",
    "print(set_quadrati)"
   ]
  },
  {
   "cell_type": "code",
   "execution_count": null,
   "id": "b99db6d3",
   "metadata": {},
   "outputs": [],
   "source": []
  }
 ],
 "metadata": {
  "kernelspec": {
   "display_name": "Python 3 (ipykernel)",
   "language": "python",
   "name": "python3"
  },
  "language_info": {
   "codemirror_mode": {
    "name": "ipython",
    "version": 3
   },
   "file_extension": ".py",
   "mimetype": "text/x-python",
   "name": "python",
   "nbconvert_exporter": "python",
   "pygments_lexer": "ipython3",
   "version": "3.10.7"
  }
 },
 "nbformat": 4,
 "nbformat_minor": 5
}
