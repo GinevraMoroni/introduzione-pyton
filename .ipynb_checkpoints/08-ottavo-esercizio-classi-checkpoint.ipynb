{
 "cells": [
  {
   "cell_type": "markdown",
   "id": "8450d90e",
   "metadata": {},
   "source": [
    "### all() and any()\n",
    "\n",
    "Funz di built in che hanno un ritorno booleano.\n",
    "\n",
    "1. All prende in ingresso una collezione di booleani e ritorna True se TUTTI sono True\n",
    "2. Any prende in ingresso una collezione di booleani e ritorna True se ALMENO UNO è True"
   ]
  },
  {
   "cell_type": "code",
   "execution_count": 1,
   "id": "ebf11f0c",
   "metadata": {},
   "outputs": [],
   "source": [
    "def is_primo(n):\n",
    "    i=2\n",
    "    if n == 1 or n==2:\n",
    "        return True\n",
    "    while i < n :\n",
    "        if n % i == 0:\n",
    "            return False\n",
    "            i+=1\n",
    "        else:\n",
    "            return True"
   ]
  },
  {
   "cell_type": "code",
   "execution_count": 2,
   "id": "f2bd2472",
   "metadata": {},
   "outputs": [],
   "source": [
    "assert all([is_primo(n) for n in [2,3,5,7,19,23]])\n",
    "assert not all ([is_primo(n) for n in [2,3,5,7,19,23,4]])\n",
    "\n",
    "assert any([is_primo(n) for n in [4,6,8,9,11]])"
   ]
  },
  {
   "cell_type": "markdown",
   "id": "318e5073",
   "metadata": {},
   "source": [
    "### Le classi in python \n",
    "\n",
    "Ci permettono di definire ed usare strutture di dati che contengpono variabili e funz.\n",
    "(keyword) class (nome classe) Persona (due punti) :\n",
    "\n",
    "NB i nomi delle classi per convenzione sono con la lettera maiuscola"
   ]
  },
  {
   "cell_type": "code",
   "execution_count": 3,
   "id": "4e14b468",
   "metadata": {},
   "outputs": [],
   "source": [
    "class Persona:\n",
    "    pass"
   ]
  },
  {
   "cell_type": "code",
   "execution_count": 4,
   "id": "47f0a731",
   "metadata": {},
   "outputs": [
    {
     "data": {
      "text/plain": [
       "['__class__',\n",
       " '__delattr__',\n",
       " '__dict__',\n",
       " '__dir__',\n",
       " '__doc__',\n",
       " '__eq__',\n",
       " '__format__',\n",
       " '__ge__',\n",
       " '__getattribute__',\n",
       " '__gt__',\n",
       " '__hash__',\n",
       " '__init__',\n",
       " '__init_subclass__',\n",
       " '__le__',\n",
       " '__lt__',\n",
       " '__module__',\n",
       " '__ne__',\n",
       " '__new__',\n",
       " '__reduce__',\n",
       " '__reduce_ex__',\n",
       " '__repr__',\n",
       " '__setattr__',\n",
       " '__sizeof__',\n",
       " '__str__',\n",
       " '__subclasshook__',\n",
       " '__weakref__']"
      ]
     },
     "execution_count": 4,
     "metadata": {},
     "output_type": "execute_result"
    }
   ],
   "source": [
    "dir(Persona)"
   ]
  },
  {
   "cell_type": "markdown",
   "id": "06d26d41",
   "metadata": {},
   "source": [
    "### Istanziare una classe\n",
    "\n",
    "Per creare una nuova istanza di una nuova persona:"
   ]
  },
  {
   "cell_type": "code",
   "execution_count": 5,
   "id": "d56195ad",
   "metadata": {},
   "outputs": [
    {
     "data": {
      "text/plain": [
       "__main__.Persona"
      ]
     },
     "execution_count": 5,
     "metadata": {},
     "output_type": "execute_result"
    }
   ],
   "source": [
    "mario=Persona()\n",
    "type(mario) "
   ]
  },
  {
   "cell_type": "markdown",
   "id": "135fce24",
   "metadata": {},
   "source": [
    "Le classi costituiscono tipi.\n",
    "\n",
    "Se provo a printare mario c'è una mancanza di rappresentazione stringa: viene usata solo quella di default. Esce quindi l'ogg e il suo spazio in memoria"
   ]
  },
  {
   "cell_type": "code",
   "execution_count": 6,
   "id": "e779a537",
   "metadata": {},
   "outputs": [
    {
     "name": "stdout",
     "output_type": "stream",
     "text": [
      "<__main__.Persona object at 0x000002B607CE6950>\n"
     ]
    }
   ],
   "source": [
    "print(mario)"
   ]
  },
  {
   "cell_type": "markdown",
   "id": "24432668",
   "metadata": {},
   "source": [
    "è possibile assegnare degli attributi (variabili) ad una classe. Le classi rappresenrtano \"ogg\" della vita reale. ex una oersona è caratterizzata da Nome, Cognome, Email...\n",
    "\n",
    "La quantità di attributi che dichiariamo in una classe è proporzionale a quanto dettagliatamente vogliamo descrivere l'oggetto.\n",
    "\n",
    "Ogni funz all'interno di una classe deve avere come primo argomento una parola chiave di python che si chiama self (e indica se stessa)"
   ]
  },
  {
   "cell_type": "code",
   "execution_count": 7,
   "id": "3ace58ce",
   "metadata": {},
   "outputs": [],
   "source": [
    "class Persona:\n",
    "    \"\"\"\n",
    "    quando dichiariamo una classe è convenzione def un metodo speciale che \n",
    "    descrive gli attributi. Questo metodo speciale si chiama __init__\n",
    "    Di default la funz __init__ di una nuova classe è vuota, noi quindi\n",
    "    la ridefiniamo per metterci gli attributi che vogliamo sovrascrivendola\n",
    "    \"\"\"\n",
    "    def __init__(self, nome, cognome, email, anno_nascita=1900):\n",
    "        self.nome = nome\n",
    "        self.cognome = cognome\n",
    "        self.email = email\n",
    "        self.anno_nascita = anno_nascita\n",
    "    \n",
    "    \"\"\"\n",
    "    La funz __str__ viene implicitamente chiamata da print.\n",
    "    Print stampa il valore stringa ritornato da __str__\n",
    "    \"\"\"\n",
    "    def __str__(self):\n",
    "        return 'Nome: ' + self.nome + ', Cognome: ' + self.cognome + ', mail: ' + self.email + ', Anno: ' + str(self.anno_nascita)"
   ]
  },
  {
   "cell_type": "code",
   "execution_count": 8,
   "id": "e291fd4f",
   "metadata": {},
   "outputs": [
    {
     "data": {
      "text/plain": [
       "{'nome': 'Valentina', 'cognome': 'Verdi'}"
      ]
     },
     "execution_count": 8,
     "metadata": {},
     "output_type": "execute_result"
    }
   ],
   "source": [
    "#per capire meglio la quesione del self\n",
    "#sembra uguale al this in java \n",
    "\n",
    "persona={}\n",
    "persona['nome']='Valentina'\n",
    "persona['cognome']='Verdi'\n",
    "persona"
   ]
  },
  {
   "cell_type": "markdown",
   "id": "013b8c27",
   "metadata": {},
   "source": [
    "Devo mettere le stringe dentro persona perchè in questo moedo sto chiamando in modo corretto la funzione di init (saltando self perchè è implicito). Per sapere cosa c'è dentro pesona e quindi quali attributi servono basta help(Persona)"
   ]
  },
  {
   "cell_type": "code",
   "execution_count": 9,
   "id": "e39482c5",
   "metadata": {},
   "outputs": [
    {
     "name": "stdout",
     "output_type": "stream",
     "text": [
      "Mario Rossi fie@fewfg\n"
     ]
    }
   ],
   "source": [
    "mario = Persona('Mario','Rossi','fie@fewfg', 1900)\n",
    "print(mario.nome, mario.cognome, mario.email)"
   ]
  },
  {
   "cell_type": "code",
   "execution_count": 10,
   "id": "5c7e674b",
   "metadata": {},
   "outputs": [
    {
     "name": "stdout",
     "output_type": "stream",
     "text": [
      "Nome: Mario, Cognome: Rossi, mail: fie@fewfg, Anno: 1900\n"
     ]
    }
   ],
   "source": [
    "mario.__str__()\n",
    "mario.anno_nascita = 1900\n",
    "print(mario)"
   ]
  },
  {
   "cell_type": "markdown",
   "id": "3a14c114",
   "metadata": {},
   "source": [
    "Dato vs Informazione\n",
    "\n",
    "Il dato è slegato da un valore semantico, l'informazione porta con se un valore semantico.\n",
    "\n",
    "Il dato è un atomo di informazione: il dato concorre alla creazione di una info. ex l'età è una info in quanto è elaborata a partire dalla data odierna (DATO) e la data di nascita (DATO).\n",
    "Nelle basi di dati non ci vanno info.\n",
    "\n",
    "Le info sono soggette al cambiamento rispetto ai dati.\n",
    "\n",
    "Come avviene nei DB, anche le classi dovrebbero contenere (all'interno dei loro attributi) solo dati. Con la differenza che le classi possono esporre delle funz per produrre delle info a partire dai  loro stessi dati."
   ]
  },
  {
   "cell_type": "code",
   "execution_count": 11,
   "id": "2389327d",
   "metadata": {},
   "outputs": [],
   "source": [
    "import datetime"
   ]
  },
  {
   "cell_type": "code",
   "execution_count": 12,
   "id": "6eedc17e",
   "metadata": {},
   "outputs": [],
   "source": [
    "class Utente:\n",
    "    \"\"\"\n",
    "    Classe che rappres l'utente di una piattaforma social.\n",
    "    La policy della compagnia prevede che all'iscrizione l'utente \n",
    "    abbia almeno 16 anni.\n",
    "    \"\"\"\n",
    "    def __init__(self, nome, cognome, data_nascita):\n",
    "        self.nome=nome\n",
    "        self.cognome=cognome\n",
    "        self.data_nascita=data_nascita  \n",
    "    \"\"\"\n",
    "    è corretto salvare la data di nascita in quanto immutabile.\n",
    "    I dati si leggono.\n",
    "    Non sarebbe corretto salvare gli anni in un attributo in quanto\n",
    "    rappresentano un'info. Le info si calcolano.\n",
    "    \"\"\"\n",
    "    def get_eta(self):\n",
    "        t=datetime.date.today()\n",
    "        anni=int((t-self.data_nascita).days/365)\n",
    "        return anni\n",
    "        \n",
    "    def __str__(self):\n",
    "        return self.nome + ' ' + self.cognome + ', età: ' + str(self.get_eta()) + ' anni'"
   ]
  },
  {
   "cell_type": "code",
   "execution_count": 13,
   "id": "61d858e4",
   "metadata": {},
   "outputs": [
    {
     "data": {
      "text/plain": [
       "26"
      ]
     },
     "execution_count": 13,
     "metadata": {},
     "output_type": "execute_result"
    }
   ],
   "source": [
    "dir(datetime.date)\n",
    "t=datetime.date.today()\n",
    "g=datetime.date(1995,10,19)\n",
    "anni=int((t-g).days/365)\n",
    "anni"
   ]
  },
  {
   "cell_type": "code",
   "execution_count": 14,
   "id": "71c189ca",
   "metadata": {},
   "outputs": [
    {
     "name": "stdout",
     "output_type": "stream",
     "text": [
      "Ste Marzo, età: 26 anni\n"
     ]
    }
   ],
   "source": [
    "io = Utente('Ste','Marzo', datetime.date(1995,10,19))\n",
    "io.get_eta()\n",
    "\n",
    "print(io)"
   ]
  },
  {
   "cell_type": "markdown",
   "id": "55d8afdd",
   "metadata": {},
   "source": [
    "Altro es di dato e info. Dato: temperatura min e max del giorno, info: la media delle temperature"
   ]
  },
  {
   "cell_type": "markdown",
   "id": "87a07b9a",
   "metadata": {},
   "source": [
    "### Ex\n",
    "\n",
    "1. Creare una funz che restituisca una data random dati in ingresso gli anni. 26 -> data a caso tra 01/01/1995 al 27/09/1995\n",
    "\n",
    "2. Data una lista di 10 nomi e 10 cognomi, creare 10 istanze di Utente inizializzate con date di nascita random in modo tale che gli utenti abbiano un'età compresa tra 15 e 20 anni.\n",
    "\n",
    "3. Calcolare la media dell'età"
   ]
  },
  {
   "cell_type": "code",
   "execution_count": 15,
   "id": "22079b3e",
   "metadata": {},
   "outputs": [],
   "source": [
    "import calendar\n",
    "import random\n",
    "import datetime\n",
    "\n",
    "\n",
    "def random_data(anni):\n",
    "    \n",
    "    rnd_giorno = random.randint(1, 365)\n",
    "    rnd_mese = random.randint(1, 12)\n",
    "    \n",
    "    if rnd_mese < datetime.date.today().month:\n",
    "\n",
    "        anno = datetime.date.today().year - anni\n",
    "        mese = random.randint(1, datetime.date.today().month)\n",
    "        giorno = random.randint(1, datetime.date.today().day-1)\n",
    "            \n",
    "    elif rnd_mese == datetime.date.today().month:\n",
    "        \n",
    "        if rnd_giorno > datetime.date.today().day:\n",
    "            anno = datetime.date.today().year - anni -1\n",
    "            mese = random.randint(datetime.date.today().month, 12)\n",
    "            ultimo_giorno = calendar.monthrange(anno, mese)[1]\n",
    "            giorno = random.randint(datetime.date.today().day, ultimo_giorno)\n",
    "    else:\n",
    "        anno = datetime.date.today().year - anni -1\n",
    "        mese = random.randint(rnd_mese, 12)\n",
    "        ultimo_giorno = calendar.monthrange(anno, mese)[1]\n",
    "        giorno = random.randint(1, ultimo_giorno)\n",
    "            \n",
    "    return datetime.date(anno, mese, giorno)"
   ]
  },
  {
   "cell_type": "code",
   "execution_count": 16,
   "id": "a81592d2",
   "metadata": {},
   "outputs": [
    {
     "data": {
      "text/plain": [
       "datetime.date(1993, 9, 21)"
      ]
     },
     "execution_count": 16,
     "metadata": {},
     "output_type": "execute_result"
    }
   ],
   "source": [
    "random_data(29)"
   ]
  },
  {
   "cell_type": "code",
   "execution_count": 17,
   "id": "0772f29b",
   "metadata": {},
   "outputs": [],
   "source": [
    "nomi=['Ginevra','Martina','Aldo','Silvia','Giacomo','Enrico','Eugenia','Francesco','Nicola','Mark']\n",
    "cognomi=['Verdi','Rossi','Bianchi','Blui','Gialli','Neri','Azzurri','Arancioni','Marroni','Grigi']\n",
    "anni=random.randint(15,20)"
   ]
  },
  {
   "cell_type": "code",
   "execution_count": 18,
   "id": "dad4c354",
   "metadata": {},
   "outputs": [
    {
     "name": "stdout",
     "output_type": "stream",
     "text": [
      "Ginevra Verdi, età: 16 anni\n",
      "Martina Rossi, età: 20 anni\n",
      "Aldo Bianchi, età: 17 anni\n",
      "Silvia Blui, età: 18 anni\n",
      "Giacomo Gialli, età: 19 anni\n",
      "Enrico Neri, età: 20 anni\n",
      "Eugenia Azzurri, età: 15 anni\n",
      "Francesco Arancioni, età: 15 anni\n",
      "Nicola Marroni, età: 16 anni\n",
      "Mark Grigi, età: 17 anni\n"
     ]
    }
   ],
   "source": [
    "utenti=[]\n",
    "\n",
    "for nome, cognome in zip(nomi,cognomi):\n",
    "    anni=random.randint(15,20)\n",
    "    data= random_data(anni)\n",
    "    utenti.append(Utente(nome, cognome, data))\n",
    "\n",
    "for u in utenti:\n",
    "    print(u)"
   ]
  },
  {
   "cell_type": "code",
   "execution_count": 19,
   "id": "ae93fea4",
   "metadata": {},
   "outputs": [
    {
     "name": "stdout",
     "output_type": "stream",
     "text": [
      "Ginevra Verdi, età: 18 anni\n",
      "Martina Rossi, età: 20 anni\n",
      "Aldo Bianchi, età: 15 anni\n",
      "Silvia Blui, età: 18 anni\n",
      "Giacomo Gialli, età: 15 anni\n",
      "Enrico Neri, età: 17 anni\n",
      "Eugenia Azzurri, età: 17 anni\n",
      "Francesco Arancioni, età: 19 anni\n",
      "Nicola Marroni, età: 19 anni\n",
      "Mark Grigi, età: 17 anni\n"
     ]
    }
   ],
   "source": [
    "utenti2 = [Utente(nome, cognome, random_data(random.randint(15,20))) for nome, cognome in zip(nomi,cognomi)]\n",
    "for u in utenti2:\n",
    "    print(u)"
   ]
  },
  {
   "cell_type": "markdown",
   "id": "e46b4d1e",
   "metadata": {},
   "source": [
    "Abbiamo fatto una distinzione tra dati grezzi e informazioni che sono l'output di un calcolo che prevede dati. Alle volte è comodo poter rappresentare certe info COME SE fossero dati (nella forma di attributo di una classe). La funzione di built-in __property__ ha questo scopo."
   ]
  },
  {
   "cell_type": "code",
   "execution_count": 20,
   "id": "e90e6b17",
   "metadata": {},
   "outputs": [
    {
     "data": {
      "text/plain": [
       "32"
      ]
     },
     "execution_count": 20,
     "metadata": {},
     "output_type": "execute_result"
    }
   ],
   "source": [
    "io.get_eta()\n",
    "Utente.eta = property(Utente.get_eta)\n",
    "tu=Utente('Marco', 'Fumagalli', datetime.date(1990,9,29))\n",
    "tu.eta"
   ]
  },
  {
   "cell_type": "code",
   "execution_count": 21,
   "id": "23efa245",
   "metadata": {},
   "outputs": [
    {
     "data": {
      "text/plain": [
       "17.3"
      ]
     },
     "execution_count": 21,
     "metadata": {},
     "output_type": "execute_result"
    }
   ],
   "source": [
    "avg = lambda numeri: sum(numeri)/len(numeri)\n",
    "avg([u.get_eta() for u in utenti])"
   ]
  },
  {
   "cell_type": "code",
   "execution_count": 22,
   "id": "034d616f",
   "metadata": {},
   "outputs": [
    {
     "data": {
      "text/plain": [
       "[16, 20, 17, 18, 19, 20, 15, 15, 16, 17]"
      ]
     },
     "execution_count": 22,
     "metadata": {},
     "output_type": "execute_result"
    }
   ],
   "source": [
    "[u.get_eta() for u in utenti]"
   ]
  },
  {
   "cell_type": "markdown",
   "id": "a7d86a77",
   "metadata": {},
   "source": [
    "Definizione di funz tradizionale:\n",
    "\n",
    "$f(x) = y$\n",
    "\n",
    "Definizione di §Lambda function:\n",
    "\n",
    "$f : x \\rightarrow y$\n",
    "\n",
    "Notazione diversa, stesso significato"
   ]
  },
  {
   "cell_type": "markdown",
   "id": "f961c0a7",
   "metadata": {},
   "source": [
    "### Ereditarietà\n",
    "\n",
    "Molto spesso, in un modello computazionale, esistono diversi entità relazionate in qualche modo tra loro.\n",
    "\n",
    "Oltre alle relazioni di \"appartenenza\" (1 -1, 1- n, n - n) possono esistere delle relaz di \"parentela\".\n",
    "\n",
    "Una classe può ereditare proprietà da un'altra classe genitore/parente.\n",
    "\n",
    "Ex tutti i mezzi di trasporto hanno una velocità massima (che è un aproprietà, un dato/attributo)\n",
    "\n",
    "Creo un modello di MezzoDiTrasporto\n",
    "\n",
    "Le automobili a combustione hanno una proprietà che è \"capacità_serbatoio\"\n",
    "I treni non hanno la proprietà \"capacità_serbatoio\"\n",
    "\n",
    "Nonostante le diversità condividono comunque la proprietà \"velocità_massima\""
   ]
  },
  {
   "cell_type": "code",
   "execution_count": 23,
   "id": "435ffc55",
   "metadata": {},
   "outputs": [],
   "source": [
    "class MezziDiTrasporto:\n",
    "    def __init__(self, vel_max):\n",
    "        self.vel_max = vel_max\n",
    "    \n",
    "class Automobile:\n",
    "    def __init__(self, vel_max, capienza_serbatoio):\n",
    "        self.vel_max = vel_max\n",
    "        self.capienza_serbatoio = capienza_serbatoio\n",
    "    \n",
    "class Treno:\n",
    "    def __init__(self, vel_max, numero_vagoni):\n",
    "        self.vel_max = vel_max\n",
    "        self.numero_vagoni = numero_vagoni"
   ]
  },
  {
   "cell_type": "markdown",
   "id": "010d1ede",
   "metadata": {},
   "source": [
    "Questo es ci fa nbotare quanto sia scomodo e ridondante ripetere il codice. Al posto di ripetere codice usiamo degli strumenti per indicare esplicitamente una relazione di parantela tra diverse classi.\n",
    "\n",
    "Usiamo la super() (che è funz di built-in) per riferirci alla classe genitore."
   ]
  },
  {
   "cell_type": "code",
   "execution_count": 24,
   "id": "123ca584",
   "metadata": {},
   "outputs": [],
   "source": [
    "class MezziDiTrasporto:\n",
    "    def __init__(self, vel_max):\n",
    "        self.vel_max = vel_max #oppure self.set_vel_max(vel_max)\n",
    "        \n",
    "    def __str__(self):\n",
    "        return 'Sono un mezzo di trasporto'\n",
    "    \"\"\"\n",
    "    I prossmi metodi si chiamano getter e setter\n",
    "    \"\"\"\n",
    "    def set_vel_max(self, new_vel):\n",
    "        if new_vel < 0:\n",
    "            self.vel_max = 0\n",
    "        else:\n",
    "            self.vel_max = new_vel\n",
    "        \n",
    "    def get_vel_max(self):\n",
    "        if self.vel_max == 0:\n",
    "            print('La velocità massima non è settata correttamente')\n",
    "        return self.vel_max\n",
    "    \n",
    "    \"\"\"\n",
    "    In assenza di un setter, le proprietà sono da considerarsi read-only\n",
    "    \"\"\"\n",
    "    vel = property(get_vel_max, set_vel_max)\n",
    "    \n",
    "class Automobile(MezziDiTrasporto):\n",
    "    def __init__(self, vel_max, capienza_serbatoio):\n",
    "        super().__init__(vel_max)\n",
    "        self.capienza_serbatoio = capienza_serbatoio\n",
    "        \n",
    "    def __str__(self):\n",
    "        return super().__str__() + \" Sono anche un'automobile\"\n",
    "    \n",
    "class Treno(MezziDiTrasporto):\n",
    "    def __init__(self, vel_max, numero_vagoni):\n",
    "        super().__init__(vel_max)\n",
    "        self.numero_vagoni = numero_vagoni"
   ]
  },
  {
   "cell_type": "code",
   "execution_count": 25,
   "id": "a7f84f2a",
   "metadata": {},
   "outputs": [
    {
     "name": "stdout",
     "output_type": "stream",
     "text": [
      "20\n",
      "10\n"
     ]
    }
   ],
   "source": [
    "mdt = MezziDiTrasporto(20)\n",
    "print(mdt.vel)\n",
    "\n",
    "#con property è anche possibile indicare una funz di setter \n",
    "#per modificare il valore\n",
    "\n",
    "mdt.vel = 10\n",
    "print(mdt.vel)"
   ]
  },
  {
   "cell_type": "markdown",
   "id": "5c4734a6",
   "metadata": {},
   "source": [
    "In questo caso sarebbe inutile usare la property perchè basterebbe usare l'attributo direttamente (usop di \"vel_max\" al posto di usare \"vel\")"
   ]
  },
  {
   "cell_type": "code",
   "execution_count": 26,
   "id": "477dab6e",
   "metadata": {},
   "outputs": [
    {
     "name": "stdout",
     "output_type": "stream",
     "text": [
      "10\n",
      "100\n"
     ]
    }
   ],
   "source": [
    "print(mdt.vel_max)\n",
    "mdt.vel_max = 100\n",
    "print(mdt.vel)"
   ]
  },
  {
   "cell_type": "markdown",
   "id": "12798726",
   "metadata": {},
   "source": [
    "In molti casi il set di un asttributo dovrebbe esswere possibile solo se il nuovo valore soddisfa determinati requisiti. Ex la vel_max può essere negativa? NO\n",
    "\n",
    "I setter sono funzioni, quindi ci permettono di eseguire blocchi -> più istruzioni"
   ]
  },
  {
   "cell_type": "code",
   "execution_count": 28,
   "id": "444159de",
   "metadata": {},
   "outputs": [
    {
     "name": "stdout",
     "output_type": "stream",
     "text": [
      "La velocità massima non è settata correttamente\n"
     ]
    },
    {
     "data": {
      "text/plain": [
       "0"
      ]
     },
     "execution_count": 28,
     "metadata": {},
     "output_type": "execute_result"
    }
   ],
   "source": [
    "mdt.vel = -10\n",
    "mdt.vel"
   ]
  },
  {
   "cell_type": "markdown",
   "id": "a8e185f7",
   "metadata": {},
   "source": [
    "### Metodi speciali di comparazione delle classi"
   ]
  },
  {
   "cell_type": "code",
   "execution_count": 29,
   "id": "92ee3be1",
   "metadata": {},
   "outputs": [
    {
     "data": {
      "text/plain": [
       "False"
      ]
     },
     "execution_count": 29,
     "metadata": {},
     "output_type": "execute_result"
    }
   ],
   "source": [
    "u_1=Utente('stefano','marzo', datetime.date(1995,10,19))\n",
    "u_2=Utente('stefano','marzo', datetime.date(1995,10,19))\n",
    "\n",
    "u_1==u_2"
   ]
  },
  {
   "cell_type": "code",
   "execution_count": 48,
   "id": "49d33071",
   "metadata": {},
   "outputs": [
    {
     "data": {
      "text/plain": [
       "True"
      ]
     },
     "execution_count": 48,
     "metadata": {},
     "output_type": "execute_result"
    }
   ],
   "source": [
    "class Admin(Utente):\n",
    "    def __eq__(self,altro): #funzione equals\n",
    "        return self.nome == altro.nome  and self.cognome == altro.cognome and self.data_nascita == altro.data_nascita\n",
    "\n",
    "    def __gt__(self, altro): #funzione grater than\n",
    "        return self.cognome > altro.cognome if self.cognome != altro.cognome else self.nome > altro.nome if self.nome != altro.nome else self.data_nascita < altro.data_nascita\n",
    "    \n",
    "a1 = Admin('stefano','marzo', datetime.date(1995,10,19))\n",
    "a2 = Admin('stefano','marzo', datetime.date(1995,10,19))\n",
    "\n",
    "a1==a2"
   ]
  },
  {
   "cell_type": "markdown",
   "id": "30816087",
   "metadata": {},
   "source": [
    "eq è metodo wrapper dell'=, cioè un operatore semplice può essere usato per l'esecuzione di una funz più complessa."
   ]
  },
  {
   "cell_type": "code",
   "execution_count": 51,
   "id": "379fe065",
   "metadata": {},
   "outputs": [
    {
     "name": "stdout",
     "output_type": "stream",
     "text": [
      "Mario Rossi, età: 62 anni\n",
      "Mario Rossi, età: 48 anni\n",
      "Andrea Verdi, età: 60 anni\n",
      "Maria Bianchi, età: 33 anni\n",
      "Lorenzo Bianchi, età: 44 anni\n"
     ]
    }
   ],
   "source": [
    "admins=[\n",
    "    Admin(n,c,datetime.date(random.randrange(1960,1990), 1, 1))\n",
    "    for n,c \n",
    "    in [('Mario','Rossi'),('Mario','Rossi'),('Andrea','Verdi'),('Maria','Bianchi'),('Lorenzo','Bianchi')]\n",
    "]\n",
    "for a in admins:\n",
    "    print(a)"
   ]
  },
  {
   "cell_type": "code",
   "execution_count": 52,
   "id": "16974b6f",
   "metadata": {},
   "outputs": [
    {
     "name": "stdout",
     "output_type": "stream",
     "text": [
      "Lorenzo Bianchi, età: 44 anni\n",
      "Maria Bianchi, età: 33 anni\n",
      "Mario Rossi, età: 48 anni\n",
      "Mario Rossi, età: 62 anni\n",
      "Andrea Verdi, età: 60 anni\n"
     ]
    }
   ],
   "source": [
    "dir(admins)\n",
    "admins.sort()\n",
    "for a in admins:\n",
    "    print(a)"
   ]
  },
  {
   "cell_type": "markdown",
   "id": "fe1b548a",
   "metadata": {},
   "source": [
    "### EX su mcd e mcm (doppia o in generale)"
   ]
  },
  {
   "cell_type": "code",
   "execution_count": 53,
   "id": "ccd02408",
   "metadata": {},
   "outputs": [],
   "source": [
    "def is_primo(n):  \n",
    "    return [x for x in range(2,n) if n%x==0]==[]\n",
    "\n",
    "\n",
    "\n",
    "def genera_primi(n):  \n",
    "    return [x for x in range(2,n) if is_primo(x)]\n",
    "\n",
    "\n",
    "\n",
    "def fattori(n):\n",
    "    fattori=genera_primi(n)  \n",
    "    if is_primo(n):\n",
    "        return [[n,1]]\n",
    "    res=[]  \n",
    "    resto=n\n",
    "    for f in fattori:  \n",
    "        temp=[f,0]\n",
    "        while resto%f==0:\n",
    "            resto=resto/f\n",
    "            temp=[f,temp[1]+1]\n",
    "        if temp[1]!=0:\n",
    "            res.append(temp)   \n",
    "    return res  "
   ]
  },
  {
   "cell_type": "code",
   "execution_count": 54,
   "id": "60540928",
   "metadata": {},
   "outputs": [
    {
     "name": "stdout",
     "output_type": "stream",
     "text": [
      "MCD è: 5\n",
      "mcm è: 450\n"
     ]
    }
   ],
   "source": [
    "a=90\n",
    "b=25\n",
    "\n",
    "\n",
    "\n",
    "divisori_a=[n for n in range(1,a+1) if a%n==0]\n",
    "divisori_b=[n for n in range(1,b+1) if b%n==0]   \n",
    "divisori_comuni=[n for n in divisori_a if n in divisori_b]\n",
    "mcd=divisori_comuni[-1]\n",
    "print(f'MCD è: {mcd}')\n",
    "\n",
    "\n",
    "\n",
    "fattori_a={f[0]:f[1] for f in fattori(a)}\n",
    "fattori_b={f[0]:f[1] for f in fattori(b)}  \n",
    "fatt=[(f,e) for (f,e) in fattori_a.items() if f not in fattori_b.keys() or e>= fattori_b[f]]  \n",
    "all_fatt=fatt+[(f,e) for (f,e) in fattori_b.items() if f not in fattori_a.keys() or e> fattori_a[f]]\n",
    "\n",
    "\n",
    "\n",
    "       \n",
    "        \n",
    "mcm=1\n",
    "for f,e in all_fatt:  \n",
    "    mcm*=(f**e)  \n",
    "    \n",
    "print(f'mcm è: {mcm}')"
   ]
  },
  {
   "cell_type": "code",
   "execution_count": 55,
   "id": "7230e5e0",
   "metadata": {},
   "outputs": [
    {
     "name": "stdout",
     "output_type": "stream",
     "text": [
      "MCD è 1 e mcm è 1547\n"
     ]
    }
   ],
   "source": [
    "def mcd_mcm(*numeri):  \n",
    "    \n",
    "    divisori=[]  \n",
    "    divisori_comune=[]\n",
    "    \n",
    "    for num in numeri:\n",
    "        divisori.append([n for n in range(1,num+1) if num%n==0])  \n",
    "        \n",
    "    divisori_comuni=set(divisori[0])\n",
    "    for i in range(len(divisori)-1):\n",
    "        divisori_comuni=divisori_comuni&set(divisori[i+1])\n",
    "    mcd=max(divisori_comuni)  \n",
    "    \n",
    "    fattori_comuni={}\n",
    "    for num in numeri:  \n",
    "        #print(fattori(num))\n",
    "        fs={f[0]:f[1] for f in fattori(num)}\n",
    "        for f,e in fs.items():\n",
    "            if f not in fattori_comuni.keys() or e> fattori_comuni[f] :  \n",
    "                fattori_comuni[f]=e\n",
    "    mcm=1\n",
    "    for f,e in fattori_comuni.items():  \n",
    "        mcm*=(f**e)\n",
    "        \n",
    "    return mcd,mcm\n",
    "\n",
    "\n",
    "\n",
    "mcd,mcm=mcd_mcm(13,17,91)\n",
    "print(f'MCD è {mcd} e mcm è {mcm}')"
   ]
  },
  {
   "cell_type": "code",
   "execution_count": null,
   "id": "e4531c2b",
   "metadata": {},
   "outputs": [],
   "source": []
  }
 ],
 "metadata": {
  "kernelspec": {
   "display_name": "Python 3 (ipykernel)",
   "language": "python",
   "name": "python3"
  },
  "language_info": {
   "codemirror_mode": {
    "name": "ipython",
    "version": 3
   },
   "file_extension": ".py",
   "mimetype": "text/x-python",
   "name": "python",
   "nbconvert_exporter": "python",
   "pygments_lexer": "ipython3",
   "version": "3.10.7"
  }
 },
 "nbformat": 4,
 "nbformat_minor": 5
}
