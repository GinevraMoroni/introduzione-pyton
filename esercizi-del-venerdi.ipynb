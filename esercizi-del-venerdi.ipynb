{
 "cells": [
  {
   "cell_type": "markdown",
   "id": "c0b5cc97",
   "metadata": {},
   "source": [
    "## ESERCIZI\n",
    "\n",
    "lista = [1, 2, 4, 3, 2, 4, 5]. Voglio una lista degli elementi non duplicati."
   ]
  },
  {
   "cell_type": "code",
   "execution_count": 1,
   "id": "53156f49",
   "metadata": {},
   "outputs": [
    {
     "name": "stdout",
     "output_type": "stream",
     "text": [
      "[1, 2, 4, 3, 5]\n"
     ]
    }
   ],
   "source": [
    "lista = [1, 2, 4, 3, 2, 4, 5]\n",
    "unici=[]\n",
    "\n",
    "for l in lista:\n",
    "    if l not in unici:\n",
    "        unici.append(l)\n",
    "\n",
    "print(unici)"
   ]
  },
  {
   "cell_type": "code",
   "execution_count": 2,
   "id": "779964cc",
   "metadata": {},
   "outputs": [
    {
     "data": {
      "text/plain": [
       "[1, 2, 3, 4, 5]"
      ]
     },
     "execution_count": 2,
     "metadata": {},
     "output_type": "execute_result"
    }
   ],
   "source": [
    "list(set(lista))"
   ]
  },
  {
   "cell_type": "markdown",
   "id": "4405b507",
   "metadata": {},
   "source": [
    "lista = [1, 2, 4, 3, 2, 4, 5, 5]. Voglio prendere il secondo numero più alto"
   ]
  },
  {
   "cell_type": "code",
   "execution_count": 3,
   "id": "890e5f4b",
   "metadata": {},
   "outputs": [
    {
     "data": {
      "text/plain": [
       "4"
      ]
     },
     "execution_count": 3,
     "metadata": {},
     "output_type": "execute_result"
    }
   ],
   "source": [
    "lista = [1, 2, 4, 3, 2, 4, 5, 5]\n",
    "l = list(set(lista))\n",
    "massimo=l[-2]\n",
    "massimo\n",
    "#questo però non è il più corretto perchè il set non è ordinato"
   ]
  },
  {
   "cell_type": "code",
   "execution_count": 4,
   "id": "cba02513",
   "metadata": {},
   "outputs": [
    {
     "name": "stdout",
     "output_type": "stream",
     "text": [
      "[1, 2, 3, 4, 5, 6, 7, 11, 20]\n",
      "11\n"
     ]
    }
   ],
   "source": [
    "#lista = [1, 2, 4, 3, 2, 4, 5, 5, 6,6, 7]\n",
    "lista = [7,6,6,11,20,5,5,4,2,3,4,2,1]\n",
    "l = list(set(lista))\n",
    "print(l)\n",
    "massimo=max(l)\n",
    "secondo=[]\n",
    "for num in l:\n",
    "    if num<massimo:\n",
    "        secondo.append(num)\n",
    "print(max(secondo))"
   ]
  },
  {
   "cell_type": "code",
   "execution_count": 119,
   "id": "5f585034",
   "metadata": {},
   "outputs": [
    {
     "name": "stdout",
     "output_type": "stream",
     "text": [
      "Il numero non è palindromo\n"
     ]
    }
   ],
   "source": [
    "n=123454321\n",
    "m=str(n)\n",
    "def palindromo(n):\n",
    "    m=str(n)\n",
    "    for i,_ in enumerate(m):\n",
    "        if m[i]!=m[-(i+1)]:\n",
    "            print('Il numero non è palindromo')\n",
    "            return\n",
    "            \n",
    "    print('il numero è palindromo')\n",
    "    return\n",
    "\n",
    "palindromo(n)"
   ]
  },
  {
   "cell_type": "code",
   "execution_count": 121,
   "id": "2b61b138",
   "metadata": {},
   "outputs": [
    {
     "data": {
      "text/plain": [
       "True"
      ]
     },
     "execution_count": 121,
     "metadata": {},
     "output_type": "execute_result"
    }
   ],
   "source": [
    "n=123454321\n",
    "m=str(n)\n",
    "m==m[::-1]"
   ]
  },
  {
   "cell_type": "markdown",
   "id": "763a5744",
   "metadata": {},
   "source": [
    "Crea una lista con tutti i valori fino a 200 divisibili per 3 ma non multipli di 5. Quanti elementi sono presenti? Qual è l'85° elemento?"
   ]
  },
  {
   "cell_type": "code",
   "execution_count": 48,
   "id": "cd30b8ca",
   "metadata": {},
   "outputs": [
    {
     "name": "stdout",
     "output_type": "stream",
     "text": [
      "[3, 6, 9, 12, 18, 21, 24, 27, 33, 36, 39, 42, 48, 51, 54, 57, 63, 66, 69, 72, 78, 81, 84, 87, 93, 96, 99, 102, 108, 111, 114, 117, 123, 126, 129, 132, 138, 141, 144, 147, 153, 156, 159, 162, 168, 171, 174, 177, 183, 186, 189, 192, 198]\n"
     ]
    },
    {
     "data": {
      "text/plain": [
       "53"
      ]
     },
     "execution_count": 48,
     "metadata": {},
     "output_type": "execute_result"
    }
   ],
   "source": [
    "numeri=[]\n",
    "\n",
    "for n in range(201):\n",
    "    if n%3==0 and n%5!=0:\n",
    "        numeri.append(n)\n",
    "\"\"\"\n",
    "for i in numeri:\n",
    "    if i%5==0:\n",
    "        numeri.remove(i)\n",
    "\"\"\"\n",
    "print(numeri)\n",
    "len(numeri)"
   ]
  },
  {
   "cell_type": "markdown",
   "id": "45d6982e",
   "metadata": {},
   "source": [
    "funzione. in base al num che inserisco esce un alberello con quelle linee\n",
    "\n",
    "f(2) \n",
    "\n",
    "   `*`\n",
    "  \n",
    "  `***`\n",
    " \n",
    "`*****`"
   ]
  },
  {
   "cell_type": "code",
   "execution_count": 76,
   "id": "7e87b818",
   "metadata": {},
   "outputs": [
    {
     "name": "stdout",
     "output_type": "stream",
     "text": [
      "    \n",
      "   *\n",
      "  ***\n",
      " *****\n",
      "*******\n"
     ]
    }
   ],
   "source": [
    "def albero(n):\n",
    "    x='*'\n",
    "    for r in range(n+1):\n",
    "        print(' '*(n-r) + x*(2*r-1))\n",
    "        \n",
    "albero(4)"
   ]
  },
  {
   "cell_type": "markdown",
   "id": "7d50e9c5",
   "metadata": {},
   "source": [
    "Trasformare le lettere minuscole di una stringa in maiuscole e viceversa.\n",
    "\n",
    "ex MannaGG -> mANNAgg\n",
    "\n",
    "2AAsssssJiM -> 2aaSSSSSjIm\n",
    "\n"
   ]
  },
  {
   "cell_type": "code",
   "execution_count": 99,
   "id": "adc9fa70",
   "metadata": {},
   "outputs": [
    {
     "name": "stdout",
     "output_type": "stream",
     "text": [
      "mANN£Agg4\n"
     ]
    }
   ],
   "source": [
    "def maiusc_min(s):\n",
    "    frase=''\n",
    "    for i in s:\n",
    "        if i.islower():\n",
    "            maiu=i.upper()\n",
    "            frase += maiu\n",
    "        else:\n",
    "            minu=i.lower()\n",
    "            frase += minu\n",
    "    return frase\n",
    "        \n",
    "s='Mann£aGG4'\n",
    "print(maiusc_min(s))"
   ]
  },
  {
   "cell_type": "code",
   "execution_count": 90,
   "id": "b34b11ad",
   "metadata": {},
   "outputs": [
    {
     "data": {
      "text/plain": [
       "'ab'"
      ]
     },
     "execution_count": 90,
     "metadata": {},
     "output_type": "execute_result"
    }
   ],
   "source": [
    "x='a'\n",
    "y='b'\n",
    "x+y"
   ]
  },
  {
   "cell_type": "code",
   "execution_count": 103,
   "id": "2d07b202",
   "metadata": {},
   "outputs": [
    {
     "data": {
      "text/plain": [
       "'mANN£Agg4'"
      ]
     },
     "execution_count": 103,
     "metadata": {},
     "output_type": "execute_result"
    }
   ],
   "source": [
    "s='Mann£aGG4'\n",
    "lista=[i.upper() if i.islower() else i.lower() for i in s]\n",
    "''.join(lista)"
   ]
  },
  {
   "cell_type": "markdown",
   "id": "97dca4e2",
   "metadata": {},
   "source": [
    "data una lista di numeri, creare una lista che al posto i ha la moltiplicazione di tutti gli elementi tranne alla posizione i\n",
    "\n",
    "[1, 2, 3] -> [6,3,2]"
   ]
  },
  {
   "cell_type": "code",
   "execution_count": null,
   "id": "2ae8501d",
   "metadata": {},
   "outputs": [],
   "source": []
  }
 ],
 "metadata": {
  "kernelspec": {
   "display_name": "Python 3 (ipykernel)",
   "language": "python",
   "name": "python3"
  },
  "language_info": {
   "codemirror_mode": {
    "name": "ipython",
    "version": 3
   },
   "file_extension": ".py",
   "mimetype": "text/x-python",
   "name": "python",
   "nbconvert_exporter": "python",
   "pygments_lexer": "ipython3",
   "version": "3.10.7"
  }
 },
 "nbformat": 4,
 "nbformat_minor": 5
}
