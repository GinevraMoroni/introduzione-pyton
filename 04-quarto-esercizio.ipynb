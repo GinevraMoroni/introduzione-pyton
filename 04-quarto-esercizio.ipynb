{
 "cells": [
  {
   "cell_type": "markdown",
   "id": "8a42de21",
   "metadata": {},
   "source": [
    "### I dizionari\n",
    "\n",
    "Sono strutture dat in grado di associare un valore ad una key.\n",
    "\n",
    "Le keys appartengono ad un SET (non possono esserci due chiavi uguali), i valori invece appartengono ad una LIST (quindi possono ripetersi). La struttura del dizionario prevede nome_variabile[nome_key]=valore.\n",
    "\n",
    "I dizionari permettono accesso al set di tutte le chiavi con il .keys() .\n",
    "\n",
    "Per es creiamo un modello in cui associamo ad ogni città il suo stato (usiamo dict() che sta per dictionary)"
   ]
  },
  {
   "cell_type": "code",
   "execution_count": 7,
   "id": "f8165e1a",
   "metadata": {},
   "outputs": [
    {
     "name": "stdout",
     "output_type": "stream",
     "text": [
      "{'Roma': 'Italia', 'Napoli': 'Italia', 'Barcelona': 'Spagna'}\n"
     ]
    },
    {
     "data": {
      "text/plain": [
       "dict_keys(['Roma', 'Napoli', 'Barcelona'])"
      ]
     },
     "execution_count": 7,
     "metadata": {},
     "output_type": "execute_result"
    }
   ],
   "source": [
    "elenco_citta = dict()\n",
    "elenco_citta['Roma'] = 'Italia'\n",
    "elenco_citta['Napoli'] = 'Italia'\n",
    "elenco_citta['Barcelona'] = 'Spagna'\n",
    "print(elenco_citta)\n",
    "\n",
    "elenco_citta.keys()"
   ]
  },
  {
   "cell_type": "markdown",
   "id": "fa481bb0",
   "metadata": {},
   "source": [
    "Si possono sovrascrivere gli elementi delle liste.. non le chiavi"
   ]
  },
  {
   "cell_type": "code",
   "execution_count": 5,
   "id": "0c8e41a9",
   "metadata": {},
   "outputs": [
    {
     "name": "stdout",
     "output_type": "stream",
     "text": [
      "{'Roma': 'Francia', 'Napolo': 'Italia', 'Barcelona': 'Spagna'}\n"
     ]
    },
    {
     "data": {
      "text/plain": [
       "dict_keys(['Roma', 'Napolo', 'Barcelona'])"
      ]
     },
     "execution_count": 5,
     "metadata": {},
     "output_type": "execute_result"
    }
   ],
   "source": [
    "elenco_citta['Roma']= 'Francia'\n",
    "print(elenco_citta)\n",
    "\n",
    "elenco_citta.keys()"
   ]
  },
  {
   "cell_type": "markdown",
   "id": "0b3b825d",
   "metadata": {},
   "source": [
    "Avendo un elenco di città è possibile ricavare lo stato di appartenenza"
   ]
  },
  {
   "cell_type": "code",
   "execution_count": 13,
   "id": "7fa2fb1f",
   "metadata": {},
   "outputs": [
    {
     "name": "stdout",
     "output_type": "stream",
     "text": [
      "Italia\n",
      "Italia\n",
      "['Roma', 'Napoli', 'Barcelona']\n",
      "['Italia', 'Italia', 'Spagna']\n"
     ]
    }
   ],
   "source": [
    "lista_citta = ['Roma', 'Napoli', 'Barcelona']\n",
    "print(elenco_citta[lista_citta[0]]) #analogo a\n",
    "print(elenco_citta['Roma'])\n",
    "\n",
    "print([citta for citta in lista_citta]) #--> così ci da le chiavi in lista_città\n",
    "print([elenco_citta[citta] for citta in lista_citta]) #--> così invece ci da la lista (cioè i valori associati)"
   ]
  },
  {
   "cell_type": "code",
   "execution_count": 15,
   "id": "6d868b39",
   "metadata": {},
   "outputs": [
    {
     "data": {
      "text/plain": [
       "dict_values(['Italia', 'Italia', 'Spagna'])"
      ]
     },
     "execution_count": 15,
     "metadata": {},
     "output_type": "execute_result"
    }
   ],
   "source": [
    "elenco_citta.values()"
   ]
  },
  {
   "cell_type": "markdown",
   "id": "4d6eca47",
   "metadata": {},
   "source": [
    "Ottenere una lista di stati contenuti in elenco_citta corrispondenti solo a città che hanno all'interno del proprio nome la lettera 'r'"
   ]
  },
  {
   "cell_type": "code",
   "execution_count": 43,
   "id": "e38dae89",
   "metadata": {},
   "outputs": [
    {
     "name": "stdout",
     "output_type": "stream",
     "text": [
      "['Spagna']\n"
     ]
    }
   ],
   "source": [
    "print([elenco_citta[citta] for citta in elenco_citta if 'r' in citta])"
   ]
  },
  {
   "cell_type": "markdown",
   "id": "1759d521",
   "metadata": {},
   "source": [
    "Inizializzare un dizionario con valori"
   ]
  },
  {
   "cell_type": "code",
   "execution_count": 44,
   "id": "b08bc9c8",
   "metadata": {},
   "outputs": [
    {
     "name": "stdout",
     "output_type": "stream",
     "text": [
      "{'key_1': 'value_1', 'key_2': 'value_2'}\n"
     ]
    }
   ],
   "source": [
    "d = {\n",
    "    \"key_1\": \"value_1\",\n",
    "    \"key_2\": \"value_2\"\n",
    "}\n",
    "print(d)"
   ]
  },
  {
   "cell_type": "code",
   "execution_count": 45,
   "id": "6932b4c0",
   "metadata": {},
   "outputs": [
    {
     "name": "stdout",
     "output_type": "stream",
     "text": [
      "{'key_2': 'value_2'}\n"
     ]
    }
   ],
   "source": [
    "del d['key_1']\n",
    "print(d)"
   ]
  },
  {
   "cell_type": "markdown",
   "id": "8915f405",
   "metadata": {},
   "source": [
    "Dictionary comprehension\n",
    "\n",
    "Rigiro un dizionario inveretendo keys e values"
   ]
  },
  {
   "cell_type": "code",
   "execution_count": 47,
   "id": "0688edba",
   "metadata": {},
   "outputs": [
    {
     "name": "stdout",
     "output_type": "stream",
     "text": [
      "{'value_1': 'key_1', 'value_2': 'key_2'}\n"
     ]
    }
   ],
   "source": [
    "d = {\n",
    "    \"key_1\": \"value_1\",\n",
    "    \"key_2\": \"value_2\"\n",
    "}\n",
    "d_inv = {value: key for key, value in d.items()}\n",
    "print(d_inv)"
   ]
  },
  {
   "cell_type": "code",
   "execution_count": 48,
   "id": "becf6435",
   "metadata": {},
   "outputs": [
    {
     "data": {
      "text/plain": [
       "dict_items([('key_1', 'value_1'), ('key_2', 'value_2')])"
      ]
     },
     "execution_count": 48,
     "metadata": {},
     "output_type": "execute_result"
    }
   ],
   "source": [
    "d.items()"
   ]
  },
  {
   "cell_type": "markdown",
   "id": "d7a713bd",
   "metadata": {},
   "source": [
    "Creare un dizionario con i nomi delle città maiuscole"
   ]
  },
  {
   "cell_type": "code",
   "execution_count": 51,
   "id": "04399721",
   "metadata": {},
   "outputs": [
    {
     "name": "stdout",
     "output_type": "stream",
     "text": [
      "{'Roma': 'ITALIA', 'Napoli': 'ITALIA', 'Barcelona': 'SPAGNA'}\n"
     ]
    },
    {
     "data": {
      "text/plain": [
       "{'ITALIA', 'SPAGNA'}"
      ]
     },
     "execution_count": 51,
     "metadata": {},
     "output_type": "execute_result"
    }
   ],
   "source": [
    "elenco_CITTA={k : v.upper() for k, v in elenco_citta.items()}\n",
    "print(elenco_CITTA)\n",
    "\n",
    "{v.upper() for k,v in elenco_citta.items()}"
   ]
  },
  {
   "cell_type": "code",
   "execution_count": null,
   "id": "ad939a3e",
   "metadata": {},
   "outputs": [],
   "source": []
  }
 ],
 "metadata": {
  "kernelspec": {
   "display_name": "Python 3 (ipykernel)",
   "language": "python",
   "name": "python3"
  },
  "language_info": {
   "codemirror_mode": {
    "name": "ipython",
    "version": 3
   },
   "file_extension": ".py",
   "mimetype": "text/x-python",
   "name": "python",
   "nbconvert_exporter": "python",
   "pygments_lexer": "ipython3",
   "version": "3.10.7"
  }
 },
 "nbformat": 4,
 "nbformat_minor": 5
}
