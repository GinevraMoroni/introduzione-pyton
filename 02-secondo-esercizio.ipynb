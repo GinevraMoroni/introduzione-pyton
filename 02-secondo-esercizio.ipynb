{
 "cells": [
  {
   "cell_type": "markdown",
   "id": "f45c797a",
   "metadata": {},
   "source": [
    "# Strutture dati\n",
    "\n",
    "In molti casi è necessario conservare in una sola variabile un insieme di elementi, in questo caso si possono usre strutture di dati come le LISTE."
   ]
  },
  {
   "cell_type": "code",
   "execution_count": 1,
   "id": "9b0ad6f5",
   "metadata": {},
   "outputs": [],
   "source": [
    "elenco = [1,3,5,7,9, 1.5, -4.8, 'ciao']"
   ]
  },
  {
   "cell_type": "markdown",
   "id": "b33af4b7",
   "metadata": {},
   "source": [
    "Le liste possono contenere oggetti appartenenti a diversi tipi di dato, come es interi e strighe o addirittura altre liste.\n",
    "Per accedere ad uno degli elementi della lista possiamo usare il cosiddetto \"indice della lista\" indicato come numero racchiuso nelle parentesi quadre che segue il nome della variabile"
   ]
  },
  {
   "cell_type": "code",
   "execution_count": 2,
   "id": "6fcbe15d",
   "metadata": {},
   "outputs": [
    {
     "name": "stdout",
     "output_type": "stream",
     "text": [
      "3\n"
     ]
    }
   ],
   "source": [
    "print(elenco[1])"
   ]
  },
  {
   "cell_type": "markdown",
   "id": "715d9322",
   "metadata": {},
   "source": [
    "L'indice parte sempre da 0. Se metto un indice più grande del num degli elementi della lista -1, ottengo errore di index out of bound/range (index error)."
   ]
  },
  {
   "cell_type": "code",
   "execution_count": 3,
   "id": "402c1aa5",
   "metadata": {},
   "outputs": [
    {
     "name": "stdout",
     "output_type": "stream",
     "text": [
      "index fuori dai valori consentiti\n"
     ]
    }
   ],
   "source": [
    "try:\n",
    "    print(elenco[20])\n",
    "except:\n",
    "    print('index fuori dai valori consentiti')"
   ]
  },
  {
   "cell_type": "markdown",
   "id": "36f13c59",
   "metadata": {},
   "source": [
    "In molti casi è utile sapere il numero di elementi di una lista. Ciò si può ottenere con la funzione di build in len()"
   ]
  },
  {
   "cell_type": "code",
   "execution_count": 4,
   "id": "1cba943c",
   "metadata": {},
   "outputs": [
    {
     "data": {
      "text/plain": [
       "8"
      ]
     },
     "execution_count": 4,
     "metadata": {},
     "output_type": "execute_result"
    }
   ],
   "source": [
    "len(elenco)"
   ]
  },
  {
   "cell_type": "code",
   "execution_count": 5,
   "id": "f586319a",
   "metadata": {},
   "outputs": [
    {
     "name": "stdout",
     "output_type": "stream",
     "text": [
      "ciao\n",
      "ciao\n"
     ]
    }
   ],
   "source": [
    "print(elenco[len(elenco)-1])\n",
    "print(elenco[-1])\n"
   ]
  },
  {
   "cell_type": "markdown",
   "id": "0ec3566d",
   "metadata": {},
   "source": [
    "é possibile ottenere sottoliste (sublist) utilizzando l'operatore : all'interno delle parentesi quadre.\n",
    "Il primo limite è inclusivo il secondo è esclusivo."
   ]
  },
  {
   "cell_type": "code",
   "execution_count": 6,
   "id": "a5d22752",
   "metadata": {},
   "outputs": [
    {
     "name": "stdout",
     "output_type": "stream",
     "text": [
      "[1, 3, 5]\n",
      "[1, 3, 5]\n",
      "[7, 9, 1.5, -4.8, 'ciao']\n",
      "[1, 3, 7, 9, 1.5, -4.8, 'ciao']\n"
     ]
    }
   ],
   "source": [
    "print(elenco[0:3])\n",
    "print(elenco[:3])\n",
    "print(elenco[3:])\n",
    "n = 2\n",
    "print(elenco[0:n]+elenco[n+1:])"
   ]
  },
  {
   "cell_type": "markdown",
   "id": "74d3b6a2",
   "metadata": {},
   "source": [
    "Quando manipoliamo una lista al fine di creare una sottolista usando l'operatore \":\" stiamo creando una nuova lista che è indipendente dalla lista originale, non stiamo modificando la lista originale. Siccome l'operatore \":\" crea sempre una nuova copia della lista, il modo più veloce di copiare una lista in python è il seguente"
   ]
  },
  {
   "cell_type": "code",
   "execution_count": 7,
   "id": "cc854155",
   "metadata": {},
   "outputs": [],
   "source": [
    "elenco_copia = elenco[:]"
   ]
  },
  {
   "cell_type": "markdown",
   "id": "bf54e362",
   "metadata": {},
   "source": [
    "Inoltre è possibilie definire una lista vuota"
   ]
  },
  {
   "cell_type": "code",
   "execution_count": 8,
   "id": "9295e1d1",
   "metadata": {},
   "outputs": [],
   "source": [
    "vuota = []"
   ]
  },
  {
   "cell_type": "markdown",
   "id": "f427a84f",
   "metadata": {},
   "source": [
    "è possiamo utilizzare delle funzioni per inserire in una lista un determinato elemento, concatenare le liste e fare: append, insert (inserisce elementi mettendo prima la posizione poi l'elemento), pop (elimina ultimo elemento e lo ritorna), remove (rimuoce elementi), reverse (inverte l'ordine della lista), sort (riordina la lisa, ma se ci sono tipi diversi nella lista non può farlo perchè non posso ordinare numeri e stringhe), index (ti dice in che posizione è un certo elemento)"
   ]
  },
  {
   "cell_type": "code",
   "execution_count": 9,
   "id": "ed7b234c",
   "metadata": {},
   "outputs": [
    {
     "name": "stdout",
     "output_type": "stream",
     "text": [
      "[1, 3, 5, 'python', 7, 9, 1.5, -4.8, 'ciao']\n",
      "[1, 3, 5, 'python', 7, 9, 1.5, -4.8, 'ciao', 1, 2, 3]\n",
      "[1, 3, 5, 'python', 7, 9, 1.5, -4.8, 1, 2, 3]\n",
      "[1, 3, 5, 'python', 7, 9, 1.5, -4.8, 1, 2]\n",
      "6\n",
      "['ciao', -4.8, 1.5, 9, 7, 5, 3, 1]\n",
      "qualcosa è andato storto\n",
      "[1, 3, 5, 7, 9, 1.5, -4.8, 1, 2]\n",
      "[-4.8, 1, 1, 1.5, 2, 3, 5, 7, 9]\n"
     ]
    }
   ],
   "source": [
    "elenco.insert(3, 'python')\n",
    "print(elenco)\n",
    "elenco.extend([1,2,3])\n",
    "print(elenco)\n",
    "elenco.remove('ciao')\n",
    "print(elenco)\n",
    "elenco.pop()\n",
    "print(elenco)\n",
    "print(elenco.index(1.5))\n",
    "elenco_copia.reverse()\n",
    "print(elenco_copia)\n",
    "try:\n",
    "    elenco.sort()\n",
    "except:\n",
    "    print('qualcosa è andato storto')\n",
    "elenco.remove('python')\n",
    "print(elenco)\n",
    "elenco.sort()\n",
    "print(elenco)"
   ]
  },
  {
   "cell_type": "markdown",
   "id": "d922a2fd",
   "metadata": {},
   "source": [
    "Utlizzo di range e funzioni di build in combinate"
   ]
  },
  {
   "cell_type": "code",
   "execution_count": 13,
   "id": "d5395da9",
   "metadata": {},
   "outputs": [
    {
     "name": "stdout",
     "output_type": "stream",
     "text": [
      "[0, 1, 2, 3, 4, 5, 6, 7, 8, 9]\n",
      "[0, 1, 2, 3, 4, 5, 6, 7, 8]\n",
      "36\n"
     ]
    }
   ],
   "source": [
    "print(list(range(10)))\n",
    "print(list(range(len(elenco))))\n",
    "print(sum(list(range(len(elenco)))))"
   ]
  },
  {
   "cell_type": "code",
   "execution_count": 16,
   "id": "a8c88060",
   "metadata": {},
   "outputs": [
    {
     "name": "stdout",
     "output_type": "stream",
     "text": [
      "range(0, 10)\n",
      "[10, 11, 12, 13, 14, 15, 16, 17, 18, 19, 20]\n",
      "[10, 13, 16, 19]\n"
     ]
    }
   ],
   "source": [
    "print(range(10))\n",
    "print(list(range(10,21)))\n",
    "print(list(range(10,21,3)))"
   ]
  },
  {
   "cell_type": "markdown",
   "id": "fddfe822",
   "metadata": {},
   "source": [
    "list comprehension -> ovvero sitassi per creare liste in maniera veloce ed efficiente\n",
    "Mettiamo di avere una lista contenente numeri e vogliamo ottenere una lista con gli stessi numeri ma elevata al quadrato."
   ]
  },
  {
   "cell_type": "code",
   "execution_count": 17,
   "id": "99bd6891",
   "metadata": {},
   "outputs": [
    {
     "name": "stdout",
     "output_type": "stream",
     "text": [
      "[1, 4, 9, 16, 25]\n"
     ]
    }
   ],
   "source": [
    "numeri = [1,2,3,4,5]\n",
    "quadrati = [n**2 for n in numeri]\n",
    "print(quadrati)"
   ]
  },
  {
   "cell_type": "code",
   "execution_count": 19,
   "id": "23e68eba",
   "metadata": {},
   "outputs": [
    {
     "name": "stdout",
     "output_type": "stream",
     "text": [
      "[2, 4]\n"
     ]
    }
   ],
   "source": [
    "filtro_pari = [n for n in numeri if n%2 == 0]\n",
    "print(filtro_pari)"
   ]
  },
  {
   "cell_type": "code",
   "execution_count": 20,
   "id": "504c67d6",
   "metadata": {},
   "outputs": [
    {
     "name": "stdout",
     "output_type": "stream",
     "text": [
      "[1, 1, 1, 1, 1]\n",
      "[1, 1, 1, 1, 1]\n",
      "[1, 1, 1, 1, 1]\n",
      "[1, 1, 1, 1, 1]\n",
      "[1, 1, 1, 1, 1]\n"
     ]
    }
   ],
   "source": [
    "matrice = [[1 for x in range(5)] for x in range(5)]\n",
    "for riga in matrice :\n",
    "    print(riga)"
   ]
  },
  {
   "cell_type": "markdown",
   "id": "8e4553e0",
   "metadata": {},
   "source": [
    "- prima task: salvare la dimensione della matrice in una variabile \"n\" e generare matrici di dimensione diversa a seconda del valore di n\n",
    "- seconda task: trasformare il codice facendo in modo di produrre la matrice identità di dimensione n (tutti zeri, tranne che sulla diagonale principale)\n"
   ]
  },
  {
   "cell_type": "markdown",
   "id": "737ac664",
   "metadata": {},
   "source": [
    "TASK 1"
   ]
  },
  {
   "cell_type": "code",
   "execution_count": 41,
   "id": "05e9efd9",
   "metadata": {},
   "outputs": [
    {
     "name": "stdout",
     "output_type": "stream",
     "text": [
      "5\n",
      "[1, 1, 1, 1, 1]\n",
      "[1, 1, 1, 1, 1]\n",
      "[1, 1, 1, 1, 1]\n",
      "[1, 1, 1, 1, 1]\n",
      "[1, 1, 1, 1, 1]\n"
     ]
    }
   ],
   "source": [
    "n = len(matrice)\n",
    "print(n)\n",
    "matrice_n = [[1 for x in range(n)] for x in range(n)]\n",
    "for riga in matrice_n:\n",
    "    print(riga)"
   ]
  },
  {
   "cell_type": "markdown",
   "id": "af6d13ae",
   "metadata": {},
   "source": [
    "TASK 2"
   ]
  },
  {
   "cell_type": "code",
   "execution_count": 40,
   "id": "d8232815",
   "metadata": {},
   "outputs": [
    {
     "name": "stdout",
     "output_type": "stream",
     "text": [
      "5\n",
      "[1, 0, 0, 0, 0]\n",
      "[0, 1, 0, 0, 0]\n",
      "[0, 0, 1, 0, 0]\n",
      "[0, 0, 0, 1, 0]\n",
      "[0, 0, 0, 0, 1]\n"
     ]
    }
   ],
   "source": [
    "n = len(matrice)\n",
    "print(n)\n",
    "matrice_id = [[1 if posizione == riga else 0 for posizione in range(n)] for riga in range(n)]\n",
    "for riga in matrice_id:\n",
    "    print(riga)"
   ]
  },
  {
   "cell_type": "code",
   "execution_count": null,
   "id": "743e610e",
   "metadata": {},
   "outputs": [],
   "source": []
  }
 ],
 "metadata": {
  "kernelspec": {
   "display_name": "Python 3 (ipykernel)",
   "language": "python",
   "name": "python3"
  },
  "language_info": {
   "codemirror_mode": {
    "name": "ipython",
    "version": 3
   },
   "file_extension": ".py",
   "mimetype": "text/x-python",
   "name": "python",
   "nbconvert_exporter": "python",
   "pygments_lexer": "ipython3",
   "version": "3.10.7"
  }
 },
 "nbformat": 4,
 "nbformat_minor": 5
}
