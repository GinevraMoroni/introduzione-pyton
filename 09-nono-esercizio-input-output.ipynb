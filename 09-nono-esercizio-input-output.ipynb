{
 "cells": [
  {
   "cell_type": "markdown",
   "id": "a6ac2af0",
   "metadata": {},
   "source": [
    "### Metodi e tecniche stdr per la gestione di input e output (IO)"
   ]
  },
  {
   "cell_type": "code",
   "execution_count": 1,
   "id": "420f44e7",
   "metadata": {},
   "outputs": [
    {
     "name": "stdout",
     "output_type": "stream",
     "text": [
      "Nome: Maria, Cognome: Giovanna, Mail: fhuw@fjewi\n"
     ]
    }
   ],
   "source": [
    "print('Nome: {0}, Cognome: {1}, Mail: {2}'.format('Maria','Giovanna','fhuw@fjewi'))"
   ]
  },
  {
   "cell_type": "code",
   "execution_count": 2,
   "id": "6aa5c5d5",
   "metadata": {},
   "outputs": [
    {
     "name": "stdout",
     "output_type": "stream",
     "text": [
      "Nome Ste, Cognome Marzo\n"
     ]
    }
   ],
   "source": [
    "n='Ste'\n",
    "c='Marzo'\n",
    "print(f'Nome {n}, Cognome {c}')"
   ]
  },
  {
   "cell_type": "markdown",
   "id": "63cd6481",
   "metadata": {},
   "source": [
    "### Lettura file\n",
    "\n",
    "Proviamo a leggere il nostro file prova che è un file csv (coma separated value).\n",
    "\n",
    "Usiamo il comando open per aprire il file, inseriamo il nome del fiel con anche il  .txt e poi mettiamo 'r' che significa \"leggi\".\n",
    "\n",
    "Quando si apre un file, ricordarsi poi di chiuderlo al fine dell'utilizzo con .close()"
   ]
  },
  {
   "cell_type": "code",
   "execution_count": 3,
   "id": "bf973547",
   "metadata": {},
   "outputs": [],
   "source": [
    "f = open('prova.txt', 'r')"
   ]
  },
  {
   "cell_type": "code",
   "execution_count": 4,
   "id": "69f3a581",
   "metadata": {},
   "outputs": [
    {
     "data": {
      "text/plain": [
       "'0, maria, del verdi, 1990,   08, 15\\n'"
      ]
     },
     "execution_count": 4,
     "metadata": {},
     "output_type": "execute_result"
    }
   ],
   "source": [
    "f.readline()"
   ]
  },
  {
   "cell_type": "code",
   "execution_count": 5,
   "id": "ba986cd7",
   "metadata": {},
   "outputs": [
    {
     "data": {
      "text/plain": [
       "'1, andrea, rossi, 1992, 07, 19\\n'"
      ]
     },
     "execution_count": 5,
     "metadata": {},
     "output_type": "execute_result"
    }
   ],
   "source": [
    "f.readline()"
   ]
  },
  {
   "cell_type": "code",
   "execution_count": 6,
   "id": "6f097fd4",
   "metadata": {},
   "outputs": [
    {
     "data": {
      "text/plain": [
       "'2, giovanni, gialli,    1954, 01, 30'"
      ]
     },
     "execution_count": 6,
     "metadata": {},
     "output_type": "execute_result"
    }
   ],
   "source": [
    "f.readline()"
   ]
  },
  {
   "cell_type": "code",
   "execution_count": 7,
   "id": "eaab9f67",
   "metadata": {},
   "outputs": [
    {
     "data": {
      "text/plain": [
       "''"
      ]
     },
     "execution_count": 7,
     "metadata": {},
     "output_type": "execute_result"
    }
   ],
   "source": [
    "f.readline()"
   ]
  },
  {
   "cell_type": "code",
   "execution_count": 8,
   "id": "e8e06a47",
   "metadata": {},
   "outputs": [],
   "source": [
    "f.close()"
   ]
  },
  {
   "cell_type": "code",
   "execution_count": 9,
   "id": "87520058",
   "metadata": {},
   "outputs": [],
   "source": [
    "def leggi_persone():\n",
    "    f = open('prova.txt', 'r')\n",
    "    for l in f.readlines():\n",
    "        print(l)\n",
    "    f.close()"
   ]
  },
  {
   "cell_type": "code",
   "execution_count": 10,
   "id": "fe6a6d59",
   "metadata": {},
   "outputs": [],
   "source": [
    "import datetime\n",
    "\n",
    "class Persona:\n",
    "    def __init__(self,id_persona,nome,cognome, data_nascita):\n",
    "        self.id_persona = id_persona\n",
    "        self.nome = nome\n",
    "        self.cognome = cognome\n",
    "        self.data_nascita = data_nascita\n",
    "        \n",
    "    def get_anni(self):\n",
    "        t=datetime.date.today()\n",
    "        anni=int((t-self.data_nascita).days/365)\n",
    "        return anni\n",
    "    \n",
    "    def __str__(self):\n",
    "        return f'id: {self.id_persona}, nome: {self.nome}, cognome: {self.cognome}, anni: {self.anni}'\n",
    "    \n",
    "    anni = property(get_anni)"
   ]
  },
  {
   "cell_type": "code",
   "execution_count": 11,
   "id": "d6fc2eff",
   "metadata": {},
   "outputs": [
    {
     "name": "stdout",
     "output_type": "stream",
     "text": [
      "0, maria, del verdi, 1990,   08, 15\n",
      "\n",
      "1, andrea, rossi, 1992, 07, 19\n",
      "\n",
      "2, giovanni, gialli,    1954, 01, 30\n"
     ]
    }
   ],
   "source": [
    "leggi_persone()"
   ]
  },
  {
   "cell_type": "markdown",
   "id": "f6ff4ae5",
   "metadata": {},
   "source": [
    "Dato unn file di persone CSV, ritorna una struttura dati come segue:\n",
    "[] (una lista perchè ci sono valori multipli)\n",
    "\n",
    "[\n",
    "    \n",
    "    ['id','nome','cognome',datetime.date(anno,mese,giorno)]\n",
    "    \n",
    "    ... per ogni line\n",
    "\n",
    "]"
   ]
  },
  {
   "cell_type": "code",
   "execution_count": 12,
   "id": "45ffb5fa",
   "metadata": {},
   "outputs": [
    {
     "data": {
      "text/plain": [
       "[['0', 'maria', 'del verdi', datetime.date(1990, 8, 15)],\n",
       " ['1', 'andrea', 'rossi', datetime.date(1992, 7, 19)],\n",
       " ['2', 'giovanni', 'gialli', datetime.date(1954, 1, 30)]]"
      ]
     },
     "execution_count": 12,
     "metadata": {},
     "output_type": "execute_result"
    }
   ],
   "source": [
    "def import_persona():\n",
    "    f=open('prova.txt', 'r')\n",
    "    tup=[]\n",
    "    for line in f.readlines():\n",
    "        tup +=[[s.strip() for s in line.strip().split(',')]]\n",
    "        #strip toglie eventuali spazi vuoti o a capo all'inizio e \n",
    "        #fine di una stringa\n",
    "    f.close()\n",
    "    \n",
    "    #Converto gli ultimi 3 elem in un datetime\n",
    "    \n",
    "    ret=[\n",
    "        [id_persona, nome, cognome, datetime.date(int(anno), int(mese), int(giorno))]\n",
    "        for id_persona, nome, cognome, anno, mese, giorno\n",
    "        in tup\n",
    "    ]  \n",
    "    \n",
    "    return ret\n",
    "    \n",
    "import_persona()"
   ]
  },
  {
   "cell_type": "markdown",
   "id": "a1676ca4",
   "metadata": {},
   "source": [
    "Creo una lista di oggetti di tipo Persona usando i valori contenuti in persone_grezze"
   ]
  },
  {
   "cell_type": "code",
   "execution_count": 13,
   "id": "9eabfab4",
   "metadata": {},
   "outputs": [],
   "source": [
    "persone_grezze = import_persona()\n",
    "\n",
    "persone = [\n",
    "    Persona(id,nome,cognome,data_nascita)\n",
    "    for id, nome, cognome, data_nascita\n",
    "    in persone_grezze\n",
    "]"
   ]
  },
  {
   "cell_type": "code",
   "execution_count": 14,
   "id": "921452a2",
   "metadata": {},
   "outputs": [
    {
     "name": "stdout",
     "output_type": "stream",
     "text": [
      "id: 0, nome: maria, cognome: del verdi, anni: 32\n",
      "id: 1, nome: andrea, cognome: rossi, anni: 30\n",
      "id: 2, nome: giovanni, cognome: gialli, anni: 68\n"
     ]
    }
   ],
   "source": [
    "for p in persone:\n",
    "    print(p)"
   ]
  },
  {
   "cell_type": "code",
   "execution_count": 20,
   "id": "a0c760ed",
   "metadata": {},
   "outputs": [],
   "source": [
    "def imp_pers():\n",
    "    f=open('prova.txt', 'r')\n",
    "    ret = [\n",
    "            Persona(id,nome,cognome,datetime.date(int(anno),int(mese),int(giorno)))\n",
    "            for id,nome,cognome,anno,mese,giorno\n",
    "            in [[' '.join([parola.capitalize() for parola in st.strip().split(' ')]) for st in s.split(',')] for s in f.readlines()]\n",
    "    ]\n",
    "    f.close()\n",
    "    return ret"
   ]
  },
  {
   "cell_type": "code",
   "execution_count": 21,
   "id": "1e7d98f1",
   "metadata": {},
   "outputs": [
    {
     "name": "stdout",
     "output_type": "stream",
     "text": [
      "id: 0, nome: Maria, cognome: Del Verdi, anni: 32\n",
      "id: 1, nome: Andrea, cognome: Rossi, anni: 30\n",
      "id: 2, nome: Giovanni, cognome: Gialli, anni: 68\n"
     ]
    }
   ],
   "source": [
    "for p in imp_pers():\n",
    "    print(p)"
   ]
  },
  {
   "cell_type": "code",
   "execution_count": null,
   "id": "fb32ce55",
   "metadata": {},
   "outputs": [],
   "source": []
  }
 ],
 "metadata": {
  "kernelspec": {
   "display_name": "Python 3 (ipykernel)",
   "language": "python",
   "name": "python3"
  },
  "language_info": {
   "codemirror_mode": {
    "name": "ipython",
    "version": 3
   },
   "file_extension": ".py",
   "mimetype": "text/x-python",
   "name": "python",
   "nbconvert_exporter": "python",
   "pygments_lexer": "ipython3",
   "version": "3.10.7"
  }
 },
 "nbformat": 4,
 "nbformat_minor": 5
}
