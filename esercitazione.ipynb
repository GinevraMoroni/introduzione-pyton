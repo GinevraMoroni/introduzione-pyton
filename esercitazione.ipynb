{
 "cells": [
  {
   "cell_type": "markdown",
   "id": "8123a036",
   "metadata": {},
   "source": [
    "### Espressioni ben parentesizzate\n",
    "\n",
    "Data una generica stringa contenente tutti i caratteri della tastiera, ritorna true se la stringa è ben parentesizzata, false altrimenti. \n",
    "\n",
    "Le parentesi più interne possono contenere stringhe generiche (vedi esempio sotto).\n",
    "\n",
    "I caratteri da considerarsi parentesi sono “()”, “[]”, “{}”.\n",
    "\n",
    "Nonostante ciò, la funzione deve essere scalabile ed adattarsi facilmente ad interpretare nuovi simboli di parentesi, ad esempio “<>”.\n",
    "\n",
    "Esempi di espressione ben parentesizzata: {[stringa](ben){parentesizzata}}, {{{{[str](([ben])[par])}}}}\n",
    "\n",
    "Esempi di espr. non ben parentesizzata: {[}], [[), ((())\n"
   ]
  },
  {
   "cell_type": "code",
   "execution_count": 56,
   "id": "7c13fd4b",
   "metadata": {},
   "outputs": [
    {
     "name": "stdout",
     "output_type": "stream",
     "text": [
      "{[}][[)\n"
     ]
    }
   ],
   "source": [
    "s='{[}], [[)'\n",
    "\n",
    "gr_dex=s.count('{')\n",
    "gr_sin=s.count('}')\n",
    "ton_sin=s.count('(')\n",
    "ton_dex=s.count(')')\n",
    "quad_sin=s.count('[')\n",
    "quad_dex=s.count(']')\n",
    "\n",
    "par=('{','}','[',']','(',')')\n",
    "\n",
    "for i in s[0:len(s):1]:\n",
    "    if i not in par:\n",
    "        s= s.replace(i,'')\n",
    "print(s)\n",
    "\n",
    "conto_par(s)\n",
    "\n",
    "def parentesi(s):\n",
    "    for i,c in enumerate(s):\n",
    "        if gr_dex!=gr_sin or ton_sin!=ton_dex or quad_sin!=quad_dex:   #per numero uguale di parentesi\n",
    "            return False\n",
    "        else:\n",
    "            if c=='{' and s[i+1] in (')',']'):\n",
    "                return False\n",
    "            elif c=='[' and s[i+1] in (')','}'):\n",
    "                return False\n",
    "            elif c=='(' and s[i+1] in ('}',']'):\n",
    "                return False\n",
    "    print('numero parantesi pari')\n"
   ]
  },
  {
   "cell_type": "code",
   "execution_count": 57,
   "id": "c6e2e361",
   "metadata": {},
   "outputs": [
    {
     "data": {
      "text/plain": [
       "False"
      ]
     },
     "execution_count": 57,
     "metadata": {},
     "output_type": "execute_result"
    }
   ],
   "source": [
    "parentesi(s)"
   ]
  },
  {
   "cell_type": "markdown",
   "id": "a2448b64",
   "metadata": {},
   "source": [
    "### Lambdas\n",
    "\n",
    "scrivere utilizzando più possibile lambda functions le seguenti funzioni:\n",
    "\n",
    "1. data una lista di tuple (‘nome’ ‘altezza’) -> [(‘giovanni’, 170), (‘francesca’, 171), … ]\n",
    "\n",
    "ritornare lista ordinata secondo il nome\n",
    "\n",
    "ritornare la lista ordinata secondo l’altezza\n",
    "\n",
    "ritornare lista che ordina secondo l’altezza, nel caso in cui due persone hanno stessa altezza ritornare in base al nome\n",
    "\n",
    "2. data una stringa contenente un timestamp, estrarre anno, mese, giorno, ore, minuti, secondi, ritornare in forma di dizionario:\n",
    "\n",
    "esempio: 03-10-2022,11:54:23 ->\n",
    "\n",
    "{‘anno’: 2022, ‘mese’: 10, ‘giorno’:3, ‘ore’:11, ‘minuti’:54, ‘secondi’:23}\n",
    "\n",
    "la funzione si deve adattare a diversi caratteri di separazione, da passare in ingresso:\n",
    "separatore data = ‘-’, separatore ora = ‘:’, separatore data ora = ‘,’\n",
    "\n",
    "3. estendere il programma del punto 2 in modo tale da poter interpretare correttamente qualunque formato data: YYYY-MM-DD oppure YY-MM-DD oppure MM-DD-YY, ecc…\n",
    "\n",
    "4. scrivere una funzione che identifichi stringhe palindrome\n"
   ]
  },
  {
   "cell_type": "code",
   "execution_count": 58,
   "id": "98580cb7",
   "metadata": {},
   "outputs": [
    {
     "name": "stdout",
     "output_type": "stream",
     "text": [
      "ordine secondo il nome:  [('antonio', 190), ('francesca', 170), ('giovanni', 170), ('maria', 150)]\n",
      "ordine secondo altezza:  [('maria', 150), ('francesca', 170), ('giovanni', 170), ('antonio', 190)]\n",
      "ordine secondo altezza e dopo nome:  [('maria', 150), ('francesca', 170), ('giovanni', 170), ('antonio', 190)]\n"
     ]
    }
   ],
   "source": [
    "l=[('giovanni', 170), ('francesca', 170), ('maria', 150), ('antonio', 190)]\n",
    "\n",
    "l.sort(key=lambda x:x[0])\n",
    "print('ordine secondo il nome: ',l)\n",
    "l.sort(key=lambda x:x[1])\n",
    "print('ordine secondo altezza: ',l)\n",
    "l.sort(key=lambda x:(x[1],x[0]))\n",
    "print('ordine secondo altezza e dopo nome: ', l)"
   ]
  },
  {
   "cell_type": "code",
   "execution_count": 72,
   "id": "93f02348",
   "metadata": {},
   "outputs": [
    {
     "name": "stdout",
     "output_type": "stream",
     "text": [
      "{'anno': 2022, 'mese': 10, 'giorno': 3, 'ore': 11, 'minuti': 54, 'secondi': 23}\n"
     ]
    }
   ],
   "source": [
    "l='03-10-2022,11:54:23'\n",
    "a=l.split(',')\n",
    "data=(a[0])\n",
    "ora=a[1]\n",
    "#print(data)\n",
    "#print(ora)\n",
    "data_sp=data.split('-')\n",
    "ora_sp=ora.split(':')\n",
    "lista=data_sp+ora_sp\n",
    "#print(lista)\n",
    "#-> {‘anno’: 2022, ‘mese’: 10, ‘giorno’:3, ‘ore’:11, ‘minuti’:54, ‘secondi’:23}\n",
    "\n",
    "dict_= {'anno': int(lista[2]),\n",
    "'mese': int(lista[1]),\n",
    "'giorno': int(lista[0]),\n",
    "'ore': int(lista[3]),\n",
    "'minuti': int(lista[4]),\n",
    "'secondi': int(lista[5])}\n",
    "print(dict_)\n"
   ]
  },
  {
   "cell_type": "code",
   "execution_count": 73,
   "id": "a9577be1",
   "metadata": {},
   "outputs": [],
   "source": [
    "import datetime"
   ]
  },
  {
   "cell_type": "code",
   "execution_count": 79,
   "id": "09d3b970",
   "metadata": {},
   "outputs": [
    {
     "name": "stdout",
     "output_type": "stream",
     "text": [
      "{'anno': '2022', 'mese': '10', 'giorno': '03', 'ora': '14', 'minuti': '40', 'secondi': '40'}\n",
      "{'giorno': '28', 'mese': '07', 'anno': '93', 'ora': '14', 'minuti': '40', 'secondi': '40'}\n"
     ]
    }
   ],
   "source": [
    "def data(formato, data):\n",
    "    a=data.split(',')\n",
    "    data_damod=(a[0])\n",
    "    ora_damod=a[1]\n",
    "    data_sp=data_damod.split('-')\n",
    "    ora_sp=ora_damod.split(':')\n",
    "    \n",
    "    b=formato.split(',')\n",
    "    data_form=(b[0])\n",
    "    ora_form=b[1]\n",
    "    data_sp_form=data_form.split('-')\n",
    "    ora_sp_form=ora_form.split(':')\n",
    "    \n",
    "    dizionario={}\n",
    "    \n",
    "    for i,elem in enumerate(data_sp_form):\n",
    "        if elem=='DD':\n",
    "            dizionario['giorno']=data_sp[i]\n",
    "        if elem=='MM':\n",
    "            dizionario['mese']=data_sp[i]\n",
    "        if 'Y' in elem:\n",
    "            dizionario['anno']=data_sp[i]\n",
    "\n",
    "    for i,elem in enumerate(ora_sp_form):\n",
    "        if elem=='HH':\n",
    "            dizionario['ora']=ora_sp[i]\n",
    "        if elem=='MM':\n",
    "            dizionario['minuti']=ora_sp[i]\n",
    "        if elem=='SS':\n",
    "            dizionario['secondi']=ora_sp[i]\n",
    "    \n",
    "    return dizionario\n",
    "            \n",
    "\n",
    "print(data('YYYY-MM-DD,HH:MM:SS','2022-10-03,14:40:40'))\n",
    "print(data('DD-MM-YY,HH:MM:SS','28-07-93,14:40:40'))\n"
   ]
  },
  {
   "cell_type": "code",
   "execution_count": 80,
   "id": "e8491a54",
   "metadata": {},
   "outputs": [
    {
     "name": "stdout",
     "output_type": "stream",
     "text": [
      "il numero è palindromo\n"
     ]
    }
   ],
   "source": [
    "n=123454321\n",
    "m=str(n)\n",
    "def palindromo(n):\n",
    "    m=str(n)\n",
    "    for i,_ in enumerate(m):\n",
    "        if m[i]!=m[-(i+1)]:\n",
    "            print('Il numero non è palindromo')\n",
    "            return\n",
    "            \n",
    "    print('il numero è palindromo')\n",
    "    return\n",
    "\n",
    "palindromo(n)"
   ]
  },
  {
   "cell_type": "code",
   "execution_count": 81,
   "id": "cd2d8b89",
   "metadata": {},
   "outputs": [
    {
     "data": {
      "text/plain": [
       "True"
      ]
     },
     "execution_count": 81,
     "metadata": {},
     "output_type": "execute_result"
    }
   ],
   "source": [
    "n=123454321\n",
    "m=str(n)\n",
    "m==m[::-1]"
   ]
  },
  {
   "cell_type": "markdown",
   "id": "b32e2a9e",
   "metadata": {},
   "source": [
    "Data una matrice quadrata di dimensione 2n con n intero positivo, è possibile invertire l’ordine di una riga oppure di una colonna.\n",
    "\n",
    "Invertire significa mettere tutti gli elementi di quella riga o di quella colonna in ordine inverso:\n",
    "\n",
    "1   2  3  4\n",
    "5   6  7  8\n",
    "9  10 11 12\n",
    "13 14 15 16\n",
    "\n",
    "flip della prima riga:\n",
    "\n",
    "4   3  2  1\n",
    "5   6  7  8\n",
    "9  10 11 12\n",
    "13 14 15 16\n",
    "\n",
    "ora flip della seconda colonna:\n",
    "\n",
    "4 14  2  1\n",
    "5 10  7  8\n",
    "9  6 11 12\n",
    "13 3 15 16\n",
    "\n",
    "e così via…\n",
    "\n",
    "Non c’è limite al numero di operazioni di flipping che si possono fare.\n",
    "Data una qualunque matrice quadrata di dim. 2n, ritorna la matrice ottenuta da operazioni di flipping tale che la somma di tutti gli elementi della sottomatrice di dimensione n individuata nel “quadrante” nord-ovest sia massima.\n",
    "Es.\n",
    "\n",
    "1 1 2 2\n",
    "1 1 3 3 \n",
    "2 2 4 4\n",
    "2 2 3 3\n",
    "\n",
    "ottimizzare la somma dei valori del quadrante nord-ovest:\n",
    "\n",
    "dopo opportune operazioni di flipping si ottiene\n",
    "\n",
    "3 3 2 2\n",
    "4 4 3 3\n",
    "1 1 2 2\n",
    "1 1 2 2\n",
    "\n",
    "La somma della sottomatrice è massima!"
   ]
  }
 ],
 "metadata": {
  "kernelspec": {
   "display_name": "Python 3 (ipykernel)",
   "language": "python",
   "name": "python3"
  },
  "language_info": {
   "codemirror_mode": {
    "name": "ipython",
    "version": 3
   },
   "file_extension": ".py",
   "mimetype": "text/x-python",
   "name": "python",
   "nbconvert_exporter": "python",
   "pygments_lexer": "ipython3",
   "version": "3.10.7"
  }
 },
 "nbformat": 4,
 "nbformat_minor": 5
}
